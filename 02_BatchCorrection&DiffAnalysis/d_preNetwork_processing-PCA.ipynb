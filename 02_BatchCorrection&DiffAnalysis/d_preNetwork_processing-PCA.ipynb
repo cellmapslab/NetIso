{
 "cells": [
  {
   "cell_type": "code",
   "execution_count": null,
   "id": "ecb882f3",
   "metadata": {
    "scrolled": true
   },
   "outputs": [],
   "source": [
    "library(data.table)\n",
    "library(dplyr)\n",
    "library(readxl)\n",
    "library(ggplot2)\n",
    "library(purrr)\n",
    "library(stringr)\n",
    "library(vsn)\n",
    "library(hexbin)\n",
    "library(FactoMineR)\n",
    "library(factoextra)\n",
    "library(variancePartition)\n",
    "library(tidyr)\n",
    "library(pheatmap)\n",
    "library(limma)"
   ]
  },
  {
   "cell_type": "code",
   "execution_count": null,
   "id": "8a5efa2e",
   "metadata": {},
   "outputs": [],
   "source": [
    "# Read sample infor file\n",
    "samples.info = read.table(\"/grehawi/splice-reg-prj/new-data/Diff-Analysis/combined_pheno_withCT.csv\")"
   ]
  },
  {
   "cell_type": "code",
   "execution_count": null,
   "id": "4acfa6c8",
   "metadata": {},
   "outputs": [],
   "source": [
    "# Read logCPM and batch-corrected genes and trx files\n",
    "gene.count.corrected.final = read.table(\"/grehawi/splice-reg-prj/new-data/Diff-Analysis/gene.logCPM.corrected.final.matrix\")\n",
    "trx.count.corrected.final = read.table(\"/grehawi/splice-reg-prj/new-data/Diff-Analysis/trx.logCPM.corrected.final.matrix\")"
   ]
  },
  {
   "cell_type": "code",
   "execution_count": null,
   "id": "4215aed1",
   "metadata": {},
   "outputs": [],
   "source": [
    "head(gene.count.corrected.final)"
   ]
  },
  {
   "cell_type": "code",
   "execution_count": null,
   "id": "74ff70a5",
   "metadata": {},
   "outputs": [],
   "source": [
    "head(trx.count.corrected.final)"
   ]
  },
  {
   "cell_type": "code",
   "execution_count": null,
   "id": "b3bcd480",
   "metadata": {},
   "outputs": [],
   "source": [
    "dim(gene.count.corrected.final)"
   ]
  },
  {
   "cell_type": "code",
   "execution_count": null,
   "id": "6e09211d",
   "metadata": {},
   "outputs": [],
   "source": [
    "dim(trx.count.corrected.final)"
   ]
  },
  {
   "cell_type": "code",
   "execution_count": null,
   "id": "13f2997e",
   "metadata": {},
   "outputs": [],
   "source": [
    "# histogram of gene values after batch correction\n",
    "options(repr.plot.width=10, repr.plot.height=8)\n",
    "hist(as.matrix(gene.count.corrected.final))"
   ]
  },
  {
   "cell_type": "code",
   "execution_count": null,
   "id": "e4cb6f38",
   "metadata": {},
   "outputs": [],
   "source": [
    "# histogram of trx values after batch correction\n",
    "hist(as.matrix(trx.count.corrected.final))"
   ]
  },
  {
   "cell_type": "code",
   "execution_count": null,
   "id": "5411a465",
   "metadata": {},
   "outputs": [],
   "source": [
    "samples.cases = samples.info %>% filter(ltany_di == 1)"
   ]
  },
  {
   "cell_type": "code",
   "execution_count": null,
   "id": "9eea4b96",
   "metadata": {},
   "outputs": [],
   "source": [
    "samples.controls = samples.info %>% filter(ltany_di == 0)"
   ]
  },
  {
   "cell_type": "code",
   "execution_count": null,
   "id": "5bb52ae4",
   "metadata": {},
   "outputs": [],
   "source": [
    "dim(samples.cases)"
   ]
  },
  {
   "cell_type": "code",
   "execution_count": null,
   "id": "365454ac",
   "metadata": {},
   "outputs": [],
   "source": [
    "dim(samples.controls)"
   ]
  },
  {
   "cell_type": "markdown",
   "id": "880a7be0",
   "metadata": {},
   "source": [
    "## 1. Calculate Isophorm ratios"
   ]
  },
  {
   "cell_type": "code",
   "execution_count": null,
   "id": "f0ac5400",
   "metadata": {},
   "outputs": [],
   "source": [
    "trx.genes = read.table(\"/grehawi/splice-reg-prj/data/transcriptsID-geneID.txt\")\n",
    "head(trx.genes)\n",
    "length(unique(trx.genes$transcript_id))\n",
    "length(unique(trx.genes$gene_id))"
   ]
  },
  {
   "cell_type": "code",
   "execution_count": null,
   "id": "a14db6d0",
   "metadata": {},
   "outputs": [],
   "source": [
    "#undefined ratios (0/0, when none of the isoforms of a gene were expressed) were imputed from\n",
    "#the mean ratio per isoform across individuals.\n",
    "isophorm.ratios = trx.count.corrected.final\n",
    "for (t in rownames(trx.count.corrected.final)) {\n",
    "    #extract the name of the transcript\n",
    "    trans = t\n",
    "    #get the gene id for this transcript\n",
    "    trans.gene = trx.genes[trx.genes$transcript_id == trans\n",
    "                                       , colnames(trx.genes) %in% c(\"gene_id\")]\n",
    "    if (!trans.gene %in% rownames(gene.count.corrected.final)){\n",
    "        isophorm.ratios = isophorm.ratios[!row.names(isophorm.ratios) == trans, ]\n",
    "    }\n",
    "    else{\n",
    "    #calculate the isophorm ratios: isophorm.counts/gene.counts\n",
    "        counts.gene.level = as.numeric(gene.count.corrected.final[rownames(gene.count.corrected.final) == trans.gene,])\n",
    "    \n",
    "        counts.isophorm.level = as.numeric(trx.count.corrected.final[rownames(trx.count.corrected.final) == trans,])\n",
    "    \n",
    "        ir = counts.isophorm.level/counts.gene.level\n",
    "\n",
    "        #replace NAs (0/0 divisions) with the mean ratio per isophorm across individuals\n",
    "        ir[is.na(ir)] = mean(ir, na.rm=TRUE)\n",
    "        #isophorm.ratios = rbind(isophorm.ratios, as.numeric(ir)) %>% rownames(.) <- trans\n",
    "        isophorm.ratios[rownames(isophorm.ratios) == trans, ] = ir\n",
    "    }\n",
    "}"
   ]
  },
  {
   "cell_type": "code",
   "execution_count": null,
   "id": "6fc535ff",
   "metadata": {},
   "outputs": [],
   "source": [
    "dim(isophorm.ratios)"
   ]
  },
  {
   "cell_type": "code",
   "execution_count": null,
   "id": "420fd6c2",
   "metadata": {},
   "outputs": [],
   "source": [
    "write.table(isophorm.ratios, \"/grehawi/splice-reg-prj/new-data/PreNet_processing/isoform_ratios.matrix\")"
   ]
  },
  {
   "cell_type": "code",
   "execution_count": null,
   "id": "b5fc252f",
   "metadata": {},
   "outputs": [],
   "source": [
    "isophorm.ratios = read.table(\"/grehawi/splice-reg-prj/new-data/PreNet_processing/isoform_ratios.matrix\")"
   ]
  },
  {
   "cell_type": "markdown",
   "id": "8b3d80b2",
   "metadata": {},
   "source": [
    "## 2. PCA analysis to remove outliers as a final processing step"
   ]
  },
  {
   "cell_type": "code",
   "execution_count": null,
   "id": "25ca670c",
   "metadata": {},
   "outputs": [],
   "source": [
    "IR.standarized = isophorm.ratios %>% mutate_all(~(scale(.) %>% as.vector))"
   ]
  },
  {
   "cell_type": "code",
   "execution_count": null,
   "id": "2db4892b",
   "metadata": {},
   "outputs": [],
   "source": [
    "gene.count.standarized = gene.count.corrected.final %>% mutate_all(~(scale(.) %>% as.vector))"
   ]
  },
  {
   "cell_type": "code",
   "execution_count": null,
   "id": "e189e276",
   "metadata": {},
   "outputs": [],
   "source": [
    "genes.count.cases = gene.count.standarized[, colnames(gene.count.standarized) %in% samples.cases$combined_id]"
   ]
  },
  {
   "cell_type": "code",
   "execution_count": null,
   "id": "fbaaaf81",
   "metadata": {},
   "outputs": [],
   "source": [
    "genes.count.controls = gene.count.standarized[, colnames(gene.count.standarized) %in% samples.controls$combined_id]"
   ]
  },
  {
   "cell_type": "code",
   "execution_count": null,
   "id": "6cf5f9f5",
   "metadata": {},
   "outputs": [],
   "source": [
    "dim (genes.count.cases)"
   ]
  },
  {
   "cell_type": "code",
   "execution_count": null,
   "id": "da76a95b",
   "metadata": {},
   "outputs": [],
   "source": [
    "IR.cases = IR.standarized[, colnames(IR.standarized) %in% samples.cases$combined_id]"
   ]
  },
  {
   "cell_type": "code",
   "execution_count": null,
   "id": "8c221813",
   "metadata": {},
   "outputs": [],
   "source": [
    "IR.controls = IR.standarized[, colnames(IR.standarized) %in% samples.controls$combined_id]"
   ]
  },
  {
   "cell_type": "code",
   "execution_count": null,
   "id": "a6e82169",
   "metadata": {},
   "outputs": [],
   "source": [
    "hist(as.matrix(gene.count.standarized))"
   ]
  },
  {
   "cell_type": "code",
   "execution_count": null,
   "id": "153bc139",
   "metadata": {},
   "outputs": [],
   "source": [
    "hist(as.matrix(isophorm.ratios))"
   ]
  },
  {
   "cell_type": "code",
   "execution_count": null,
   "id": "8d772db5",
   "metadata": {},
   "outputs": [],
   "source": [
    "hist(as.matrix(IR.standarized))"
   ]
  },
  {
   "cell_type": "markdown",
   "id": "638e4509",
   "metadata": {},
   "source": [
    "### 2.1 PCA on genes ( control samples )"
   ]
  },
  {
   "cell_type": "code",
   "execution_count": null,
   "id": "6a91dd8d",
   "metadata": {
    "scrolled": true
   },
   "outputs": [],
   "source": [
    "# Controls\n",
    "options(repr.plot.width=12, repr.plot.height=8)\n",
    "\n",
    "pca_controls <- PCA(\n",
    "  X = t(genes.count.controls),\n",
    "  ncp = 10,\n",
    "  graph = FALSE)\n",
    "\n",
    "fviz_pca_ind(pca_controls,\n",
    "             geom = \"text\", labelsize=2,\n",
    "             habillage = as.factor(samples.controls$plates))\n",
    "#outliers here: MUC23416_S234, MUC23424_S242, MUC23436_S254, MUC23418_S236, MUC23320_S138, MUC23344_S162, \n",
    "# X23L002691_S43, MUC23321_S139"
   ]
  },
  {
   "cell_type": "code",
   "execution_count": null,
   "id": "b20d7884-1708-4ba4-967d-e1b234e01ec5",
   "metadata": {},
   "outputs": [],
   "source": [
    "head(genes.count.controls)"
   ]
  },
  {
   "cell_type": "code",
   "execution_count": null,
   "id": "5a293fc3-bc9f-48f8-83eb-372bede76ed0",
   "metadata": {
    "scrolled": true
   },
   "outputs": [],
   "source": [
    "#stds of samples we remove\n",
    "controls_genes_outliers = c('MUC23416_S234', 'MUC23424_S242', 'MUC23436_S254', 'MUC23418_S236',\n",
    "                                'MUC23320_S138', 'MUC23344_S162', 'X23L002691_S43', 'MUC23321_S139')\n",
    "pca_controls_genes = prcomp(t(genes.count.controls), scale = FALSE)\n",
    "pc_scores <- pca_controls_genes$x\n",
    "pc_scores_df = as.data.frame(pc_scores)\n",
    "\n",
    "# Select specific samples by row index (e.g., rows 1, 5, 10)\n",
    "selected_samples <- pc_scores_df[rownames(pc_scores_df) %in% controls_genes_outliers, ]\n",
    "\n",
    "# Calculate mean and standard deviation for PC1 and PC2\n",
    "pc1_mean <- mean(pc_scores_df$PC1)\n",
    "pc1_sd <- sd(pc_scores_df$PC1)\n",
    "\n",
    "pc2_mean <- mean(pc_scores_df$PC2)\n",
    "pc2_sd <- sd(pc_scores_df$PC2)\n",
    "\n",
    "# Compute z-scores (standard deviations from the mean)\n",
    "selected_samples$PC1_zscore <- (selected_samples$PC1 - pc1_mean) / pc1_sd\n",
    "selected_samples$PC2_zscore <- (selected_samples$PC2 - pc2_mean) / pc2_sd\n",
    "\n",
    "selected_samples\n",
    "# Outlier samples are those with z-score off at least 2 from the mean on either PC1 or PC2"
   ]
  },
  {
   "cell_type": "markdown",
   "id": "4499fc4c",
   "metadata": {},
   "source": [
    "### 2.2 PCA on genes ( cases samples )"
   ]
  },
  {
   "cell_type": "code",
   "execution_count": null,
   "id": "12a24dfc",
   "metadata": {},
   "outputs": [],
   "source": [
    "# Cases\n",
    "\n",
    "options(repr.plot.width=12, repr.plot.height=8)\n",
    "\n",
    "pca_cases <- PCA(\n",
    "  X = t(genes.count.cases),\n",
    "  ncp = 10,\n",
    "  graph = FALSE)\n",
    "\n",
    "fviz_pca_ind(pca_cases,\n",
    "             geom = \"text\", labelsize=2,\n",
    "             habillage = as.factor(samples.cases$plates))\n",
    "#outliers here: MUC23251_S69, MUC23279_S97, MUC23326_S144, MUC23338_S156, MUC23213_S31, MUC23362_S180"
   ]
  },
  {
   "cell_type": "code",
   "execution_count": null,
   "id": "8af2a7b4-cbb6-4f48-95c3-5356b38905e4",
   "metadata": {},
   "outputs": [],
   "source": [
    "#stds of samples we remove\n",
    "cases_genes_outliers = c('MUC23251_S69', 'MUC23279_S97', 'MUC23326_S144', 'MUC23338_S156', 'MUC23213_S31', 'MUC23362_S180')\n",
    "pca_cases_genes = prcomp(t(genes.count.cases), scale = FALSE)\n",
    "pc_scores <- pca_cases_genes$x\n",
    "pc_scores_df = as.data.frame(pc_scores)\n",
    "\n",
    "# Select specific samples by row index (e.g., rows 1, 5, 10)\n",
    "selected_samples <- pc_scores_df[rownames(pc_scores_df) %in% cases_genes_outliers, ]\n",
    "\n",
    "# Calculate mean and standard deviation for PC1 and PC2\n",
    "pc1_mean <- mean(pc_scores_df$PC1)\n",
    "pc1_sd <- sd(pc_scores_df$PC1)\n",
    "\n",
    "pc2_mean <- mean(pc_scores_df$PC2)\n",
    "pc2_sd <- sd(pc_scores_df$PC2)\n",
    "\n",
    "# Compute z-scores (standard deviations from the mean)\n",
    "selected_samples$PC1_zscore <- (selected_samples$PC1 - pc1_mean) / pc1_sd\n",
    "selected_samples$PC2_zscore <- (selected_samples$PC2 - pc2_mean) / pc2_sd\n",
    "\n",
    "selected_samples\n",
    "# Outlier samples are those with z-score off at least 2 from the mean on either PC1 or PC2"
   ]
  },
  {
   "cell_type": "markdown",
   "id": "2b837c47",
   "metadata": {},
   "source": [
    "### 2.3 PCA on genes (cases and controls samples)"
   ]
  },
  {
   "cell_type": "code",
   "execution_count": null,
   "id": "237cc2f9",
   "metadata": {},
   "outputs": [],
   "source": [
    "# cases and controls\n",
    "\n",
    "options(repr.plot.width=12, repr.plot.height=8)\n",
    "\n",
    "pca_gene_all <- PCA(\n",
    "  X = t(gene.count.standarized),\n",
    "  ncp = 10,\n",
    "  graph = FALSE)\n",
    "\n",
    "fviz_pca_ind(pca_gene_all,\n",
    "             geom = \"text\", labelsize=2,\n",
    "             habillage = as.factor(samples.info$plates))"
   ]
  },
  {
   "cell_type": "markdown",
   "id": "723ef330",
   "metadata": {},
   "source": [
    "### 2.4 PCA on genes (cases and controls samples) after outliers filtering"
   ]
  },
  {
   "cell_type": "code",
   "execution_count": null,
   "id": "5b82eb30-5bf6-41f2-855d-6b11030bb17b",
   "metadata": {},
   "outputs": [],
   "source": [
    "gene.level.outliers = c('MUC23416_S234', 'MUC23424_S242', 'MUC23436_S254', 'MUC23418_S236', 'MUC23320_S138',\n",
    "                        'MUC23344_S162', 'X23L002691_S43', 'MUC23321_S139', 'MUC23251_S69', 'MUC23279_S97', \n",
    "                        'MUC23326_S144', 'MUC23338_S156', 'MUC23213_S31', 'MUC23362_S180')"
   ]
  },
  {
   "cell_type": "code",
   "execution_count": null,
   "id": "a13b0d98",
   "metadata": {},
   "outputs": [],
   "source": [
    "gene.count.tmp = gene.count.standarized[, !colnames(gene.count.standarized) %in% gene.level.outliers]\n",
    "samples.info.tmp = samples.info[! samples.info$combined_id %in% gene.level.outliers,]\n",
    "options(repr.plot.width=12, repr.plot.height=8)\n",
    "\n",
    "pca_gene_all <- PCA(\n",
    "  X = t(gene.count.tmp),\n",
    "  ncp = 10,\n",
    "  graph = FALSE)\n",
    "\n",
    "fviz_pca_ind(pca_gene_all,\n",
    "             geom = \"text\", labelsize=2,\n",
    "             habillage = as.factor(samples.info.tmp$plates))"
   ]
  },
  {
   "cell_type": "markdown",
   "id": "5b9d8dec",
   "metadata": {},
   "source": [
    "### 2.5 PCA on isophorms ( cases samples )"
   ]
  },
  {
   "cell_type": "code",
   "execution_count": null,
   "id": "ca44ef80",
   "metadata": {},
   "outputs": [],
   "source": [
    "#PCA based on IR\n",
    "\n",
    "options(repr.plot.width=12, repr.plot.height=8)\n",
    "\n",
    "pca_IR_cases <- PCA(\n",
    "  X = t(IR.cases),\n",
    "  ncp = 10,\n",
    "  graph = FALSE)\n",
    "\n",
    "fviz_pca_ind(pca_IR_cases,\n",
    "             geom = \"text\", labelsize=2,\n",
    "             habillage = as.factor(samples.cases$plates))\n",
    "#outliers here: MUC23411_S229, MUC23412_S230, MUC23245_S63, MUC23425_S243, MUC23423_S241,\n",
    "# MUC23409_S227, MUC23492_S310, MUC23325_S143, MUC23356_S174, MUC23460_S278, MUC23456_S274, \n",
    "# MUC23410_S228, MUC23183_S1"
   ]
  },
  {
   "cell_type": "markdown",
   "id": "66e09557",
   "metadata": {},
   "source": [
    "### 2.6 PCA on isophorms and control samples"
   ]
  },
  {
   "cell_type": "code",
   "execution_count": null,
   "id": "4a36b03f",
   "metadata": {},
   "outputs": [],
   "source": [
    "options(repr.plot.width=12, repr.plot.height=8)\n",
    "\n",
    "pca_IR_controls <- PCA(\n",
    "  X = t(IR.controls),\n",
    "  ncp = 10,\n",
    "  graph = FALSE)\n",
    "\n",
    "fviz_pca_ind(pca_IR_controls,\n",
    "             geom = \"text\", labelsize=2,\n",
    "             habillage = as.factor(samples.controls$plates))\n",
    "#outliers here: MUC23257_S75, X23L002725_S77, MUC23333_S151, MUC23416_S234, MUC23341_S159"
   ]
  },
  {
   "cell_type": "markdown",
   "id": "582c41ec",
   "metadata": {},
   "source": [
    "### 2.7 PCA on isophorms (cases and controls samples )"
   ]
  },
  {
   "cell_type": "code",
   "execution_count": null,
   "id": "0f4c26a9",
   "metadata": {},
   "outputs": [],
   "source": [
    "options(repr.plot.width=12, repr.plot.height=8)\n",
    "\n",
    "pca_IR_all <- PCA(\n",
    "  X = t(IR.standarized),\n",
    "  ncp = 10,\n",
    "  graph = FALSE)\n",
    "\n",
    "fviz_pca_ind(pca_IR_all,\n",
    "             geom = \"text\", labelsize=2,\n",
    "             habillage = as.factor(samples.info$plates))"
   ]
  },
  {
   "cell_type": "markdown",
   "id": "15563146",
   "metadata": {},
   "source": [
    "### 2.8 PCA on isoform (cases and controls) after outliers filtering"
   ]
  },
  {
   "cell_type": "code",
   "execution_count": null,
   "id": "243a24ec-7f01-4051-ba0c-94c485db5126",
   "metadata": {},
   "outputs": [],
   "source": [
    "trx.level.outliers = c('MUC23411_S229', 'MUC23412_S230', 'MUC23245_S63', 'MUC23425_S243', 'MUC23423_S241',\n",
    "                        'MUC23409_S227', 'MUC23492_S310', 'MUC23325_S143', 'MUC23356_S174', 'MUC23460_S278',\n",
    "                        'MUC23456_S274', 'MUC23410_S228', 'MUC23183_S1', 'MUC23257_S75', 'X23L002725_S77',\n",
    "                       'MUC23333_S151', 'MUC23416_S234', 'MUC23341_S159')"
   ]
  },
  {
   "cell_type": "code",
   "execution_count": null,
   "id": "2f2b2ed6",
   "metadata": {},
   "outputs": [],
   "source": [
    "IR.standarized.tmp = IR.standarized[, !colnames(IR.standarized) %in% trx.level.outliers]\n",
    "samples.info.tmp = samples.info[! samples.info$combined_id %in% trx.level.outliers,]\n",
    "options(repr.plot.width=12, repr.plot.height=8)\n",
    "\n",
    "pca_trx_all <- PCA(\n",
    "  X = t(IR.standarized.tmp),\n",
    "  ncp = 10,\n",
    "  graph = FALSE)\n",
    "\n",
    "fviz_pca_ind(pca_trx_all,\n",
    "             geom = \"text\", labelsize=2,\n",
    "             habillage = as.factor(samples.info.tmp$plates))"
   ]
  },
  {
   "cell_type": "markdown",
   "id": "2e606bea",
   "metadata": {},
   "source": [
    "### 3. Remove outliers from gene, transcript, and samples tables"
   ]
  },
  {
   "cell_type": "code",
   "execution_count": null,
   "id": "33e07440",
   "metadata": {},
   "outputs": [],
   "source": [
    "outliers = c(trx.level.outliers, gene.level.outliers)"
   ]
  },
  {
   "cell_type": "code",
   "execution_count": null,
   "id": "f72bf1c6-fd17-4235-8ec7-0f666c56de5e",
   "metadata": {},
   "outputs": [],
   "source": [
    "length(unique(outliers))"
   ]
  },
  {
   "cell_type": "code",
   "execution_count": null,
   "id": "326c11e8",
   "metadata": {},
   "outputs": [],
   "source": [
    "sample_data_final = samples.info[!samples.info$combined_id %in% outliers, ]\n",
    "IR.standarized.final = IR.standarized[, !colnames(IR.standarized) %in% outliers]\n",
    "gene.count.standarized.final = gene.count.standarized[, !colnames(gene.count.standarized) %in% outliers]"
   ]
  },
  {
   "cell_type": "code",
   "execution_count": null,
   "id": "b463b3ce",
   "metadata": {},
   "outputs": [],
   "source": [
    "dim(IR.standarized.final)\n",
    "dim(gene.count.standarized.final)"
   ]
  },
  {
   "cell_type": "code",
   "execution_count": null,
   "id": "72d13fcc",
   "metadata": {},
   "outputs": [],
   "source": [
    "# number of cases\n",
    "dim(sample_data_final[sample_data_final$ltany_di ==0,])"
   ]
  },
  {
   "cell_type": "code",
   "execution_count": null,
   "id": "649d4580",
   "metadata": {},
   "outputs": [],
   "source": [
    "# number of controls\n",
    "dim(sample_data_final[sample_data_final$ltany_di ==1,])"
   ]
  },
  {
   "cell_type": "code",
   "execution_count": null,
   "id": "4aaaba58",
   "metadata": {},
   "outputs": [],
   "source": [
    "write.table(sample_data_final, \"/grehawi/splice-reg-prj/new-data/PreNet_processing/combined_pheno_withCT_Outfiltered.csv\")\n",
    "write.table(gene.count.standarized.final, \"/grehawi/splice-reg-prj/new-data/PreNet_processing/gene_count_final.matrix\")\n",
    "write.table(IR.standarized.final, \"/grehawi/splice-reg-prj/new-data/PreNet_processing/IR_final.matrix\")"
   ]
  }
 ],
 "metadata": {
  "kernelspec": {
   "display_name": "R [conda env:r_env] *",
   "language": "R",
   "name": "conda-env-r_env-r"
  },
  "language_info": {
   "codemirror_mode": "r",
   "file_extension": ".r",
   "mimetype": "text/x-r-source",
   "name": "R",
   "pygments_lexer": "r",
   "version": "4.4.1"
  }
 },
 "nbformat": 4,
 "nbformat_minor": 5
}
