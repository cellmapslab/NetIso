{
 "cells": [
  {
   "cell_type": "code",
   "execution_count": null,
   "id": "ecb882f3",
   "metadata": {
    "scrolled": true
   },
   "outputs": [],
   "source": [
    "library(data.table)\n",
    "library(dplyr)\n",
    "library(readxl)\n",
    "library(ggplot2)\n",
    "library(purrr)\n",
    "library(stringr)\n",
    "library(sva)\n",
    "library(DESeq2)\n",
    "library(vsn)\n",
    "#library(hexbin)\n",
    "library(FactoMineR)\n",
    "library(factoextra)\n",
    "library(variancePartition)\n",
    "library(tidyr)\n",
    "library(pheatmap)\n",
    "library(limma)"
   ]
  },
  {
   "cell_type": "markdown",
   "id": "ab644644",
   "metadata": {},
   "source": [
    "# Processing of samples"
   ]
  },
  {
   "cell_type": "markdown",
   "id": "490a0a25",
   "metadata": {},
   "source": [
    "## 1. Filtering samples: remove duplicate samples, only consider strict controls (no lifetime diag), etc."
   ]
  },
  {
   "cell_type": "code",
   "execution_count": null,
   "id": "e2078864",
   "metadata": {},
   "outputs": [],
   "source": [
    "sample_data = read.table(\"/grehawi/splice-reg-prj/new-data/RNA-seq/combined-pheno.csv\")\n",
    "head(sample_data)\n",
    "dim(sample_data)"
   ]
  },
  {
   "cell_type": "code",
   "execution_count": null,
   "id": "4ba3c399",
   "metadata": {},
   "outputs": [],
   "source": [
    "length(sample_data$ID)\n",
    "length(unique(sample_data$ID))"
   ]
  },
  {
   "cell_type": "code",
   "execution_count": null,
   "id": "32f1ca27",
   "metadata": {},
   "outputs": [],
   "source": [
    "# Number of cases (old + new run)\n",
    "dim(sample_data[sample_data$ltany_di == 1, ])"
   ]
  },
  {
   "cell_type": "code",
   "execution_count": null,
   "id": "17d51e15",
   "metadata": {},
   "outputs": [],
   "source": [
    "# Number of controls (old + 37 from new run)\n",
    "dim(sample_data[sample_data$ltany_di == 0, ])"
   ]
  },
  {
   "cell_type": "code",
   "execution_count": null,
   "id": "4be5fdc7-679e-4d86-8227-de7d93d427d5",
   "metadata": {},
   "outputs": [],
   "source": [
    "# mean of total_pairs for IST study\n",
    "mean(sample_data[sample_data$sequence_run ==2, ]$total_pairs)"
   ]
  },
  {
   "cell_type": "markdown",
   "id": "8399a23c",
   "metadata": {},
   "source": [
    "## 1.1 remove duplicate samples"
   ]
  },
  {
   "cell_type": "code",
   "execution_count": null,
   "id": "dddefe8f",
   "metadata": {
    "scrolled": true
   },
   "outputs": [],
   "source": [
    "n_occur <- data.frame(table(sample_data$ID))\n",
    "n_occur"
   ]
  },
  {
   "cell_type": "code",
   "execution_count": null,
   "id": "b7d3346a",
   "metadata": {
    "scrolled": true
   },
   "outputs": [],
   "source": [
    "duplicated.samples = sample_data[sample_data$ID %in% n_occur$Var1[n_occur$Freq > 1],]\n",
    "duplicated.samples[, colnames(duplicated.samples) %in% c(\"combined_id\", \"ID\", \"RIN\", \"library_rna_amount\")]#--> same RIN across duplicates --> keep one version with library rna anount = 200"
   ]
  },
  {
   "cell_type": "code",
   "execution_count": null,
   "id": "efb9f6d1",
   "metadata": {},
   "outputs": [],
   "source": [
    "# filter out duplicate samples with library_rna_amount != 200\n",
    "duplicated.samples = duplicated.samples[duplicated.samples$library_rna_amount != 200,]\n",
    "sample_data_nodupl = sample_data[!sample_data$combined_id %in% duplicated.samples$combined_id, ]\n",
    "dim(sample_data_nodupl)"
   ]
  },
  {
   "cell_type": "markdown",
   "id": "e342b87a",
   "metadata": {},
   "source": [
    "## 1.2 Remove samples with lifetime diagnosis"
   ]
  },
  {
   "cell_type": "code",
   "execution_count": null,
   "id": "674ef63f",
   "metadata": {},
   "outputs": [],
   "source": [
    "# Also filter to include only strict-controls and cases (without life-time diag)\n",
    "janine.diag.split = read.table(\"/grehawi/splice-reg-prj/new-data/become_optima_lt_diag.txt\", header=TRUE)\n",
    "janine.diag.split = janine.diag.split %>% drop_na(ltany_di)\n",
    "head(janine.diag.split)\n",
    "dim(janine.diag.split)"
   ]
  },
  {
   "cell_type": "code",
   "execution_count": null,
   "id": "79af0459",
   "metadata": {},
   "outputs": [],
   "source": [
    "# Number of controls\n",
    "dim(janine.diag.split[janine.diag.split$ltany_di == 0, ])"
   ]
  },
  {
   "cell_type": "code",
   "execution_count": null,
   "id": "db3cadb6",
   "metadata": {},
   "outputs": [],
   "source": [
    "# Number of cases\n",
    "dim(janine.diag.split[janine.diag.split$ltany_di == 2, ])"
   ]
  },
  {
   "cell_type": "code",
   "execution_count": null,
   "id": "afe252fc",
   "metadata": {},
   "outputs": [],
   "source": [
    "# Number of life time diag\n",
    "dim(janine.diag.split[janine.diag.split$ltany_di == 1, ])"
   ]
  },
  {
   "cell_type": "code",
   "execution_count": null,
   "id": "3c6819a2",
   "metadata": {},
   "outputs": [],
   "source": [
    "ids_lifetime_diag = janine.diag.split[janine.diag.split$ltany_di == 1, colnames(janine.diag.split) %in% c(\"ID\")]\n",
    "ids_lifetime_diag"
   ]
  },
  {
   "cell_type": "code",
   "execution_count": null,
   "id": "0df007c4",
   "metadata": {},
   "outputs": [],
   "source": [
    "sample_data_final = sample_data_nodupl[!sample_data_nodupl$ID %in% ids_lifetime_diag, ]\n",
    "dim(sample_data_final)"
   ]
  },
  {
   "cell_type": "markdown",
   "id": "2a466ad8",
   "metadata": {},
   "source": [
    "## 1.3 Remove cases samples added with the new data"
   ]
  },
  {
   "cell_type": "code",
   "execution_count": null,
   "id": "49651190",
   "metadata": {},
   "outputs": [],
   "source": [
    "new_cases = readRDS(\"/grehawi/splice-reg-prj/new-data/RNA-seq/newData-casesIDs.rds\")\n",
    "new_cases"
   ]
  },
  {
   "cell_type": "code",
   "execution_count": null,
   "id": "0bdb45ee",
   "metadata": {},
   "outputs": [],
   "source": [
    "sample_data_final = sample_data_final[!sample_data_final$combined_id %in% new_cases,]"
   ]
  },
  {
   "cell_type": "code",
   "execution_count": null,
   "id": "e1fedccd",
   "metadata": {},
   "outputs": [],
   "source": [
    "dim(sample_data_final[sample_data_final$ltany_di ==0,])"
   ]
  },
  {
   "cell_type": "code",
   "execution_count": null,
   "id": "592d4d5a",
   "metadata": {},
   "outputs": [],
   "source": [
    "dim(sample_data_final[sample_data_final$ltany_di ==1,])"
   ]
  },
  {
   "cell_type": "markdown",
   "id": "fe9955e5",
   "metadata": {},
   "source": [
    "## Add cell-types proportions to samples_info file"
   ]
  },
  {
   "cell_type": "code",
   "execution_count": null,
   "id": "926617b0",
   "metadata": {},
   "outputs": [],
   "source": [
    "ct = read.table(\"/grehawi/splice-reg-prj/new-data/batch_corr/dtangle-cellTypes-on-raw-LM22.txt\")"
   ]
  },
  {
   "cell_type": "code",
   "execution_count": null,
   "id": "bc9bac1e",
   "metadata": {},
   "outputs": [],
   "source": [
    "ct$combined_id = rownames(ct) \n",
    "sample_data_final_with_CT = sample_data_final %>% left_join(ct, by=\"combined_id\")\n",
    "head(sample_data_final_with_CT)"
   ]
  },
  {
   "cell_type": "code",
   "execution_count": null,
   "id": "119f5602",
   "metadata": {},
   "outputs": [],
   "source": [
    "write.table(sample_data_final, \"/home/grehawi/splice-reg-prj/new-data/Diff-Analysis/combined_pheno_withCT.csv\")"
   ]
  },
  {
   "cell_type": "code",
   "execution_count": null,
   "id": "cd383f75-c8a8-49e1-9dd9-6a12d7b0fd4d",
   "metadata": {},
   "outputs": [],
   "source": [
    "length(unique(sample_data_final$ID))"
   ]
  },
  {
   "cell_type": "code",
   "execution_count": null,
   "id": "349bca83-06ad-4c9e-930c-f9374512f891",
   "metadata": {},
   "outputs": [],
   "source": [
    "#set t0_bdi for IST samples to zero\n",
    "#set study column for IST samples to IST\n",
    "sample_data_final$t0_bdi[sample_data_final$sequence_run == 2] = 0\n",
    "sample_data_final$study[sample_data_final$sequence_run == 2] = 'IST'"
   ]
  },
  {
   "cell_type": "code",
   "execution_count": null,
   "id": "a44ccf22-dc83-45e8-8832-5b367c3270be",
   "metadata": {},
   "outputs": [],
   "source": [
    "IST_samples = sample_data_final[sample_data_final$sequence_run == 2, ]\n",
    "write.table(IST_samples, '/grehawi/splice-reg-prj/new-data/Submission_related/IST_samples.txt', row.names = FALSE)\n",
    "\n",
    "OPTIMA_BeCOME_samples = sample_data_final[sample_data_final$sequence_run == 1, ]\n",
    "write.table(OPTIMA_BeCOME_samples, '/grehawi/splice-reg-prj/new-data/Submission_related/OPTIMA_BeCOME_samples.txt', row.names = FALSE)\n"
   ]
  },
  {
   "cell_type": "code",
   "execution_count": null,
   "id": "ca5e2dec-82ee-4989-b913-2800943d76b5",
   "metadata": {},
   "outputs": [],
   "source": [
    "write.table(sample_data_final, \"/grehawi/splice-reg-prj/new-data/Diff-Analysis/combined_pheno_withCT.csv\")"
   ]
  },
  {
   "cell_type": "code",
   "execution_count": null,
   "id": "6803c510-488c-448b-a2c3-88b01fb7bab0",
   "metadata": {},
   "outputs": [],
   "source": [
    "dim(sample_data_final)"
   ]
  },
  {
   "cell_type": "code",
   "execution_count": null,
   "id": "70556aea-8b55-4306-8c46-60d1eedb73dd",
   "metadata": {},
   "outputs": [],
   "source": [
    "#number of controls from Optima\n",
    "dim(sample_data_final[sample_data_final$ltany_di == 0 & sample_data_final$study =='optima',])\n",
    "#number of controls from BecOME\n",
    "dim(sample_data_final[sample_data_final$ltany_di == 0  & sample_data_final$study =='become',])\n",
    "#number of controls from IST\n",
    "dim(sample_data_final[sample_data_final$ltany_di == 0 & sample_data_final$study =='IST',])"
   ]
  },
  {
   "cell_type": "code",
   "execution_count": null,
   "id": "d4adab2e-69c5-4e9f-a019-cae4af5d5b67",
   "metadata": {},
   "outputs": [],
   "source": [
    "#number of cases from Optima\n",
    "dim(sample_data_final[sample_data_final$ltany_di == 1 & sample_data_final$study =='optima',])\n",
    "#umber of cases from BecOME\n",
    "dim(sample_data_final[sample_data_final$ltany_di == 1 & sample_data_final$study =='become',])"
   ]
  },
  {
   "cell_type": "code",
   "execution_count": null,
   "id": "a09f209b-378d-4bc1-a626-d729eb3293f3",
   "metadata": {},
   "outputs": [],
   "source": [
    "# mean of total_pairs for IST study\n",
    "mean(sample_data_final[sample_data_final$sequence_run ==2, ]$total_pairs)"
   ]
  },
  {
   "cell_type": "markdown",
   "id": "e800db75-0fda-4e8d-b878-8a37e2928429",
   "metadata": {},
   "source": [
    "## The following code is to fill Table 1 of the manuscript"
   ]
  },
  {
   "cell_type": "code",
   "execution_count": null,
   "id": "697679d4-cfe2-43cc-a97f-83d6d6cefcf8",
   "metadata": {
    "scrolled": true
   },
   "outputs": [],
   "source": [
    "cidi.depr.diag = readRDS(\"/grehawi/splice-reg-prj/new-data/cidi_joanas/cidi_single_tidy_processed_jonas.rds\")\n",
    "colnames(cidi.depr.diag)\n",
    "head(cidi.depr.diag)\n",
    "dim(cidi.depr.diag)"
   ]
  },
  {
   "cell_type": "code",
   "execution_count": null,
   "id": "b0265366-c2c3-4ff8-826b-a646992f58bb",
   "metadata": {},
   "outputs": [],
   "source": [
    "length(intersect(cidi.depr.diag$ID, sample_data_final$ID[sample_data_final$ltany_di ==0]))"
   ]
  },
  {
   "cell_type": "code",
   "execution_count": null,
   "id": "ec880e50-ee04-4779-b546-479a2ad22dc5",
   "metadata": {},
   "outputs": [],
   "source": [
    "length(intersect(cidi.depr.diag$ID, sample_data_final$ID[sample_data_final$ltany_di ==1]))"
   ]
  },
  {
   "cell_type": "code",
   "execution_count": null,
   "id": "3a133002-411c-47a6-9a3c-c53c20e3387d",
   "metadata": {},
   "outputs": [],
   "source": [
    "# how many of all affected samples have subthreshold diagnosis of dysthemia or major depression\n",
    "cidi.depr.diag.sup.aff = cidi.depr.diag[cidi.depr.diag$ID %in% sample_data_final$ID[sample_data_final$ltany_di == 1],]\n",
    "length(unique(cidi.depr.diag.sup.aff$ID))\n",
    "dysth_depr_samples_aff = cidi.depr.diag.sup.aff[cidi.depr.diag.sup.aff$Dysthymia_full_curr == 1 | \n",
    "                                        cidi.depr.diag.sup.aff$Depression_subthr_curr == 1 |  \n",
    "                                        cidi.depr.diag.sup.aff$Depression_full_curr == 1 , ]\n",
    "length(unique(dysth_depr_samples_aff$ID))"
   ]
  },
  {
   "cell_type": "code",
   "execution_count": null,
   "id": "e4f348b1-9693-4816-b06f-2c5e939607e9",
   "metadata": {},
   "outputs": [],
   "source": [
    "cidi.depr.diag.sup.unaff = cidi.depr.diag[cidi.depr.diag$ID %in% sample_data_final$ID[sample_data_final$ltany_di == 0],]\n",
    "dysth_depr_samples_unaff = cidi.depr.diag.sup.unaff[cidi.depr.diag.sup.unaff$Dysthymia_full_curr == 1 | \n",
    "                                        cidi.depr.diag.sup.unaff$Depression_subthr_curr == 1 |  \n",
    "                                        cidi.depr.diag.sup.unaff$Depression_full_curr == 1 , ]\n",
    "length(unique(dysth_depr_samples_unaff$ID))"
   ]
  },
  {
   "cell_type": "code",
   "execution_count": null,
   "id": "de3fbdab-b970-4cfb-a4cd-e31529d26b75",
   "metadata": {},
   "outputs": [],
   "source": [
    "optima_samples_info = sample_data_final[sample_data_final$study == 'optima', ]\n",
    "dim(optima_samples_info)"
   ]
  },
  {
   "cell_type": "code",
   "execution_count": null,
   "id": "83bb4507-5dda-40f5-8706-b9f116c7a278",
   "metadata": {},
   "outputs": [],
   "source": [
    "become_samples_info = sample_data_final[sample_data_final$study == 'become', ]\n",
    "dim(become_samples_info)"
   ]
  },
  {
   "cell_type": "code",
   "execution_count": null,
   "id": "d0d6872f-aaf5-404a-b1c5-60ba6ca14bc0",
   "metadata": {},
   "outputs": [],
   "source": [
    "ist_samples_info = sample_data_final[sample_data_final$study == 'IST', ]\n",
    "dim(ist_samples_info)"
   ]
  },
  {
   "cell_type": "code",
   "execution_count": null,
   "id": "d3e0d9f0-7871-475a-b505-f3feec102e02",
   "metadata": {},
   "outputs": [],
   "source": [
    "# how many of OPTIMA samples (only affected) have subthreshold diagnosis of dysthemia or major depression\n",
    "cidi.depr.diag.sup.optima = cidi.depr.diag[cidi.depr.diag$ID %in% optima_samples_info$ID[optima_samples_info$ltany_di == 1],]\n",
    "length(unique(cidi.depr.diag.sup.optima$ID))\n",
    "dysth_depr_samples_optima = cidi.depr.diag.sup.optima[cidi.depr.diag.sup.optima$Dysthymia_full_curr == 1 | \n",
    "                                        cidi.depr.diag.sup.optima$Depression_subthr_curr == 1 |  \n",
    "                                        cidi.depr.diag.sup.optima$Depression_full_curr == 1 , ]\n",
    "length(unique(dysth_depr_samples_optima$ID))"
   ]
  },
  {
   "cell_type": "code",
   "execution_count": null,
   "id": "5efe0fd7-d171-40a3-aa2d-8ec1706531ab",
   "metadata": {},
   "outputs": [],
   "source": [
    "# how many of become affected samples have subthreshold diagnosis of dysthemia or major depression\n",
    "# lt is life time, curr is current diagnosis\n",
    "cidi.depr.diag.sup.become.affeceted = cidi.depr.diag[cidi.depr.diag$ID %in% become_samples_info$ID[become_samples_info$ltany_di == 1],]\n",
    "dysth_depr_samples_become_affected = cidi.depr.diag.sup.become.affeceted[cidi.depr.diag.sup.become.affeceted$Dysthymia_full_curr == 1 | \n",
    "                                        cidi.depr.diag.sup.become.affeceted$Depression_subthr_curr == 1 |  \n",
    "                                        cidi.depr.diag.sup.become.affeceted$Depression_full_curr == 1 , ]\n",
    "length(unique(dysth_depr_samples_become_affected$ID))"
   ]
  },
  {
   "cell_type": "code",
   "execution_count": null,
   "id": "3df82fc3-4017-498c-b98f-4ce16593d15a",
   "metadata": {},
   "outputs": [],
   "source": [
    "# how many of become unaffected samples have subthreshold diagnosis of dysthemia or major depression\n",
    "# lt is life time, curr is current diagnosis\n",
    "cidi.depr.diag.sup.become.unaffeceted = cidi.depr.diag[cidi.depr.diag$ID %in% become_samples_info$ID[become_samples_info$ltany_di == 0],]\n",
    "dysth_depr_samples_become_unaffected = cidi.depr.diag.sup.become.unaffeceted[cidi.depr.diag.sup.become.unaffeceted$Dysthymia_full_curr == 1 | \n",
    "                                        cidi.depr.diag.sup.become.unaffeceted$Depression_subthr_curr == 1 |  \n",
    "                                        cidi.depr.diag.sup.become.unaffeceted$Depression_full_curr == 1 , ]\n",
    "length(unique(dysth_depr_samples_become_unaffected$ID))\n",
    "unique(dysth_depr_samples_become_unaffected$ID)"
   ]
  },
  {
   "cell_type": "code",
   "execution_count": null,
   "id": "f4cab31d-7a53-4792-93b3-82cae842cfbf",
   "metadata": {},
   "outputs": [],
   "source": [
    "#mean BDI in affeceted individuals (total)\n",
    "mean(sample_data_final$t0_bdi[sample_data_final$ltany_di == 1]); sd(sample_data_final$t0_bdi[sample_data_final$ltany_di == 1])\n",
    "#mean BDI in unaffeceted individuals (total)\n",
    "mean(sample_data_final$t0_bdi[sample_data_final$ltany_di == 0]); sd(sample_data_final$t0_bdi[sample_data_final$ltany_di == 0])"
   ]
  },
  {
   "cell_type": "code",
   "execution_count": null,
   "id": "dafaea04-2733-4d45-9de8-02c5d252c1b5",
   "metadata": {},
   "outputs": [],
   "source": [
    "#mean BDI in affeceted individuals (become)\n",
    "mean(become_samples_info$t0_bdi[become_samples_info$ltany_di == 1]); sd(become_samples_info$t0_bdi[become_samples_info$ltany_di == 1])\n",
    "#mean BDI in unaffeceted individuals (become)\n",
    "mean(become_samples_info$t0_bdi[become_samples_info$ltany_di == 0]); sd(become_samples_info$t0_bdi[become_samples_info$ltany_di == 0])"
   ]
  },
  {
   "cell_type": "code",
   "execution_count": null,
   "id": "114c843c-17d9-4564-aa66-afbaf1728b0d",
   "metadata": {},
   "outputs": [],
   "source": [
    "#mean BDI in affeceted individuals (optima)\n",
    "mean(optima_samples_info$t0_bdi[optima_samples_info$ltany_di == 1]); sd(optima_samples_info$t0_bdi[optima_samples_info$ltany_di == 1])\n",
    "#mean BDI in unaffeceted individuals (optima)\n",
    "mean(optima_samples_info$t0_bdi[optima_samples_info$ltany_di == 0]); sd(optima_samples_info$t0_bdi[optima_samples_info$ltany_di == 0])"
   ]
  },
  {
   "cell_type": "code",
   "execution_count": null,
   "id": "c88eb26a-17e3-4cbd-be03-0051995bdfd9",
   "metadata": {},
   "outputs": [],
   "source": [
    "#mean BDI in affeceted individuals (IST)\n",
    "mean(ist_samples_info$t0_bdi[ist_samples_info$ltany_di == 1]); sd(ist_samples_info$t0_bdi[ist_samples_info$ltany_di == 1])\n",
    "#mean BDI in unaffeceted individuals (IST)\n",
    "mean(ist_samples_info$t0_bdi[ist_samples_info$ltany_di == 0]); sd(ist_samples_info$t0_bdi[ist_samples_info$ltany_di == 0])"
   ]
  },
  {
   "cell_type": "code",
   "execution_count": null,
   "id": "6fa97830-1759-43d5-bd61-60fb6efc9204",
   "metadata": {},
   "outputs": [],
   "source": [
    "#mean age in affeceted individuals (total)\n",
    "mean(sample_data_final$age[sample_data_final$ltany_di == 1]); sd(sample_data_final$age[sample_data_final$ltany_di == 1])\n",
    "#mean age in unaffeceted individuals (total)\n",
    "mean(sample_data_final$age[sample_data_final$ltany_di == 0]); sd(sample_data_final$age[sample_data_final$ltany_di == 0])"
   ]
  },
  {
   "cell_type": "code",
   "execution_count": null,
   "id": "bc9aa062-948e-4c5e-a63b-64c3edacbd10",
   "metadata": {},
   "outputs": [],
   "source": [
    "#mean age in affeceted individuals of become samples\n",
    "mean(become_samples_info$age[become_samples_info$ltany_di == 1]); sd(become_samples_info$age[become_samples_info$ltany_di == 1])\n",
    "#mean age in unaffeceted individuals of become samples\n",
    "mean(become_samples_info$age[become_samples_info$ltany_di == 0]); sd(become_samples_info$age[become_samples_info$ltany_di == 0])"
   ]
  },
  {
   "cell_type": "code",
   "execution_count": null,
   "id": "36ae1f7f-5c03-4d5a-839d-1037f7f0e641",
   "metadata": {},
   "outputs": [],
   "source": [
    "#mean age in affeceted individuals of OPTIMA samples\n",
    "mean(optima_samples_info$age[optima_samples_info$ltany_di == 1]); sd(optima_samples_info$age[optima_samples_info$ltany_di == 1])\n",
    "#mean age in unaffeceted individuals of OPTIMA samples\n",
    "mean(optima_samples_info$age[optima_samples_info$ltany_di == 0]); sd(optima_samples_info$age[optima_samples_info$ltany_di == 0])"
   ]
  },
  {
   "cell_type": "code",
   "execution_count": null,
   "id": "f4bd5c12-c36f-49fb-afbc-c3c74ccc2869",
   "metadata": {},
   "outputs": [],
   "source": [
    "#mean age in affeceted individuals of IST samples\n",
    "mean(ist_samples_info$age[ist_samples_info$ltany_di == 1]); sd(ist_samples_info$age[ist_samples_info$ltany_di == 1])\n",
    "#mean age in unaffeceted individuals of IST samples\n",
    "mean(ist_samples_info$age[ist_samples_info$ltany_di == 0]); sd(ist_samples_info$age[ist_samples_info$ltany_di == 0])"
   ]
  },
  {
   "cell_type": "code",
   "execution_count": null,
   "id": "bd92efc3-af1f-4981-873a-cf534b3f4668",
   "metadata": {},
   "outputs": [],
   "source": [
    "#mean BMI in affeceted individuals (total)\n",
    "mean(sample_data_final$BMI[sample_data_final$ltany_di == 1]); sd(sample_data_final$BMI[sample_data_final$ltany_di == 1])\n",
    "#mean BMI in unaffeceted individuals (total)\n",
    "mean(sample_data_final$BMI[sample_data_final$ltany_di == 0]); sd(sample_data_final$BMI[sample_data_final$ltany_di == 0])"
   ]
  },
  {
   "cell_type": "code",
   "execution_count": null,
   "id": "7c2ab6ce-1bcf-4f0a-8873-170262ed1e63",
   "metadata": {},
   "outputs": [],
   "source": [
    "#mean BMI in affeceted individuals (become)\n",
    "mean(become_samples_info$BMI[become_samples_info$ltany_di == 1]); sd(become_samples_info$BMI[become_samples_info$ltany_di == 1])\n",
    "#mean BMI in unaffeceted individuals (become)\n",
    "mean(become_samples_info$BMI[become_samples_info$ltany_di == 0]); sd(become_samples_info$BMI[become_samples_info$ltany_di == 0])"
   ]
  },
  {
   "cell_type": "code",
   "execution_count": null,
   "id": "20a36c2d-8910-440f-8542-cebf064cb907",
   "metadata": {},
   "outputs": [],
   "source": [
    "#mean BMI in affeceted individuals (optima)\n",
    "mean(optima_samples_info$BMI[optima_samples_info$ltany_di == 1]); sd(optima_samples_info$BMI[optima_samples_info$ltany_di == 1])"
   ]
  },
  {
   "cell_type": "code",
   "execution_count": null,
   "id": "3b9c6bbd-b259-4be1-ae9d-70927832cda9",
   "metadata": {},
   "outputs": [],
   "source": [
    "#mean BMI in affeceted individuals (IST)\n",
    "mean(ist_samples_info$BMI[ist_samples_info$ltany_di == 0]); sd(ist_samples_info$BMI[ist_samples_info$ltany_di == 0])"
   ]
  },
  {
   "cell_type": "code",
   "execution_count": null,
   "id": "ed31a4af-153e-4e7a-b83e-98a7ce481583",
   "metadata": {},
   "outputs": [],
   "source": [
    "#number of females in affeceted individuals (total)\n",
    "dim(sample_data_final[sample_data_final$ltany_di == 1 & sample_data_final$sex == 'female', ])\n",
    "#number of females in unaffeceted individuals (total)\n",
    "dim(sample_data_final[sample_data_final$ltany_di == 0 & sample_data_final$sex == 'female', ])"
   ]
  },
  {
   "cell_type": "code",
   "execution_count": null,
   "id": "4ca2b70f-ec8e-4b34-bef9-b56766c67c7d",
   "metadata": {},
   "outputs": [],
   "source": [
    "#number of females in affeceted individuals (become)\n",
    "dim(become_samples_info[become_samples_info$ltany_di == 1 & become_samples_info$sex == 'female', ])\n",
    "#number of females in unaffeceted individuals (become)\n",
    "dim(become_samples_info[become_samples_info$ltany_di == 0 & become_samples_info$sex == 'female', ])"
   ]
  },
  {
   "cell_type": "code",
   "execution_count": null,
   "id": "2213b821-d65b-484f-b2ab-f9ca25e39e0f",
   "metadata": {},
   "outputs": [],
   "source": [
    "#number of females in affeceted individuals (optima)\n",
    "dim(optima_samples_info[optima_samples_info$ltany_di == 1 & optima_samples_info$sex == 'female', ])\n",
    "#number of females in unaffeceted individuals (optima)\n",
    "dim(optima_samples_info[optima_samples_info$ltany_di == 0 & optima_samples_info$sex == 'female', ])"
   ]
  },
  {
   "cell_type": "code",
   "execution_count": null,
   "id": "108e5815-aef7-4386-9a8d-79927eb4fd77",
   "metadata": {},
   "outputs": [],
   "source": [
    "#number of females in unaffeceted individuals (ist)\n",
    "dim(ist_samples_info[ist_samples_info$ltany_di == 0 & ist_samples_info$sex == 'female', ])"
   ]
  },
  {
   "cell_type": "code",
   "execution_count": null,
   "id": "75815991-9013-49d2-933f-fe06a1a4dc91",
   "metadata": {
    "scrolled": true
   },
   "outputs": [],
   "source": [
    "# medication information \n",
    "medication_data = readRDS('/grehawi/splice-reg-prj/data/clinical-data/medication_data_both.Rds')\n",
    "cases_all = sample_data_final[sample_data_final$ltany_di == 1,]\n",
    "medication_data = medication_data[medication_data$ID %in% cases_all$ID,]\n",
    "medication_data"
   ]
  },
  {
   "cell_type": "code",
   "execution_count": null,
   "id": "092da0f4-8f14-4782-a56c-d2c59679f032",
   "metadata": {},
   "outputs": [],
   "source": [
    "# missing medication information\n",
    "# I asked Janine and these 3 samples are free from medication\n",
    "setdiff(sample_data_final$ID[sample_data_final$ltany_di == 1], medication_data$ID)"
   ]
  },
  {
   "cell_type": "code",
   "execution_count": null,
   "id": "67947e63-5e81-453a-a30c-d37281178cf2",
   "metadata": {},
   "outputs": [],
   "source": [
    "missing_samples_df = data.frame(c('PTP0458','PTP0734','PTP1328'), c('FALSE', 'FALSE', 'FALSE'))\n",
    "colnames(missing_samples_df) = c('ID', 't0_any_psych_medication')\n",
    "medication_data = rbind(medication_data, missing_samples_df)"
   ]
  },
  {
   "cell_type": "code",
   "execution_count": null,
   "id": "44ee5b56-a50c-4980-8c94-260067550608",
   "metadata": {
    "scrolled": true
   },
   "outputs": [],
   "source": [
    "# get medication information for all cases\n",
    "sample_data_with_medication_final = medication_data %>% left_join(cases_all, by=\"ID\")\n",
    "sample_data_with_medication_final_Become = sample_data_with_medication_final[sample_data_with_medication_final$study == 'become',]\n",
    "sample_data_with_medication_final_optima = sample_data_with_medication_final[sample_data_with_medication_final$study == 'optima',]\n",
    "# number of medicated samples from BeCOME\n",
    "length(unique(sample_data_with_medication_final_Become$ID[sample_data_with_medication_final_Become$t0_any_psych_medication == 'TRUE']))\n",
    "# number of medicated samples from OPTIMA\n",
    "length(unique(sample_data_with_medication_final_optima$ID[sample_data_with_medication_final_optima$t0_any_psych_medication == 'TRUE']))"
   ]
  },
  {
   "cell_type": "code",
   "execution_count": null,
   "id": "20b34900-1fec-40ce-95cc-16c2d81d9f7e",
   "metadata": {},
   "outputs": [],
   "source": [
    "length(unique(sample_data_with_medication_final$ID[sample_data_with_medication_final$t0_any_psych_medication == 'TRUE']))"
   ]
  },
  {
   "cell_type": "code",
   "execution_count": null,
   "id": "4eb1a435-e80d-4993-9816-7efec9402a58",
   "metadata": {},
   "outputs": [],
   "source": []
  }
 ],
 "metadata": {
  "kernelspec": {
   "display_name": "R [conda env:r_env] *",
   "language": "R",
   "name": "conda-env-r_env-r"
  },
  "language_info": {
   "codemirror_mode": "r",
   "file_extension": ".r",
   "mimetype": "text/x-r-source",
   "name": "R",
   "pygments_lexer": "r",
   "version": "4.4.1"
  }
 },
 "nbformat": 4,
 "nbformat_minor": 5
}
