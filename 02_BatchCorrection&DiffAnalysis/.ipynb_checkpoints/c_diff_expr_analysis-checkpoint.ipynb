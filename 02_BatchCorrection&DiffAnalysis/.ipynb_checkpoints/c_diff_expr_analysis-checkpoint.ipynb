{
 "cells": [
  {
   "cell_type": "code",
   "execution_count": null,
   "id": "9bfc4481-aeff-4d1d-8018-75b2092ca865",
   "metadata": {
    "scrolled": true
   },
   "outputs": [],
   "source": [
    "library(data.table)\n",
    "library(dplyr)\n",
    "library(readxl)\n",
    "library(ggplot2)\n",
    "library(limma)\n",
    "library(EnhancedVolcano)\n",
    "library(clusterProfiler)\n",
    "library(org.Hs.eg.db)\n",
    "library(enrichplot)\n",
    "library(pheatmap)\n",
    "library(VennDiagram)\n",
    "library(tidyr)"
   ]
  },
  {
   "cell_type": "code",
   "execution_count": null,
   "id": "8c53e1ff-b1ee-4e3f-9535-c858c22da24e",
   "metadata": {},
   "outputs": [],
   "source": [
    "genecode.annot.subsetted = read.table(\"/grehawi/splice-reg-prj/new-data/subsetted_gencode_annotation.txt\")\n",
    "head(genecode.annot.subsetted)"
   ]
  },
  {
   "cell_type": "code",
   "execution_count": null,
   "id": "0cdc805b-0325-4e0b-9b10-5f53d3a6109e",
   "metadata": {},
   "outputs": [],
   "source": [
    "gene.names.ids = genecode.annot.subsetted[genecode.annot.subsetted$type==\"gene\", colnames(genecode.annot.subsetted) %in% c(\"gene_id\", \"gene_name\")]\n",
    "trx.names.ids = genecode.annot.subsetted[genecode.annot.subsetted$type==\"transcript\", colnames(genecode.annot.subsetted) %in% c(\"transcript_id\", \"transcript_name\")]"
   ]
  },
  {
   "cell_type": "code",
   "execution_count": null,
   "id": "8b87cb08-71c1-4236-9258-7466ab649779",
   "metadata": {
    "scrolled": true
   },
   "outputs": [],
   "source": [
    "samples.info = read.table(\"/grehawi/splice-reg-prj/new-data/Diff-Analysis/combined_pheno_withCT.csv\")\n",
    "dim(samples.info)"
   ]
  },
  {
   "cell_type": "markdown",
   "id": "5058e3ae-efa4-43ef-b355-582a56f16291",
   "metadata": {},
   "source": [
    "### Perform differential analysis on gene level (use the data after correction)"
   ]
  },
  {
   "cell_type": "code",
   "execution_count": null,
   "id": "98495680-32b5-45df-9ca2-5501751c2bd4",
   "metadata": {},
   "outputs": [],
   "source": [
    "gene.count.corrected.final = read.table(\"/grehawi/splice-reg-prj/new-data/Diff-Analysis/gene.logCPM.corrected.final.matrix\")"
   ]
  },
  {
   "cell_type": "code",
   "execution_count": null,
   "id": "0305354d-12d4-431d-adc4-95949df0f940",
   "metadata": {},
   "outputs": [],
   "source": [
    "trx.count.corrected.final = read.table(\"/grehawi/splice-reg-prj/new-data/Diff-Analysis/trx.logCPM.corrected.final.matrix\")"
   ]
  },
  {
   "cell_type": "code",
   "execution_count": null,
   "id": "66000d81-62be-4930-9e2c-80a95de5afc8",
   "metadata": {},
   "outputs": [],
   "source": [
    "# perform limma-trend for DEA\n",
    "design <- model.matrix(~ ltany_di, data = samples.info)\n",
    "\n",
    "fit <- lmFit(gene.count.corrected.final, design)\n",
    "#fit <- treat(fit, lfc=log2(1.2), trend=TRUE)\n",
    "fit <- eBayes(fit, robust=TRUE, trend=TRUE)\n",
    "#We can use topTable() to look at lists of differentially expressed genes for each contrast\n",
    "# We can use decideTest() to look at all contrasts simultaneously\n",
    "diff_gene_res = topTable(fit, coef=ncol(design),  n=Inf)\n",
    "# add another column with gene names\n",
    "diff_gene_res$gene_id <- rownames(diff_gene_res)\n",
    "merged_diff_gene_res <- merge(diff_gene_res, gene.names.ids, by = \"gene_id\", all.x = TRUE)\n",
    "# order based on p.adjust\n",
    "merged_diff_gene_res <- merged_diff_gene_res[order(merged_diff_gene_res$adj.P.Val),]\n",
    "head(merged_diff_gene_res)\n",
    "dim(merged_diff_gene_res)\n",
    "summary(merged_diff_gene_res[[\"logFC\"]])\n",
    "summary(merged_diff_gene_res[[\"adj.P.Val\"]])"
   ]
  },
  {
   "cell_type": "code",
   "execution_count": null,
   "id": "e8e242d6-1758-4698-907b-4a6b9e2ce6fd",
   "metadata": {
    "scrolled": true
   },
   "outputs": [],
   "source": [
    "write.table(merged_diff_gene_res, \"/grehawi/splice-reg-prj/new-data/Diff-Analysis/supp_table_DGE.csv\", sep = \",\", row.names=FALSE)"
   ]
  },
  {
   "cell_type": "code",
   "execution_count": null,
   "id": "566ff887-6779-4258-a7a8-9d5b32fe21cc",
   "metadata": {},
   "outputs": [],
   "source": [
    "options(repr.plot.width=10, repr.plot.height=6)\n",
    "genes_up <- merged_diff_gene_res[merged_diff_gene_res$adj.P.Val<=0.05 & merged_diff_gene_res$logFC > 0,]\n",
    "genes_down <- merged_diff_gene_res[merged_diff_gene_res$adj.P.Val<=0.05 & merged_diff_gene_res$logFC < 0,]\n",
    "dim(genes_up)\n",
    "dim(genes_down)\n",
    "selected = c(genes_up[1:5, ]$gene_name, genes_down[1:5, ]$gene_name)\n",
    "selected\n",
    "\n",
    "volcano_plot = EnhancedVolcano(merged_diff_gene_res, lab = merged_diff_gene_res$gene_name, \n",
    "                        x = \"logFC\",\n",
    "                        y = \"adj.P.Val\",\n",
    "                        xlim = c(min(merged_diff_gene_res[[\"logFC\"]], na.rm = TRUE) - 1.0, \n",
    "                                 max(merged_diff_gene_res[[\"logFC\"]], na.rm = TRUE) + 1.0),\n",
    "                        ylim = c(0, max(-log10(merged_diff_gene_res[[\"adj.P.Val\"]]), na.rm = TRUE)), \n",
    "                        pCutoff = 0.05, FCcutoff = 0, legendPosition = 'right', axisLabSize = 24, legendLabSize = 24, labSize = 6.0,\n",
    "                        selectLab=selected, drawConnectors = TRUE) \n",
    "# Remove the gridlines using theme()\n",
    "volcano_plot = volcano_plot + theme(\n",
    "  panel.grid.major = element_blank(),   # Remove major gridlines\n",
    "  panel.grid.minor = element_blank(),   # Remove minor gridlines\n",
    "  panel.background = element_blank()   # Remove background color (optional)\n",
    ")\n",
    "volcano_plot\n",
    "# Save the plot in high resolution (e.g., 300 DPI)\n",
    "#ggsave(\"/grehawi/splice-reg-prj/Figures/volcano_plot_genes.pdf\", plot = volcano_plot, dpi = 300, width = 12, height = 5)"
   ]
  },
  {
   "cell_type": "markdown",
   "id": "62096249-9f4e-43c4-ab20-a6cd223054e4",
   "metadata": {},
   "source": [
    "### Perform differential analysis on transcript level (use the data after correction)"
   ]
  },
  {
   "cell_type": "code",
   "execution_count": null,
   "id": "8589164a-f935-4856-9490-0837cbdcc29c",
   "metadata": {},
   "outputs": [],
   "source": [
    "# perform limma-trend for DEA\n",
    "design <- model.matrix(~ ltany_di, data = samples.info)\n",
    "\n",
    "fit <- lmFit(trx.count.corrected.final, design)\n",
    "#fit <- treat(fit, lfc=log2(1.2), trend=TRUE)\n",
    "fit <- eBayes(fit, robust=TRUE, trend=TRUE)\n",
    "#We can use topTable() to look at lists of differentially expressed genes for each contrast\n",
    "# We can use decideTest() to look at all contrasts simultaneously\n",
    "diff_trx_res = topTreat(fit, coef=ncol(design),  n=Inf)\n",
    "# add another column with gene names\n",
    "diff_trx_res$transcript_id <- rownames(diff_trx_res)\n",
    "merged_diff_trx_res <- merge(diff_trx_res, trx.names.ids, by = \"transcript_id\", all.x = TRUE)\n",
    "# order based on p.adjust\n",
    "merged_diff_trx_res <- merged_diff_trx_res[order(merged_diff_trx_res$adj.P.Val),]\n",
    "head(merged_diff_trx_res)\n",
    "dim(merged_diff_trx_res)\n",
    "summary(merged_diff_trx_res[[\"logFC\"]])\n",
    "summary(merged_diff_trx_res[[\"adj.P.Val\"]])"
   ]
  },
  {
   "cell_type": "code",
   "execution_count": null,
   "id": "c7c001e7-3919-4785-b6d9-b9695e19f83d",
   "metadata": {},
   "outputs": [],
   "source": [
    "write.table(merged_diff_trx_res, \"/grehawi/splice-reg-prj/new-data/Diff-Analysis/supp_table_DTE.csv\", sep = \",\", row.names=FALSE)"
   ]
  },
  {
   "cell_type": "code",
   "execution_count": null,
   "id": "af412897-a327-4fbf-94c4-fb2182d04698",
   "metadata": {},
   "outputs": [],
   "source": [
    "options(repr.plot.width=14, repr.plot.height=8)\n",
    "trx_up <- merged_diff_trx_res[merged_diff_trx_res$adj.P.Val<=0.05 & merged_diff_trx_res$logFC > 0,]\n",
    "trx_down <- merged_diff_trx_res[merged_diff_trx_res$adj.P.Val<=0.05 & merged_diff_trx_res$logFC < 0,]\n",
    "dim(trx_up)\n",
    "dim(trx_down)\n",
    "selected = c(trx_up[1:5, ]$transcript_name, trx_down[1:5, ]$transcript_name)\n",
    "selected\n",
    "\n",
    "volcano_plot = EnhancedVolcano(merged_diff_trx_res, lab = merged_diff_trx_res$transcript_name, \n",
    "                        x = \"logFC\",\n",
    "                        y = \"adj.P.Val\",\n",
    "                        xlim = c(min(merged_diff_trx_res[[\"logFC\"]], na.rm = TRUE) - 1.0, \n",
    "                                 max(merged_diff_trx_res[[\"logFC\"]], na.rm = TRUE) + 1.0),\n",
    "                        ylim = c(0, max(-log10(merged_diff_trx_res[[\"adj.P.Val\"]]), na.rm = TRUE)),\n",
    "                        pCutoff = 0.05, FCcutoff = 0, legendPosition = 'right', axisLabSize = 24, legendLabSize = 24, labSize = 6.0,\n",
    "                        selectLab=selected, drawConnectors = TRUE) \n",
    "# Remove the gridlines using theme()\n",
    "volcano_plot = volcano_plot + theme(\n",
    "  panel.grid.major = element_blank(),   # Remove major gridlines\n",
    "  panel.grid.minor = element_blank(),   # Remove minor gridlines\n",
    "  panel.background = element_blank()   # Remove background color (optional)\n",
    ")\n",
    "volcano_plot\n",
    "# Save the plot in high resolution (e.g., 300 DPI)\n",
    "#ggsave(\"/grehawi/splice-reg-prj/Figures/volcano_plot_trx.pdf\", plot = volcano_plot, dpi = 300, width = 12, height = 5)"
   ]
  },
  {
   "cell_type": "markdown",
   "id": "c2dffb1f-d5db-4409-87a1-4ae18e48dad4",
   "metadata": {},
   "source": [
    "### Check if the dis-regulated trx are different from the dis-regulated genes"
   ]
  },
  {
   "cell_type": "code",
   "execution_count": null,
   "id": "f9889486-b7f4-490a-b739-6d4312d57275",
   "metadata": {},
   "outputs": [],
   "source": [
    "# read transcripts-genes mapping table\n",
    "trx.genes = read.table(\"/grehawi/splice-reg-prj/data/transcriptsID-geneID.txt\")\n",
    "head(trx.genes)"
   ]
  },
  {
   "cell_type": "code",
   "execution_count": null,
   "id": "d0e27591-c449-4581-8ea9-0304c191e552",
   "metadata": {},
   "outputs": [],
   "source": [
    "genes_of_up_trx = trx.genes[trx.genes$transcript_id %in% trx_up$transcript_id,]\n",
    "length(unique(genes_of_up_trx$gene_id))\n",
    "#intersection btw the upregulated genes and genes of upregulated trx\n",
    "length(intersect(genes_of_up_trx$gene_id, genes_up$gene_id))\n",
    "length(setdiff(genes_of_up_trx$gene_id, genes_up$gene_id))"
   ]
  },
  {
   "cell_type": "code",
   "execution_count": null,
   "id": "2b17cb5e-68d6-4511-a45a-87afac2bdce1",
   "metadata": {},
   "outputs": [],
   "source": [
    "genes_of_down_trx = trx.genes[trx.genes$transcript_id %in% trx_down$transcript_id,]\n",
    "length(unique(genes_of_down_trx$gene_id))\n",
    "#intersection btw the downregulated genes and genes of downregulated trx\n",
    "length(intersect(genes_of_down_trx$gene_id, genes_down$gene_id))"
   ]
  },
  {
   "cell_type": "code",
   "execution_count": null,
   "id": "38d6262c-ec40-4c53-8bd0-72e6edf4d34d",
   "metadata": {},
   "outputs": [],
   "source": [
    "genes_up_names = genes_up$gene_name\n",
    "genes_down_names = genes_down$gene_name\n",
    "#genesNames_of_up_trx = genecode.annot.subsetted$gene_name[genecode.annot.subsetted$gene_id %in% genes_of_up_trx$gene_id & genecode.annot.subsetted$type == \"gene\"]\n",
    "#genesNames_of_down_trx = genecode.annot.subsetted$gene_name[genecode.annot.subsetted$gene_id %in% genes_of_down_trx$gene_id & genecode.annot.subsetted$type == \"gene\"]\n",
    "trx_up_names = trx_up$transcript_name\n",
    "trx_down_names = trx_down$transcript_name\n"
   ]
  },
  {
   "cell_type": "code",
   "execution_count": null,
   "id": "16c06d11-d49a-4eb4-b412-8dd2d0b92696",
   "metadata": {},
   "outputs": [],
   "source": [
    "#save files\n",
    "saveRDS(genes_up_names, \"/grehawi/splice-reg-prj/new-data/Diff-Analysis/up_reg_ganes.rds\")\n",
    "saveRDS(genes_down_names, \"/grehawi/splice-reg-prj/new-data/Diff-Analysis/down_reg_ganes.rds\")\n",
    "saveRDS(trx_up_names, \"/grehawi/splice-reg-prj/new-data/Diff-Analysis/up_reg_trx.rds\")\n",
    "saveRDS(trx_down_names, \"/grehawi/splice-reg-prj/new-data/Diff-Analysis/down_reg_trx.rds\")"
   ]
  },
  {
   "cell_type": "code",
   "execution_count": null,
   "id": "9ded54a8-d106-4f0b-9d0b-30daec5cf1fd",
   "metadata": {},
   "outputs": [],
   "source": [
    "# save tables of up and down regulated genes and transcripts with names and ids (for trx also with gene name and id)\n",
    "# I use these files for enrichment analysis with FUMA\n",
    "genes_up_df = genecode.annot.subsetted[genecode.annot.subsetted$type == 'gene' & genecode.annot.subsetted$gene_name %in% genes_up_names, \n",
    "                                       colnames(genecode.annot.subsetted) %in% c('gene_name', 'gene_id')]\n",
    "\n",
    "genes_down_df = genecode.annot.subsetted[genecode.annot.subsetted$type == 'gene' & genecode.annot.subsetted$gene_name %in% genes_down_names, \n",
    "                                       colnames(genecode.annot.subsetted) %in% c('gene_name', 'gene_id')]\n",
    "\n",
    "trx_up_df = genecode.annot.subsetted[genecode.annot.subsetted$type == 'transcript' & genecode.annot.subsetted$transcript_name %in% trx_up_names, \n",
    "                                       colnames(genecode.annot.subsetted) %in% c('transcript_name', 'transcript_id', 'gene_id', 'gene_name')]\n",
    "\n",
    "trx_down_df = genecode.annot.subsetted[genecode.annot.subsetted$type == 'transcript' & genecode.annot.subsetted$transcript_name %in% trx_down_names, \n",
    "                                       colnames(genecode.annot.subsetted) %in% c('transcript_name', 'transcript_id', 'gene_id', 'gene_name')]\n"
   ]
  },
  {
   "cell_type": "code",
   "execution_count": null,
   "id": "c04b9061-06db-403d-867a-30d0579170a3",
   "metadata": {},
   "outputs": [],
   "source": [
    "length(unique(c(genes_up_df$gene_name, genes_down_df$gene_name, trx_up_df$gene_name, trx_down_df$gene_name)))"
   ]
  },
  {
   "cell_type": "code",
   "execution_count": null,
   "id": "c9ad76f9-6b97-4e98-8b15-2d98b9b0d77f",
   "metadata": {},
   "outputs": [],
   "source": [
    "length(unique(trx_up_df[trx_up_df$gene_id %in% setdiff(genes_of_up_trx$gene_id, genes_up$gene_id), 'transcript_id']))\n",
    "length(unique(trx_down_df[trx_down_df$gene_id %in% setdiff(genes_of_down_trx$gene_id, genes_down$gene_id), 'transcript_id']))"
   ]
  },
  {
   "cell_type": "code",
   "execution_count": null,
   "id": "694d6a11-1217-405d-a5d7-50eef31a48f2",
   "metadata": {},
   "outputs": [],
   "source": [
    "write.table(genes_up_df, '/grehawi/splice-reg-prj/new-data/Diff-Analysis/genes_up_df.txt')\n",
    "write.table(genes_down_df, '/grehawi/splice-reg-prj/new-data/Diff-Analysis/genes_down_df.txt')\n",
    "write.table(trx_up_df, '/grehawi/splice-reg-prj/new-data/Diff-Analysis/trx_up_df.txt')\n",
    "write.table(trx_down_df, '/grehawi/splice-reg-prj/new-data/Diff-Analysis/trx_down_df.txt')"
   ]
  },
  {
   "cell_type": "code",
   "execution_count": null,
   "id": "05df7e50-8f4c-4f1d-9ca7-901cd34f18c9",
   "metadata": {},
   "outputs": [],
   "source": [
    "venn.diagram(\n",
    "        x = list(genes_up_df$gene_name , trx_up_df$gene_name),\n",
    "        category.names = c('+Genes' , '+Transcripts'),\n",
    "        filename = '/grehawi/splice-reg-prj/Figures/venn_up_reg_gene_trx.svg',\n",
    "        imagetype=\"svg\",\n",
    "        output=TRUE,\n",
    "        # Circles\n",
    "        lwd = 2,\n",
    "        cex = 12,\n",
    "        cat.cex = 12,\n",
    "        lty = 'blank',\n",
    "        fill = c(\"#818689\", \"#818689\"),\n",
    "        height=32,\n",
    "        width=32)"
   ]
  },
  {
   "cell_type": "code",
   "execution_count": null,
   "id": "cb7176d5-ebd1-443c-a126-b08960718e51",
   "metadata": {},
   "outputs": [],
   "source": [
    "venn.diagram(\n",
    "        x = list(genes_down_df$gene_name , trx_down_df$gene_name),\n",
    "        category.names = c('-Genes' , '-Transcripts'),\n",
    "        filename = '/grehawi/splice-reg-prj/Figures/venn_down_reg_gene_trx.svg',\n",
    "        imagetype=\"svg\",\n",
    "        output=TRUE,\n",
    "        # Circles\n",
    "        lwd = 2,\n",
    "        cex = 12,\n",
    "        cat.cex = 12,\n",
    "        lty = 'blank',\n",
    "        fill = c(\"#818689\", \"#818689\"),\n",
    "        height=32,\n",
    "        width=32)"
   ]
  },
  {
   "cell_type": "markdown",
   "id": "89e76db9-a454-41dc-831c-788e6dbfff32",
   "metadata": {},
   "source": [
    "### Intersection with Wittenberg et al\n",
    "\n",
    "(https://www.biologicalpsychiatryjournal.com/article/S0006-3223(20)31591-2/fulltext#app-1)"
   ]
  },
  {
   "cell_type": "code",
   "execution_count": null,
   "id": "72a38d4b-4637-4b4d-807f-c12a2e1d99b7",
   "metadata": {
    "scrolled": true
   },
   "outputs": [],
   "source": [
    "wittenberg_down_genes = read.table('/grehawi/splice-reg-prj/new-data/Diff-Analysis/genes_down_MDD_wittenberg_etal.txt', header=TRUE)\n",
    "head(wittenberg_down_genes)\n",
    "dim(wittenberg_down_genes)\n",
    "\n",
    "wittenberg_up_genes = read.table('/grehawi/splice-reg-prj/new-data/Diff-Analysis/genes_up_MDD_wittenberg_etal.txt', header=TRUE)\n",
    "head(wittenberg_up_genes)\n",
    "dim(wittenberg_up_genes)"
   ]
  },
  {
   "cell_type": "code",
   "execution_count": null,
   "id": "5465a03d-3512-4636-a957-3b1706173965",
   "metadata": {
    "scrolled": true
   },
   "outputs": [],
   "source": [
    "intersect(wittenberg_down_genes$Genes, genes_down_df$gene_name)\n",
    "intersect(wittenberg_up_genes$Genes, genes_up_df$gene_name)\n",
    "\n",
    "intersect(wittenberg_down_genes$Genes, trx_down_df$gene_name)\n",
    "intersect(wittenberg_up_genes$Genes, trx_up_df$gene_name)"
   ]
  },
  {
   "cell_type": "code",
   "execution_count": null,
   "id": "16a2f4b7-f89f-4623-9d40-d022c06fac92",
   "metadata": {},
   "outputs": [],
   "source": [
    "trx_down_df[trx_down_df$gene_name == 'PTPN4', ]\n",
    "trx_up_df[trx_up_df$gene_name == 'CAMKK2', ]"
   ]
  },
  {
   "cell_type": "markdown",
   "id": "815c12dc-273c-4d90-80ec-d4cc26459a05",
   "metadata": {},
   "source": [
    "### Enrichment analysis for dyregulated genes and transcripts using clusterProfiler\n",
    "\n",
    "Using FUMA: we only saw enrichment for up-regulated genes and up-regulated transcripts in Go-bp"
   ]
  },
  {
   "cell_type": "code",
   "execution_count": null,
   "id": "285288cc-cc4a-495f-9419-e0991834f43a",
   "metadata": {},
   "outputs": [],
   "source": [
    "#The background genes are the same used for network inference, created in 03_prepare_input_for_netInf.R\n",
    "background_genes = read.table(\"/grehawi/splice-reg-prj/new-data/ARACNE/gene_names_ids_table.txt\")\n",
    "head(background_genes)\n",
    "dim(background_genes)"
   ]
  },
  {
   "cell_type": "code",
   "execution_count": null,
   "id": "8fe1db6e-6011-466c-bde5-f7b96b5b7e7f",
   "metadata": {},
   "outputs": [],
   "source": [
    "gene_set1 = genes_up_df$gene_name\n",
    "gene_set2 = trx_up_df$gene_name\n",
    "gene_set3 = genes_down_df$gene_name\n",
    "gene_set4 = trx_down_df$gene_name\n",
    "\n",
    "# Enrichment analysis for Gene Ontology Biological Process (BP) for all sets\n",
    "go_enrichment_1 = enrichGO(gene = gene_set1, \n",
    "                            OrgDb = org.Hs.eg.db, \n",
    "                            keyType = \"SYMBOL\", \n",
    "                            ont = \"BP\",\n",
    "                            universe = background_genes$gene_name, \n",
    "                            pAdjustMethod = \"BH\",\n",
    "                            pvalueCutoff = 1,\n",
    "                            qvalueCutoff = 1)\n",
    "\n",
    "go_enrichment_2 = enrichGO(gene = gene_set2, \n",
    "                            OrgDb = org.Hs.eg.db, \n",
    "                            keyType = \"SYMBOL\", \n",
    "                            ont = \"BP\", \n",
    "                            universe = background_genes$gene_name,\n",
    "                            pAdjustMethod = \"BH\",\n",
    "                            pvalueCutoff = 1,\n",
    "                            qvalueCutoff = 1)\n",
    "\n",
    "go_enrichment_3 = enrichGO(gene = gene_set3, \n",
    "                            OrgDb = org.Hs.eg.db, \n",
    "                            keyType = \"SYMBOL\", \n",
    "                            ont = \"BP\", \n",
    "                            universe = background_genes$gene_name,\n",
    "                            pAdjustMethod = \"BH\",\n",
    "                            minGSSize = 3,\n",
    "                            pvalueCutoff = 1,\n",
    "                            qvalueCutoff = 1)\n",
    "\n",
    "go_enrichment_4 = enrichGO(gene = gene_set4, \n",
    "                            OrgDb = org.Hs.eg.db, \n",
    "                            keyType = \"SYMBOL\", \n",
    "                            ont = \"BP\", \n",
    "                            universe = background_genes$gene_name,\n",
    "                            pAdjustMethod = \"BH\",\n",
    "                            pvalueCutoff = 1,\n",
    "                            qvalueCutoff = 1)\n"
   ]
  },
  {
   "cell_type": "code",
   "execution_count": null,
   "id": "29d93900-3866-43c3-9be3-1f10822bb23d",
   "metadata": {},
   "outputs": [],
   "source": [
    "#Cluster similar GO terms: To reduce redundancy and cluster similar GO terms, use the simplify() function from the clusterProfiler package.\n",
    "#This will merge similar terms based on semantic similarity.\n",
    "go_enrichment_1 = simplify(go_enrichment_1, cutoff=0.7, by=\"p.adjust\", select_fun=min)\n",
    "go_enrichment_2 = simplify(go_enrichment_2, cutoff=0.7, by=\"p.adjust\", select_fun=min)\n",
    "go_enrichment_3 = simplify(go_enrichment_3, cutoff=0.7, by=\"p.adjust\", select_fun=min)\n",
    "go_enrichment_4 = simplify(go_enrichment_4, cutoff=0.7, by=\"p.adjust\", select_fun=min)"
   ]
  },
  {
   "cell_type": "code",
   "execution_count": null,
   "id": "74aec744-575d-40ca-be2b-5be0f464fced",
   "metadata": {
    "scrolled": true
   },
   "outputs": [],
   "source": [
    "# combine results\n",
    "go_df_1 = as.data.frame(go_enrichment_1)\n",
    "go_df_2 = as.data.frame(go_enrichment_2)\n",
    "go_df_3 = as.data.frame(go_enrichment_3)\n",
    "go_df_4 = as.data.frame(go_enrichment_4)\n",
    "\n",
    "\n",
    "# Add a column to differentiate the two sets\n",
    "go_df_1$set = \"+Genes\"\n",
    "go_df_2$set = \"+Transcripts\"\n",
    "go_df_3$set = \"-Genes\"\n",
    "go_df_4$set = \"-Transcripts\"\n",
    "\n",
    "# Combine both data frames\n",
    "combined_go_df = rbind(go_df_1, go_df_2, go_df_3, go_df_4)\n",
    "head(combined_go_df)\n",
    "dim(combined_go_df)"
   ]
  },
  {
   "cell_type": "code",
   "execution_count": null,
   "id": "25590605-ce27-4473-93a0-02cd39a69725",
   "metadata": {},
   "outputs": [],
   "source": [
    "write.table(combined_go_df, \"/grehawi/splice-reg-prj/new-data/Diff-Analysis/Suppl_table_clusterProfiler_diff_gene_trx.txt\", sep= ',', row.names = FALSE)"
   ]
  },
  {
   "cell_type": "code",
   "execution_count": null,
   "id": "9af0e563-24b6-4026-a3dc-8fe1c2ae3535",
   "metadata": {},
   "outputs": [],
   "source": [
    "# Create a dotplot\n",
    "options(repr.plot.width=16, repr.plot.height=18)\n",
    "\n",
    "# take top 10 most sign Go-terms for each set\n",
    "go_df_1_sub = go_df_1[order(go_df_1$p.adjust, decreasing = FALSE),][1:10,]\n",
    "go_df_2_sub = go_df_2[order(go_df_2$p.adjust, decreasing = FALSE),][1:10,]\n",
    "go_df_3_sub = go_df_3[order(go_df_3$p.adjust, decreasing = FALSE),][1:10,]\n",
    "go_df_4_sub = go_df_4[order(go_df_4$p.adjust, decreasing = FALSE),][1:10,]\n",
    "\n",
    "combined_go_df_sub = rbind(go_df_1_sub, go_df_2_sub, go_df_3_sub, go_df_4_sub)\n",
    "\n",
    "# Get p-values for the rest of the sets for each go-term in the combined_df\n",
    "combined_go_df_sub_go_ids = combined_go_df_sub$ID\n",
    "go_df_1_sub_extended = go_df_1[go_df_1$ID %in% combined_go_df_sub_go_ids, ]\n",
    "go_df_2_sub_extended = go_df_2[go_df_2$ID %in% combined_go_df_sub_go_ids, ]\n",
    "go_df_3_sub_extended = go_df_3[go_df_3$ID %in% combined_go_df_sub_go_ids, ]\n",
    "go_df_4_sub_extended = go_df_4[go_df_4$ID %in% combined_go_df_sub_go_ids, ]\n",
    "\n",
    "combined_go_df_sub_extended = rbind(go_df_1_sub_extended, go_df_2_sub_extended, go_df_3_sub_extended, go_df_4_sub_extended)\n",
    "\n",
    "ggplot(combined_go_df_sub_extended, aes(x = set, y = Description, size = RichFactor, color = 0 - log10(p.adjust))) +\n",
    "  geom_point() +\n",
    "  scale_color_gradient(low = \"blue\", high = \"red\") +\n",
    "  theme_minimal() +\n",
    "  labs(title = \"GO Enrichment for Gene Sets\", \n",
    "       x = \"Gene Set\", \n",
    "       y = \"GO Term\",\n",
    "       size = \"Rich Factor\", \n",
    "       color = \"-log10 Adjusted p-value\") +\n",
    "    theme(axis.text= element_text(size = 18), axis.title.x = element_text(size = 22),\n",
    "                                                         axis.title.y = element_text(size = 22),\n",
    "                                                         legend.text=element_text(size=20),\n",
    "                                                         legend.title=element_text(size=22))\n"
   ]
  },
  {
   "cell_type": "code",
   "execution_count": null,
   "id": "933fce8e-aebe-49c6-b150-1878132fb73f",
   "metadata": {},
   "outputs": [],
   "source": [
    "ggsave(\"/grehawi/splice-reg-prj/Figures/dotplot_go_enrch.pdf\", width = 18, height = 18)"
   ]
  },
  {
   "cell_type": "markdown",
   "id": "0796124e-abe9-43b7-b13a-730fac63b7bb",
   "metadata": {},
   "source": [
    "### MAGMA of dyregulated genes/trx"
   ]
  },
  {
   "cell_type": "code",
   "execution_count": null,
   "id": "e599205e-4311-4b62-9f3c-74b44a0074b8",
   "metadata": {},
   "outputs": [],
   "source": [
    "# map name of genes and genes of trx to entrezIDs according to the file NCBI37.3.gene.loc\n",
    "NCBI37_gene_loc = read.table('/grehawi/splice-reg-prj/new-data/MAGMA/NCBI37.3/NCBI37.3.gene.loc')\n",
    "names(NCBI37_gene_loc)[1] <- \"entrez_id\"\n",
    "names(NCBI37_gene_loc)[6] <- \"gene_name\"\n",
    "head(NCBI37_gene_loc)"
   ]
  },
  {
   "cell_type": "code",
   "execution_count": null,
   "id": "45e7a4bf-9349-4d87-911d-8cfda2128de7",
   "metadata": {
    "scrolled": true
   },
   "outputs": [],
   "source": [
    "genes_up_df_tmp = merge(genes_up_df, NCBI37_gene_loc[, colnames(NCBI37_gene_loc) %in% c('entrez_id', 'gene_name')], by = \"gene_name\", all.x = TRUE)\n",
    "genes_down_df_tmp = merge(genes_down_df, NCBI37_gene_loc[, colnames(NCBI37_gene_loc) %in% c('entrez_id', 'gene_name')], by = \"gene_name\", all.x = TRUE)\n",
    "trx_up_df_tmp = merge(trx_up_df, NCBI37_gene_loc[, colnames(NCBI37_gene_loc) %in% c('entrez_id', 'gene_name')], by = \"gene_name\", all.x = TRUE)\n",
    "trx_down_df_tmp = merge(trx_down_df, NCBI37_gene_loc[, colnames(NCBI37_gene_loc) %in% c('entrez_id', 'gene_name')], by = \"gene_name\", all.x = TRUE)"
   ]
  },
  {
   "cell_type": "code",
   "execution_count": null,
   "id": "40981f3a-8c77-4483-ac37-5177fb2733e2",
   "metadata": {},
   "outputs": [],
   "source": [
    "sum(is.na(genes_up_df_tmp$entrez_id))\n",
    "sum(is.na(genes_down_df_tmp$entrez_id))\n",
    "sum(is.na(trx_up_df_tmp$entrez_id))\n",
    "sum(is.na(trx_down_df_tmp$entrez_id))\n",
    "# remove rows with NA entries in entrez_id column\n",
    "genes_up_df_tmp = subset(genes_up_df_tmp, !is.na(genes_up_df_tmp$entrez_id))\n",
    "genes_down_df_tmp = subset(genes_down_df_tmp, !is.na(genes_down_df_tmp$entrez_id))\n",
    "trx_up_df_tmp = subset(trx_up_df_tmp, !is.na(trx_up_df_tmp$entrez_id))\n",
    "trx_down_df_tmp = subset(trx_down_df_tmp, !is.na(trx_down_df_tmp$entrez_id))\n"
   ]
  },
  {
   "cell_type": "code",
   "execution_count": null,
   "id": "cc4fd901-c82d-45a5-8a78-7e9b9f388f6d",
   "metadata": {},
   "outputs": [],
   "source": [
    "# create Set_Annot_File for the final step of running MAGMA \n",
    "set_annot_file_diff_expr = data.frame(c(rep('Genes', times=dim(genes_up_df_tmp)[1] + dim(genes_down_df_tmp)[1]),\n",
    "                                        rep('Transcripts', times=dim(trx_up_df_tmp)[1] + dim(trx_down_df_tmp)[1])), \n",
    "                                        c(genes_up_df_tmp$entrez_id, genes_down_df_tmp$entrez_id, \n",
    "                                          trx_up_df_tmp$entrez_id, trx_down_df_tmp$entrez_id))\n",
    "names(set_annot_file_diff_expr) <- NULL"
   ]
  },
  {
   "cell_type": "code",
   "execution_count": null,
   "id": "a038565b-afe3-40da-bc25-d9bda343e8a9",
   "metadata": {},
   "outputs": [],
   "source": [
    "write.table(set_annot_file_diff_expr, '/grehawi/splice-reg-prj/new-data/MAGMA/set_annot_file_diff_expr.txt', sep= ' ')"
   ]
  },
  {
   "cell_type": "markdown",
   "id": "1be0ade1-d12d-45f1-a96f-169d987e84ac",
   "metadata": {},
   "source": [
    "### Visualise MAGMA results as heatmap"
   ]
  },
  {
   "cell_type": "code",
   "execution_count": null,
   "id": "f8e968f8-baf7-4c04-bcb5-c7379e121975",
   "metadata": {},
   "outputs": [],
   "source": [
    "# Read MAGMA results\n",
    "\n",
    "options(repr.plot.width=12, repr.plot.height=6)\n",
    "# List of your MAGMA result files\n",
    "files <- list.files(path = \"/grehawi/splice-reg-prj/new-data/MAGMA/output/gene_set_analysis_output\", pattern = \"*.gsa.out\", full.names = TRUE)\n",
    "\n",
    "# Initialize an empty list to store data\n",
    "result_list <- list()\n",
    "\n",
    "# Loop over each file to load and process the data\n",
    "for (file in files) {\n",
    "    # Read each MAGMA result file\n",
    "    data <- read.table(file, header = TRUE)\n",
    "    \n",
    "    # Extract gene set name and relevant statistic (e.g., Z-score or p-value)\n",
    "    phenotype <- strsplit(basename(file), split = \"_\")[[1]][1]  # Use filename as phenotype label\n",
    "    result_list[[phenotype]] <- data  # assuming P is the p-value column\n",
    "    result_list[[phenotype]]$TYPE = phenotype\n",
    "    result_list[[phenotype]]$abs_beta = abs(data$BETA)\n",
    "    result_list[[phenotype]]$beta_direction = ifelse(data$BETA >= 0, \"Positive\", \"Negative\")\n",
    "    result_list[[phenotype]]$adjP_val = p.adjust(data$P, method = \"BH\")\n",
    "    result_list[[phenotype]]$`-log10P` = 0 - log10(result_list[[phenotype]]$adjP_val)\n",
    "}\n",
    "\n",
    "# Merge all dataframes in the list by 'VARIABLE'\n",
    "combined_data = do.call(rbind, result_list) \n",
    "\n",
    "ggplot(combined_data, aes(x = VARIABLE, y = TYPE)) +\n",
    "  geom_point(aes(size = abs_beta, fill = `-log10P`, shape = beta_direction)) +\n",
    "  scale_shape_manual(values = c(\"Negative\" = 25, \"Positive\" = 21)) +\n",
    "  scale_fill_gradient(low = \"blue\", high = \"red\") + xlab(\"\") + ylab(\"\") +\n",
    "                    theme_bw() + theme(legend.text=element_text(size=18), \n",
    "                                       legend.title=element_text(size=18), axis.text = element_text(size = 22),\n",
    "                                       axis.title = element_text(size = 22))"
   ]
  },
  {
   "cell_type": "code",
   "execution_count": null,
   "id": "5e288e9a-3dc8-497e-8bf0-9e1c655020f1",
   "metadata": {},
   "outputs": [],
   "source": [
    "ggsave(\"/grehawi/splice-reg-prj/Figures/dotplot_MAGMA_res.png\", width = 10, height = 8)"
   ]
  },
  {
   "cell_type": "code",
   "execution_count": null,
   "id": "25bda0dd-82ad-4c7d-ba40-5250cc026c18",
   "metadata": {
    "scrolled": true
   },
   "outputs": [],
   "source": [
    "write.table(combined_data, '/grehawi/splice-reg-prj/new-data/Diff-Analysis/supp_table_MAGMA_dysreg.csv', row.names = FALSE)"
   ]
  },
  {
   "cell_type": "markdown",
   "id": "910f5613-dd67-465a-8688-a01d3794b689",
   "metadata": {},
   "source": [
    "### Visualize boxplots of dysregulated gene vs transcript expression  \n",
    "The following is used for suppl Figure2"
   ]
  },
  {
   "cell_type": "code",
   "execution_count": null,
   "id": "e9029863-246b-4957-bd82-55c57d7cabf7",
   "metadata": {
    "scrolled": true
   },
   "outputs": [],
   "source": [
    "# Choose an up-reg gene that also show diff expr at the trx level\n",
    "unique(trx_up_df[trx_up_df$gene_name %in% genes_up_df$gene_name, 'gene_name']) #--> ITGB3 (Autism)"
   ]
  },
  {
   "cell_type": "code",
   "execution_count": null,
   "id": "8657a44f-e9fb-49b4-a1cb-6beaefa0dc85",
   "metadata": {},
   "outputs": [],
   "source": [
    "trx_up_df[trx_up_df$gene_name %in% genes_up_df$gene_name & trx_up_df$gene_name == 'ITGB3', ]"
   ]
  },
  {
   "cell_type": "code",
   "execution_count": null,
   "id": "1a109671-8857-40b7-83b0-7c4f803cfcfc",
   "metadata": {
    "scrolled": true
   },
   "outputs": [],
   "source": [
    "# Choose a up-reg trx whos gene is not diff expr -->NR3C1\n",
    "trx_up_df[!trx_up_df$gene_name %in% genes_up_df$gene_name & !trx_up_df$gene_name %in% genes_down_df$gene_name,]\n",
    "trx_up_df[trx_up_df$gene_name == 'NR3C1', ]"
   ]
  },
  {
   "cell_type": "code",
   "execution_count": null,
   "id": "41217923-2d9b-41d2-abba-0a42368c0124",
   "metadata": {
    "scrolled": true
   },
   "outputs": [],
   "source": [
    "# get the expr of ITGB3 and NR3C1 in cases vs controls\n",
    "ITGB3_and_NR3C1_expr_cases = gene.count.corrected.final[rownames(gene.count.corrected.final) %in% c(\"ENSG00000259207\", \"ENSG00000113580\"),\n",
    "                                              colnames(gene.count.corrected.final) %in% rownames(samples.info[samples.info$ltany_di ==1,])]\n",
    "ITGB3_and_NR3C1_expr_controls = gene.count.corrected.final[rownames(gene.count.corrected.final) %in% c(\"ENSG00000259207\", \"ENSG00000113580\"),\n",
    "                                              colnames(gene.count.corrected.final) %in% rownames(samples.info[samples.info$ltany_di ==0,])]\n",
    "\n",
    "# Get expr of all trx of ITGB3 and NR3C1\n",
    "trx_of_ITGB3_NR3C1 = trx.genes[trx.genes$gene_id %in% c('ENSG00000259207', 'ENSG00000113580'), ]\n",
    "# Get their expr in cases vs controls\n",
    "trx_of_ITGB3_NR3C1_expr_cases = trx.count.corrected.final[rownames(trx.count.corrected.final) %in% trx_of_ITGB3_NR3C1$transcript_id,\n",
    "                                                  colnames(gene.count.corrected.final) %in% rownames(samples.info[samples.info$ltany_di ==1,])]\n",
    "trx_of_ITGB3_NR3C1_expr_controls = trx.count.corrected.final[rownames(trx.count.corrected.final) %in% trx_of_ITGB3_NR3C1$transcript_id,\n",
    "                                                  colnames(gene.count.corrected.final) %in% rownames(samples.info[samples.info$ltany_di ==0,])]"
   ]
  },
  {
   "cell_type": "code",
   "execution_count": null,
   "id": "0b41feed-38e0-41f4-94d6-e3fc202285a0",
   "metadata": {
    "scrolled": true
   },
   "outputs": [],
   "source": [
    "trx_of_ITGB3_NR3C1_expr_controls"
   ]
  },
  {
   "cell_type": "code",
   "execution_count": null,
   "id": "d77671f3-aee9-45b0-93ad-a6480db0575d",
   "metadata": {},
   "outputs": [],
   "source": [
    "# Reshape the data from wide to long format\n",
    "ITGB3_and_NR3C1_expr_cases = t(ITGB3_and_NR3C1_expr_cases)\n",
    "ITGB3_and_NR3C1_expr_cases = as.data.frame(ITGB3_and_NR3C1_expr_cases)\n",
    "ITGB3_and_NR3C1_expr_cases$samples = rownames(ITGB3_and_NR3C1_expr_cases)\n",
    "ITGB3_and_NR3C1_expr_cases$status = 'Affected Individuals'\n",
    "rownames(ITGB3_and_NR3C1_expr_cases) = NULL\n",
    "\n",
    "ITGB3_and_NR3C1_expr_controls = t(ITGB3_and_NR3C1_expr_controls)\n",
    "ITGB3_and_NR3C1_expr_controls = as.data.frame(ITGB3_and_NR3C1_expr_controls)\n",
    "ITGB3_and_NR3C1_expr_controls$samples = rownames(ITGB3_and_NR3C1_expr_controls)\n",
    "ITGB3_and_NR3C1_expr_controls$status = 'Unaffected Individuals'\n",
    "rownames(ITGB3_and_NR3C1_expr_controls) = NULL\n",
    "\n",
    "rbind_ITGB3_and_NR3C1_expr_case_control = rbind(ITGB3_and_NR3C1_expr_cases, ITGB3_and_NR3C1_expr_controls)\n",
    "rbind_ITGB3_and_NR3C1_expr_case_control_long = pivot_longer(rbind_ITGB3_and_NR3C1_expr_case_control, cols = c('ENSG00000113580', 'ENSG00000259207'), names_to = \"ID\", values_to = \"Expression\")\n",
    "head(rbind_ITGB3_and_NR3C1_expr_case_control_long)\n"
   ]
  },
  {
   "cell_type": "code",
   "execution_count": null,
   "id": "1ce70f40-771f-4c3a-a22c-0dc6839ec980",
   "metadata": {},
   "outputs": [],
   "source": [
    "# Reshape the data from wide to long format\n",
    "#combine_selected_cases = rbind(ITGB3_expr_cases, ITGB3_trxs_expr_cases)\n",
    "trx_of_ITGB3_NR3C1_expr_cases = t(trx_of_ITGB3_NR3C1_expr_cases)\n",
    "trx_of_ITGB3_NR3C1_expr_cases = as.data.frame(trx_of_ITGB3_NR3C1_expr_cases)\n",
    "trx_of_ITGB3_NR3C1_expr_cases$samples = rownames(trx_of_ITGB3_NR3C1_expr_cases)\n",
    "trx_of_ITGB3_NR3C1_expr_cases$status = 'Affected Individuals'\n",
    "rownames(trx_of_ITGB3_NR3C1_expr_cases) = NULL\n",
    "\n",
    "trx_of_ITGB3_NR3C1_expr_controls = t(trx_of_ITGB3_NR3C1_expr_controls)\n",
    "trx_of_ITGB3_NR3C1_expr_controls = as.data.frame(trx_of_ITGB3_NR3C1_expr_controls)\n",
    "trx_of_ITGB3_NR3C1_expr_controls$samples = rownames(trx_of_ITGB3_NR3C1_expr_controls)\n",
    "trx_of_ITGB3_NR3C1_expr_controls$status = 'Unaffected Individuals'\n",
    "rownames(trx_of_ITGB3_NR3C1_expr_controls) = NULL\n",
    "\n",
    "rbind_trx_of_ITGB3_NR3C1_expr_case_control = rbind(trx_of_ITGB3_NR3C1_expr_cases, trx_of_ITGB3_NR3C1_expr_controls)\n",
    "rbind_trx_of_ITGB3_NR3C1_expr_case_control_long = pivot_longer(rbind_trx_of_ITGB3_NR3C1_expr_case_control, cols = c('ENST00000394464', 'ENST00000424646', 'ENST00000503201', 'ENST00000559488'), names_to = \"ID\", values_to = \"Expression\")\n",
    "head(rbind_trx_of_ITGB3_NR3C1_expr_case_control_long)\n"
   ]
  },
  {
   "cell_type": "code",
   "execution_count": null,
   "id": "a14c8782-7294-4874-ba35-49058956fa37",
   "metadata": {},
   "outputs": [],
   "source": [
    "options(repr.plot.width=12, repr.plot.height=6)\n",
    "par(mfrow=c(1,2))\n",
    "pdf('/grehawi/splice-reg-prj/Figures/expression_diff_expr_ITGB3_NR3C1_genes.pdf', width = 12, height = 10)\n",
    "ggplot(rbind_ITGB3_and_NR3C1_expr_case_control_long, aes(x = ID, y = Expression, fill = status)) +\n",
    "  geom_boxplot() +\n",
    "  theme_bw() +\n",
    "  labs(x = \"ID\", y = \"Expression\", fill = \"Status\") +\n",
    "    xlab(\"\") + theme_classic() + theme(axis.text= element_text(size = 22), axis.title.x = element_text(size = 22),\n",
    "                                                        axis.text.x = element_text(angle = 45, hjust = 1),\n",
    "                                                         axis.title.y = element_text(size = 22),\n",
    "                                                         legend.text=element_text(size=24),\n",
    "                                                         legend.title=element_text(size=24)) +\n",
    "  scale_fill_manual(values = c(\"Affected Individuals\" = \"#F0CF7F\", \"Unaffected Individuals\" = \"#5DB9B5\"))\n",
    "\n",
    "dev.off()\n",
    "pdf('/grehawi/splice-reg-prj/Figures/expression_diff_expr_ITGB3_NR3C1_trx.pdf', width = 18, height = 10)\n",
    "ggplot(rbind_trx_of_ITGB3_NR3C1_expr_case_control_long, aes(x = ID, y = Expression, fill = status)) +\n",
    "  geom_boxplot() +\n",
    "  theme_bw() +\n",
    "  labs(x = \"ID\", y = \"Expression\", fill = \"Status\") +\n",
    "    xlab(\"\") + theme_classic() + theme(axis.text= element_text(size = 22), axis.title.x = element_text(size = 22),\n",
    "                                                        axis.text.x = element_text(angle = 45, hjust = 1), \n",
    "                                                         axis.title.y = element_text(size = 22),\n",
    "                                                         legend.text=element_text(size=24),\n",
    "                                                         legend.title=element_text(size=24)) +\n",
    "  scale_fill_manual(values = c(\"Affected Individuals\" = \"#F0CF7F\", \"Unaffected Individuals\" = \"#5DB9B5\"))\n",
    "dev.off()"
   ]
  },
  {
   "cell_type": "code",
   "execution_count": null,
   "id": "7478e807-ae09-4f15-a917-3dc0300d3a90",
   "metadata": {},
   "outputs": [],
   "source": []
  }
 ],
 "metadata": {
  "kernelspec": {
   "display_name": "R [conda env:r_env] *",
   "language": "R",
   "name": "conda-env-r_env-r"
  },
  "language_info": {
   "codemirror_mode": "r",
   "file_extension": ".r",
   "mimetype": "text/x-r-source",
   "name": "R",
   "pygments_lexer": "r",
   "version": "4.4.1"
  }
 },
 "nbformat": 4,
 "nbformat_minor": 5
}
