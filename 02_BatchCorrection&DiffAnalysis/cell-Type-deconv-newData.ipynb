{
 "cells": [
  {
   "cell_type": "code",
   "execution_count": null,
   "id": "df5ee3e2",
   "metadata": {
    "scrolled": true
   },
   "outputs": [],
   "source": [
    "library(data.table)\n",
    "library(dplyr)\n",
    "library(readxl)\n",
    "library(ggplot2)\n",
    "library(purrr)\n",
    "library(stringr)\n",
    "library(tidyr)\n",
    "library(limma)\n",
    "library(granulator)"
   ]
  },
  {
   "cell_type": "markdown",
   "id": "33025df5",
   "metadata": {},
   "source": [
    "### following analysis was eventually carried out on the LM22 sig matrix"
   ]
  },
  {
   "cell_type": "code",
   "execution_count": null,
   "id": "cd2a9308",
   "metadata": {},
   "outputs": [],
   "source": [
    "genes.raw.counts = read.table(\"/grehawi/splice-reg-prj/new-data/RNA-seq/gene_counts_combined_noDex.matrix\")\n",
    "head(genes.raw.counts)"
   ]
  },
  {
   "cell_type": "code",
   "execution_count": null,
   "id": "a46b1b66",
   "metadata": {},
   "outputs": [],
   "source": [
    "dim(genes.raw.counts)"
   ]
  },
  {
   "cell_type": "code",
   "execution_count": null,
   "id": "7534ccf2",
   "metadata": {
    "scrolled": true
   },
   "outputs": [],
   "source": [
    "gencode.annotation = rtracklayer::import(\"/grehawi/splice-reg-prj/data/Homo_sapiens.GRCh38.97.gtf\")\n",
    "\n",
    "# get names instead of Ids\n",
    "gencode.annotation.df = as.data.frame(gencode.annotation)\n",
    "gene.names.ids = gencode.annotation.df[gencode.annotation.df$type==\"gene\", colnames(gencode.annotation.df) %in% c(\"gene_id\", \"gene_name\")]\n",
    "gene.names.ids = gene.names.ids[gene.names.ids$gene_id %in% row.names(genes.raw.counts),]\n",
    "\n",
    "gene.lenghts = read.table(\"/grehawi/splice-reg-prj/data/gene-lenghts.txt\")\n",
    "head(gene.lenghts)\n",
    "subsetted.gene.lengths = gene.lenghts[gene.lenghts$gene_id %in% gene.names.ids$gene_id,]\n",
    "subsetted.gene.lengths = subsetted.gene.lengths %>% left_join(gene.names.ids, by =\"gene_id\")\n",
    "\n",
    "#match with order of expression matrix\n",
    "# first remove genes with effective lengths = 0 \n",
    "subsetted.gene.lengths = subsetted.gene.lengths[subsetted.gene.lengths$effective_length != 0, ]\n",
    "genes.raw.counts = genes.raw.counts[rownames(genes.raw.counts) %in% subsetted.gene.lengths$gene_id, ]\n",
    "\n",
    "idorder <- as.character(rownames(genes.raw.counts))\n",
    "final.gene.lengths <- subsetted.gene.lengths[match(idorder, subsetted.gene.lengths$gene_id),]\n",
    "head(final.gene.lengths)\n",
    "dim(final.gene.lengths)"
   ]
  },
  {
   "cell_type": "code",
   "execution_count": null,
   "id": "7b310bb7",
   "metadata": {},
   "outputs": [],
   "source": [
    "length(unique(final.gene.lengths$gene_name))"
   ]
  },
  {
   "cell_type": "code",
   "execution_count": null,
   "id": "ab43fc0f",
   "metadata": {},
   "outputs": [],
   "source": [
    "length(unique(final.gene.lengths$gene_id))"
   ]
  },
  {
   "cell_type": "code",
   "execution_count": null,
   "id": "7be00295",
   "metadata": {},
   "outputs": [],
   "source": [
    "final.gene.lengths = final.gene.lengths[! duplicated(final.gene.lengths$gene_name), ]"
   ]
  },
  {
   "cell_type": "code",
   "execution_count": null,
   "id": "cfbbeb3f",
   "metadata": {},
   "outputs": [],
   "source": [
    "dim(final.gene.lengths)"
   ]
  },
  {
   "cell_type": "code",
   "execution_count": null,
   "id": "2ea7289c",
   "metadata": {},
   "outputs": [],
   "source": [
    "length(unique(final.gene.lengths$gene_id))"
   ]
  },
  {
   "cell_type": "code",
   "execution_count": null,
   "id": "8502fd8d",
   "metadata": {},
   "outputs": [],
   "source": [
    "genes.count.matrix.sub = genes.raw.counts[rownames(genes.raw.counts) %in% final.gene.lengths$gene_id, ] \n",
    "genes.count.matrix.withNames = as.matrix(genes.count.matrix.sub)\n",
    "row.names(genes.count.matrix.withNames) = final.gene.lengths$gene_name\n",
    "head(genes.count.matrix.withNames)"
   ]
  },
  {
   "cell_type": "code",
   "execution_count": null,
   "id": "7f990428",
   "metadata": {},
   "outputs": [],
   "source": [
    "dim(genes.count.matrix.withNames)"
   ]
  },
  {
   "cell_type": "code",
   "execution_count": null,
   "id": "d514d3f6",
   "metadata": {},
   "outputs": [],
   "source": [
    "final.gene.lengths.vec = final.gene.lengths$effective_length"
   ]
  },
  {
   "cell_type": "markdown",
   "id": "1334f42c",
   "metadata": {},
   "source": [
    "### Load reference profile matrix"
   ]
  },
  {
   "cell_type": "code",
   "execution_count": null,
   "id": "d490eb35",
   "metadata": {},
   "outputs": [],
   "source": [
    "LM22 = read.table(\"/grehawi/splice-reg-prj/data/LM22.txt\", sep = '\\t', header=TRUE)\n",
    "rownames(LM22) = LM22$Gene.symbol\n",
    "LM22$Gene.symbol = NULL\n",
    "head(LM22)\n",
    "dim(LM22)"
   ]
  },
  {
   "cell_type": "code",
   "execution_count": null,
   "id": "82fdc1bb",
   "metadata": {},
   "outputs": [],
   "source": [
    "length(intersect(rownames(genes.count.matrix.withNames), rownames(LM22)))"
   ]
  },
  {
   "cell_type": "markdown",
   "id": "9482fa0d",
   "metadata": {},
   "source": [
    "The performance of cell type deconvolution strongly depends on the choice and quality of the reference profile, and in particular on the degree of similarity between cell-type specific expression profiles. It is therefore recommended to test multiple reference profile matrices generated at different cell type resolutions"
   ]
  },
  {
   "cell_type": "markdown",
   "id": "906fb216",
   "metadata": {},
   "source": [
    "A useful metric to evaluate the quality of reference profile matrices is to compute the Condition Number k, which measures how sensitive the deconvolution is to variability in the input data. Generally, a matrix with low condition number (k close to 1) is well-conditioned, as it leads to a stable solution."
   ]
  },
  {
   "cell_type": "code",
   "execution_count": null,
   "id": "e1148ffa",
   "metadata": {},
   "outputs": [],
   "source": [
    "## plot signature matrix similarity matrices\n",
    "options(repr.plot.width=12, repr.plot.height=8)\n",
    "plot_similarity(sigMatrix=as.matrix(LM22))"
   ]
  },
  {
   "cell_type": "code",
   "execution_count": null,
   "id": "e33eed3c",
   "metadata": {},
   "outputs": [],
   "source": [
    "# deconvolute input data using all available methods by default\n",
    "decon <- deconvolute(m = get_TPM(as.matrix(genes.count.matrix.withNames), final.gene.lengths.vec), as.matrix(LM22))"
   ]
  },
  {
   "cell_type": "code",
   "execution_count": null,
   "id": "33af3f37",
   "metadata": {
    "scrolled": true
   },
   "outputs": [],
   "source": [
    "decon$proportions$svr_sig1[1:50,]"
   ]
  },
  {
   "cell_type": "code",
   "execution_count": null,
   "id": "ff42ae15",
   "metadata": {},
   "outputs": [],
   "source": [
    "sum(decon$proportions$svr_sig1 < 0)"
   ]
  },
  {
   "cell_type": "code",
   "execution_count": null,
   "id": "345dccb6",
   "metadata": {},
   "outputs": [],
   "source": [
    "sum(decon$proportions$rls_sig1 < 0)"
   ]
  },
  {
   "cell_type": "code",
   "execution_count": null,
   "id": "032faf26",
   "metadata": {
    "scrolled": true
   },
   "outputs": [],
   "source": [
    "decon$proportions$rls_sig1[1:50,]"
   ]
  },
  {
   "cell_type": "code",
   "execution_count": null,
   "id": "be5b1243",
   "metadata": {},
   "outputs": [],
   "source": [
    "sum(decon$proportions$qprogwc_sig1 < 0)"
   ]
  },
  {
   "cell_type": "code",
   "execution_count": null,
   "id": "4833af02",
   "metadata": {
    "scrolled": true
   },
   "outputs": [],
   "source": [
    "decon$proportions$qprogwc_sig1[1:50,]"
   ]
  },
  {
   "cell_type": "code",
   "execution_count": null,
   "id": "12d71f97",
   "metadata": {},
   "outputs": [],
   "source": [
    "sum(decon$proportions$nnls_sig1 < 0)"
   ]
  },
  {
   "cell_type": "code",
   "execution_count": null,
   "id": "fec9dd56",
   "metadata": {
    "scrolled": true
   },
   "outputs": [],
   "source": [
    "decon$proportions$nnls_sig1[1:50,]"
   ]
  },
  {
   "cell_type": "code",
   "execution_count": null,
   "id": "4beae27c",
   "metadata": {},
   "outputs": [],
   "source": [
    "sum(decon$proportions$ols_sig1 < 0)"
   ]
  },
  {
   "cell_type": "code",
   "execution_count": null,
   "id": "2649cce6",
   "metadata": {},
   "outputs": [],
   "source": [
    "sum(decon$proportions$qprog_sig1 < 0)"
   ]
  },
  {
   "cell_type": "code",
   "execution_count": null,
   "id": "f1588c8f",
   "metadata": {},
   "outputs": [],
   "source": [
    "sum(decon$proportions$dtangle_sig1 < 0)"
   ]
  },
  {
   "cell_type": "code",
   "execution_count": null,
   "id": "b27c1480",
   "metadata": {
    "scrolled": true
   },
   "outputs": [],
   "source": [
    "decon$proportions$dtangle_sig1[1:50,]"
   ]
  },
  {
   "cell_type": "code",
   "execution_count": null,
   "id": "4d36a627",
   "metadata": {},
   "outputs": [],
   "source": [
    "options(repr.plot.width=12, repr.plot.height=9)\n",
    "# plot cell type proportions\n",
    "plot_deconvolute(deconvoluted = decon, scale = TRUE, labels = FALSE)"
   ]
  },
  {
   "cell_type": "markdown",
   "id": "fbc29ba9",
   "metadata": {},
   "source": [
    "When no ground truth data is available, we can assess the performance of the different deconvolution methods by computing the correlation between estimated cell type proportions generated by all methods using the correlate() function. By default estimated cell type proportions are scaled to standard scores to correct for differences in absolute estimated cell-type specific proportions across algorithms."
   ]
  },
  {
   "cell_type": "code",
   "execution_count": null,
   "id": "ffd57e66",
   "metadata": {},
   "outputs": [],
   "source": [
    "# deconvolute input data using selected methods and reference profile matrix\n",
    "methods <- c('dtangle','nnls','qprogwc')\n",
    "decon <- deconvolute(m = get_TPM(as.matrix(genes.count.matrix.withNames), final.gene.lengths.vec), as.matrix(LM22), methods)"
   ]
  },
  {
   "cell_type": "code",
   "execution_count": null,
   "id": "6144df5b",
   "metadata": {},
   "outputs": [],
   "source": [
    "# correlation analysis\n",
    "correl <- correlate(deconvoluted = decon)\n",
    "options(repr.plot.width=9, repr.plot.height=6)\n",
    "# correlation heatmap\n",
    "plot_correlate(correlated = correl, method=\"heatmap\", legend=TRUE)"
   ]
  },
  {
   "cell_type": "markdown",
   "id": "ff65b700",
   "metadata": {},
   "source": [
    "We observe that estimated cell type proportions are highly correlated between methods for all cell types, indicating that the deconvolution methods agree on the assignment of cell type specific signals"
   ]
  },
  {
   "cell_type": "code",
   "execution_count": null,
   "id": "586e45d3",
   "metadata": {
    "scrolled": true
   },
   "outputs": [],
   "source": [
    "correl"
   ]
  },
  {
   "cell_type": "code",
   "execution_count": null,
   "id": "cc8d31e5",
   "metadata": {
    "scrolled": true
   },
   "outputs": [],
   "source": [
    "# The average correlations across methods by cell type\n",
    "correl$summary"
   ]
  },
  {
   "cell_type": "code",
   "execution_count": null,
   "id": "fcb24221",
   "metadata": {
    "scrolled": true
   },
   "outputs": [],
   "source": [
    "# deconvolution method ranking\n",
    "correl$rank"
   ]
  },
  {
   "cell_type": "code",
   "execution_count": null,
   "id": "6109b5cd",
   "metadata": {},
   "outputs": [],
   "source": [
    "# deconvolute input data \n",
    "methods <- c('dtangle')\n",
    "decon.final <- deconvolute(m = get_TPM(as.matrix(genes.count.matrix.withNames), final.gene.lengths.vec), as.matrix(LM22), methods)"
   ]
  },
  {
   "cell_type": "code",
   "execution_count": null,
   "id": "de27c67e",
   "metadata": {},
   "outputs": [],
   "source": [
    "head(decon.final$proportions$dtangle_sig1)"
   ]
  },
  {
   "cell_type": "code",
   "execution_count": null,
   "id": "900a1561",
   "metadata": {},
   "outputs": [],
   "source": [
    "write.table(decon.final$proportions$dtangle_sig1, \"/grehawi/splice-reg-prj/new-data/batch_corr/dtangle-cellTypes-on-raw-LM22.txt\")"
   ]
  }
 ],
 "metadata": {
  "kernelspec": {
   "display_name": "R [conda env:r_env] *",
   "language": "R",
   "name": "conda-env-r_env-r"
  },
  "language_info": {
   "codemirror_mode": "r",
   "file_extension": ".r",
   "mimetype": "text/x-r-source",
   "name": "R",
   "pygments_lexer": "r",
   "version": "4.4.1"
  }
 },
 "nbformat": 4,
 "nbformat_minor": 5
}
