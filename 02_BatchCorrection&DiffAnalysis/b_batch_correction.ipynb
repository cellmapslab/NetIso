{
 "cells": [
  {
   "cell_type": "code",
   "execution_count": null,
   "id": "02f06320",
   "metadata": {
    "scrolled": true
   },
   "outputs": [],
   "source": [
    "library(data.table)\n",
    "library(dplyr)\n",
    "library(readxl)\n",
    "library(ggplot2)\n",
    "library(purrr)\n",
    "library(stringr)\n",
    "library(sva)\n",
    "library(limma)\n",
    "library(edgeR)\n",
    "library(DESeq2)\n",
    "library(vsn)\n",
    "library(hexbin)\n",
    "library(FactoMineR)\n",
    "library(factoextra)\n",
    "library(variancePartition)\n",
    "library(tidyr)\n",
    "library(pheatmap)\n",
    "library(EnhancedVolcano)"
   ]
  },
  {
   "cell_type": "code",
   "execution_count": null,
   "id": "1b3ef41e",
   "metadata": {},
   "outputs": [],
   "source": [
    "#Guid limma-trend\n",
    "#https://bioconductor.org/packages/devel/bioc/vignettes/limma/inst/doc/usersguide.pdf\n",
    "# The use of eBayes or treat with trend=TRUE is known as the limma-trend method (Law et al, 2014;\n",
    "# Phipson et al, 2016). With this option, an intensity-dependent trend is fitted to the prior variances\n",
    "# s2.prior. Specifically, squeezeVar is called with the covariate equal to Amean, the average\n",
    "# log2-intensity for each gene. The trend that is fitted can be examined by plotSA. limma-trend is\n",
    "# useful for processing expression values that show a mean-variance relationship. This is often useful\n",
    "# for microarray data, and it can also be applied to RNA-seq counts that have been converted to\n",
    "# log2-counts per million (logCPM) values (Law et al, 2014). When applied to RNA-seq logCPM\n",
    "# values, limma-trend give similar results to the voom method. The voom method incorporates the\n",
    "# mean-variance trend into the precision weights, whereas limma-trend incorporates the trend into\n",
    "# the empirical Bayes moderation. limma-trend is somewhat simpler than voom because it assumes\n",
    "# that the sequencing depths (library sizes) are not wildly different between the samples and it applies\n",
    "# the mean-variance trend on a genewise basis instead to individual observations. limma-trend is\n",
    "# recommended for RNA-seq analysis when the library sizes are reasonably consistent (less than\n",
    "# 3-fold difference from smallest to largest) because of its simplicity and speed."
   ]
  },
  {
   "cell_type": "code",
   "execution_count": null,
   "id": "f7ff3a9c",
   "metadata": {},
   "outputs": [],
   "source": [
    "# These samples are filtered for duplicates, life-time diagnosis, and new cases samples from the new rna-seq run\n",
    "samples.info = read.table(\"/grehawi/splice-reg-prj/new-data/Diff-Analysis/combined_pheno_withCT.csv\")\n",
    "dim(samples.info)"
   ]
  },
  {
   "cell_type": "code",
   "execution_count": null,
   "id": "38de3869",
   "metadata": {},
   "outputs": [],
   "source": [
    "#set preparation_pbmc_batch for IST samples to a new value 33\n",
    "samples.info$preparation_pbmc_batch[samples.info$sequence_run == 2] = 33"
   ]
  },
  {
   "cell_type": "code",
   "execution_count": null,
   "id": "7b3f55fa",
   "metadata": {},
   "outputs": [],
   "source": [
    "head(samples.info)"
   ]
  },
  {
   "cell_type": "code",
   "execution_count": null,
   "id": "ec607718",
   "metadata": {},
   "outputs": [],
   "source": [
    "#Read gene count (not normalised, not batch corrected)\n",
    "genes.count = read.table(\"/grehawi/splice-reg-prj/new-data/RNA-seq/gene_counts_combined_noDex.matrix\")\n",
    "head(genes.count)\n",
    "dim(genes.count)"
   ]
  },
  {
   "cell_type": "code",
   "execution_count": null,
   "id": "330e5060",
   "metadata": {},
   "outputs": [],
   "source": [
    "hist(as.matrix(genes.count))"
   ]
  },
  {
   "cell_type": "code",
   "execution_count": null,
   "id": "5e8618c7",
   "metadata": {},
   "outputs": [],
   "source": [
    "# Form a data frame analogous to expression data that will hold the samples info.\n",
    "genes.count = genes.count[, colnames(genes.count) %in% samples.info$combined_id]\n",
    "dim(genes.count)\n",
    "samples = colnames(genes.count)\n",
    "order = match(samples, samples.info$combined_id)\n",
    "samples.info = samples.info[order, ]\n",
    "rownames(samples.info) = samples.info$combined_id\n",
    "\n",
    "head(samples.info)\n",
    "dim(samples.info)"
   ]
  },
  {
   "cell_type": "markdown",
   "id": "d882d61d",
   "metadata": {},
   "source": [
    "## 1. Explore possible covariates (we know already that we have the following confounders with huge effect) including: seq_run , mean_gc_content, total_pairs"
   ]
  },
  {
   "cell_type": "code",
   "execution_count": null,
   "id": "04c6c122",
   "metadata": {},
   "outputs": [],
   "source": [
    "# seq-run effect\n",
    "#svg(\"/grehawi/splice-reg-prj/pca-seqrun.svg\", width = 10, height = 8)\n",
    "options(repr.plot.width=12, repr.plot.height=8)\n",
    "pca_genes <- PCA(\n",
    "  X = t(scale(genes.count)),\n",
    "      ncp = 10,\n",
    "  graph = FALSE)\n",
    "#variance PC1(52.8%), PC2(11.6%)\n",
    "fviz_pca_ind(pca_genes, col.ind=\"Sequence_run\",\n",
    "             geom = \"point\", labelsize= 40,\n",
    "            habillage = as.factor(samples.info$sequence_run)) + theme_classic() +\n",
    "            theme(axis.text= element_text(size = 17), axis.title.x = element_text(size = 20),\n",
    "                    axis.title.y = element_text(size = 20), legend.text=element_text(size=22),\n",
    "                    legend.title=element_text(size=22)) + labs(x = \"PC1 (52.8%)\", y = \"PC2 (11.6%)\")\n",
    "#dev.off()"
   ]
  },
  {
   "cell_type": "code",
   "execution_count": null,
   "id": "3bc325a8",
   "metadata": {},
   "outputs": [],
   "source": [
    "#Sex effect\n",
    "fviz_pca_ind(pca_genes, \n",
    "             geom = \"point\", labelsize= 30,\n",
    "            habillage = as.factor(samples.info$sex))"
   ]
  },
  {
   "cell_type": "code",
   "execution_count": null,
   "id": "e7654421",
   "metadata": {},
   "outputs": [],
   "source": [
    "# Barplot of sex distribution\n",
    "options(repr.plot.width=8, repr.plot.height=6)\n",
    "first_run_sex_distr = samples.info[samples.info$sequence_run == 1, colnames(samples.info) %in% c('sex')]\n",
    "second_run_sex_distr = samples.info[samples.info$sequence_run == 2, colnames(samples.info) %in% c('sex')]\n",
    "table(first_run_sex_distr)\n",
    "table(second_run_sex_distr)\n",
    "Sex = samples.info[, colnames(samples.info) %in% c('sex')]\n",
    "\n",
    "ggplot(as.data.frame(table(Sex)), aes(x=Sex, y=Freq)) + \n",
    "geom_bar(stat = \"identity\", fill=c(\"#EBC30C\", \"yellowgreen\"))+ theme_classic() +\n",
    "theme(axis.text.x = element_text(size = 17), axis.title.x = element_text(size = 20),\n",
    "        axis.text.y = element_text(size = 17), axis.title.y = element_text(size = 20)) + labs(y = \"Count\")\n",
    "ggsave(\"/grehawi/splice-reg-prj/barplot_sex_distr.png\", width = 12, height = 6)"
   ]
  },
  {
   "cell_type": "code",
   "execution_count": null,
   "id": "63110380",
   "metadata": {},
   "outputs": [],
   "source": [
    "#BMI effect\n",
    "#svg(\"/grehawi/splice-reg-prj/barplot_BMI_distr.svg\", width = 10, height = 8)\n",
    "# Create a blank plot\n",
    "hist(samples.info$BMI[samples.info$ltany_di == 1],\n",
    "     main = \"Histogram of BMI Values\",\n",
    "     xlab = \"BMI\",\n",
    "     col = \"#F0CF7F\",\n",
    "     border = \"black\", ylab = 'Count', cex.lab = 1.5, cex.axis = 1.3)\n",
    "\n",
    "# Add another histogram\n",
    "hist(samples.info$BMI[samples.info$ltany_di == 0], add = TRUE, col = \"#5DB9B5\", border = \"black\") \n",
    "\n",
    "# Create a legend\n",
    "legend(\"topright\", legend = c(\"Affected Individuals\", \"Unaffected Individuals\"),\n",
    "       fill = c(\"#F0CF7F\", \"#5DB9B5\"), bty = 'n', cex = 1.5)\n",
    "#dev.off()"
   ]
  },
  {
   "cell_type": "code",
   "execution_count": null,
   "id": "a74e9215",
   "metadata": {},
   "outputs": [],
   "source": [
    "# Age effect\n",
    "options(repr.plot.width=8, repr.plot.height=6)\n",
    "#svg(\"/grehawi/splice-reg-prj/barplot_age_distr.svg\", width = 10, height = 8)\n",
    "# Create a blank plot\n",
    "hist(samples.info$age[samples.info$ltany_di == 1],\n",
    "     main = \"Histogram of Age Values\",\n",
    "     xlab = \"Age\",\n",
    "     col = \"#F0CF7F\",\n",
    "     border = \"black\", ylab = 'Count', cex.lab = 1.5, cex.axis = 1.3)\n",
    "\n",
    "# Add another histogram\n",
    "hist(samples.info$age[samples.info$ltany_di == 0], add = TRUE, col = \"#5DB9B5\", border = \"black\")\n",
    "\n",
    "# Create a legend\n",
    "legend(\"topright\", legend = c(\"Affected Individuals\", \"Unaffected Individuals\"),\n",
    "       fill = c(\"#F0CF7F\", \"#5DB9B5\"), bty = 'n', cex = 1.5)\n",
    "#dev.off()\n",
    "\n",
    "# Cases are older than controls, we should add this in our design matrix"
   ]
  },
  {
   "cell_type": "code",
   "execution_count": null,
   "id": "d505eca1",
   "metadata": {
    "scrolled": true
   },
   "outputs": [],
   "source": [
    "#read cell type info\n",
    "ct = read.table(\"/grehawi/splice-reg-prj/new-data/batch_corr/dtangle-cellTypes-on-raw-LM22.txt\")\n",
    "head(ct)\n",
    "dim(ct)\n",
    "ct = ct[rownames(ct) %in% samples.info$combined_id, ]\n",
    "dim(ct)\n",
    "# Get x number of PCs to represent cell-type values\n",
    "ct_scaled = scale(ct)\n",
    "pca_cellT <- PCA(\n",
    "  X = ct_scaled)\n",
    "pca_cellT$eig\n",
    "pcs_cellT <- pca_cellT$ind$coord\n",
    "pcs_cellT\n",
    "# The first 5 pcs explain 54% of variance in the data"
   ]
  },
  {
   "cell_type": "markdown",
   "id": "d804fe3f",
   "metadata": {},
   "source": [
    "## 2. Perform gene-level Batch correction"
   ]
  },
  {
   "cell_type": "code",
   "execution_count": null,
   "id": "ebaeea7c",
   "metadata": {
    "scrolled": true
   },
   "outputs": [],
   "source": [
    "# perform limma-trend for DEA\n",
    "design <- model.matrix(~ ltany_di, data = samples.info)\n",
    "design\n",
    "dge <- DGEList(counts=genes.count)\n",
    "dge <- calcNormFactors(dge)\n",
    "logCPM <- cpm(dge, log=TRUE, prior.count=3)"
   ]
  },
  {
   "cell_type": "code",
   "execution_count": null,
   "id": "9c564861",
   "metadata": {},
   "outputs": [],
   "source": [
    "hist(logCPM)"
   ]
  },
  {
   "cell_type": "markdown",
   "id": "3abe6b3c",
   "metadata": {},
   "source": [
    "### Correct for seq-run as it's the largest covariate correcting for more covariates"
   ]
  },
  {
   "cell_type": "code",
   "execution_count": null,
   "id": "abd106ba",
   "metadata": {},
   "outputs": [],
   "source": [
    "covars <- c(\"ltany_di\")\n",
    "batches <- c(\"sequence_run\")\n",
    "design <- model.matrix(~sequence_run + ltany_di , \n",
    "                       data=samples.info[, colnames(samples.info) %in% c(covars, batches)])\n",
    "head(design)\n",
    "dim(design)"
   ]
  },
  {
   "cell_type": "code",
   "execution_count": null,
   "id": "ce029766",
   "metadata": {},
   "outputs": [],
   "source": [
    "treatment.design <- design[,c(1,3)]\n",
    "batch.design = design[,c(2)]\n",
    "\n",
    "gene.count.seqrun.corrected <- removeBatchEffect(logCPM,covariates=batch.design, design=treatment.design)"
   ]
  },
  {
   "cell_type": "code",
   "execution_count": null,
   "id": "5b069bc0",
   "metadata": {
    "scrolled": true
   },
   "outputs": [],
   "source": [
    "# genes with negative values after correction\n",
    "with.negative.values = gene.count.seqrun.corrected[apply(gene.count.seqrun.corrected[, ], 1, min) < 0, ]\n",
    "dim(with.negative.values)\n",
    "gene.count.noNeg = logCPM[!row.names(logCPM) %in% row.names(with.negative.values), ]\n",
    "head(gene.count.noNeg)\n",
    "dim(gene.count.noNeg)"
   ]
  },
  {
   "cell_type": "code",
   "execution_count": null,
   "id": "26957a02",
   "metadata": {},
   "outputs": [],
   "source": [
    "gene.count.seqrun.corrected.final <- removeBatchEffect(gene.count.noNeg,covariates=batch.design, design=treatment.design)"
   ]
  },
  {
   "cell_type": "markdown",
   "id": "5df9ef30",
   "metadata": {},
   "source": [
    "### SVA\n",
    "The idea is to generate surrogate variables that capture unexplained variance in the data. You can specify biological variables whose variance should not be included in the surrogate variables. Here, we only specify the case/control status (as determined by the ltany_di==any diagnosis data). We use the data corrected for sequence_run"
   ]
  },
  {
   "cell_type": "code",
   "execution_count": null,
   "id": "a942aafd",
   "metadata": {},
   "outputs": [],
   "source": [
    "model_biol <- model.matrix(~as.factor(ltany_di), data = samples.info)\n",
    "model_0 <- model.matrix(~1, data = samples.info)\n",
    "sva_res <- svaseq(\n",
    "  dat = as.matrix(gene.count.seqrun.corrected.final),\n",
    "  mod = model_biol,\n",
    "  mod0 = model_0,\n",
    ")"
   ]
  },
  {
   "cell_type": "markdown",
   "id": "a083577c",
   "metadata": {},
   "source": [
    "### Canonical correlation of possible confounders"
   ]
  },
  {
   "cell_type": "code",
   "execution_count": null,
   "id": "3a95e4ee",
   "metadata": {},
   "outputs": [],
   "source": [
    "pca_gene.count.sr.corrected <- PCA(\n",
    "  X = t(gene.count.seqrun.corrected.final),\n",
    "  ncp = 10,\n",
    "  graph = FALSE)"
   ]
  },
  {
   "cell_type": "code",
   "execution_count": null,
   "id": "f10d7f87",
   "metadata": {},
   "outputs": [],
   "source": [
    "#svg(\"/grehawi/splice-reg-prj/heatmap_correl_confounders.svg\", width = 12, height = 12)\n",
    "\n",
    "#add Cell types PCs to sample info\n",
    "colnames(pcs_cellT) <- paste0(\"cellType_pc_\", seq_len(ncol(pcs_cellT)))\n",
    "samplesInfo_combined_with_cellTypes <- cbind(samples.info, as.data.frame(pcs_cellT))\n",
    "\n",
    "#add SVs to sample info\n",
    "sva_svs <- sva_res$sv\n",
    "colnames(sva_svs) <- paste0(\"sv_\", seq_len(ncol(sva_svs)))\n",
    "samplesInfo_combined_with_cellTypes_svs <- cbind(samplesInfo_combined_with_cellTypes, as.data.frame(sva_svs))\n",
    "\n",
    "# add PCs to sample info\n",
    "pca_pc <- pca_gene.count.sr.corrected$ind$coord\n",
    "colnames(pca_pc) <- paste0(\"pc_\", seq_len(ncol(pca_pc)))\n",
    "samplesInfo_combined_with_cellTypes_svs_pcs <- cbind(samplesInfo_combined_with_cellTypes_svs, as.data.frame(pca_pc))\n",
    "\n",
    "\n",
    "#Define biological and technical covariates\n",
    "covars <- c(\"sex\", \"age\", \"BMI\", \"study\", \"ltany_di\")\n",
    "batches <- c(\"plates\", \"RIN\", \"mean_gc_content\", \"total_pairs\", \"preparation_pbmc_batch\", \n",
    "             paste0(\"sv_\", seq_len(ncol(sva_svs))), paste0(\"cellType_pc_\", seq_len(ncol(pcs_cellT))))\n",
    "vars <- c(covars, batches, paste0(\"cellType_pc_\", seq_len(ncol(pcs_cellT))),paste0(\"pc_\", seq_len(ncol(pca_pc))))\n",
    "\n",
    "# this is the correlation of the meta-variables with each other\n",
    "form_c <- as.formula(paste0(\"~\", paste0(vars, collapse = \" + \")))\n",
    "cancor_res <- canCorPairs(form_c, samplesInfo_combined_with_cellTypes_svs_pcs)\n",
    "\n",
    "options(repr.plot.width=12, repr.plot.height=12)\n",
    "plotCorrMatrix(cancor_res, margins=c(20,20), cex.lab = 2)\n",
    "#dev.off()"
   ]
  },
  {
   "cell_type": "code",
   "execution_count": null,
   "id": "3c926839",
   "metadata": {},
   "outputs": [],
   "source": [
    "# pc1, sv1,pc2, sv2 mean_gc, total_pairs, RIN are correlated\n",
    "# total_pairs and celltype_pc2 are highly correlated \n",
    "# study is correlated with status and celltype_pc2 and total_pairs\n",
    "# plates and prep_batch are correlated and are both corr to mean_gc_content\n",
    "#RIN and mean_gc_contetn are highly correlated so correcting for one of them is enough (Previously investigated)"
   ]
  },
  {
   "cell_type": "markdown",
   "id": "9d12a1f4",
   "metadata": {},
   "source": [
    "### Calculate association of confounders & PCs"
   ]
  },
  {
   "cell_type": "code",
   "execution_count": null,
   "id": "6cfb0dc0",
   "metadata": {},
   "outputs": [],
   "source": [
    "# for every PC, calculate the association (for every covariate)\n",
    "# The p-value for R^2 comes from the measure F = ss(mean) - ss(fit) / ss(fit)\n",
    "covars <- c(\"sex\", \"age\", \"BMI\", \"ltany_di\")\n",
    "batches <- c(\"plates\", \"RIN\", \"mean_gc_content\", \"total_pairs\", \"preparation_pbmc_batch\",\n",
    "             paste0(\"sv_\", seq_len(ncol(sva_svs[, 1:5]))), paste0(\"cellType_pc_\", seq_len(ncol(pcs_cellT))))\n",
    "vars <- c(covars, batches,paste0(\"pc_\", seq_len(ncol(pca_pc))))\n",
    "\n",
    "association_results <- set_names(paste0(\"pc_\", 1:10)) %>% \n",
    "  map_dfr(function(pc) {\n",
    "    # for every covariate\n",
    "    map_dfr(c(covars, batches), function(var) {\n",
    "      res <- anova(lm(samplesInfo_combined_with_cellTypes_svs_pcs[, pc] ~ samplesInfo_combined_with_cellTypes_svs_pcs[, var]))\n",
    "      data.frame(pc = pc, var = var, p_val = res$`Pr(>F)`[1])\n",
    "    })\n",
    "  })\n",
    "\n",
    "col <- c(\"gray\",\n",
    "         colorRampPalette(rev(c(\"#D73027\", \"#FC8D59\", \"#FEE090\", \"#FFFFBF\",\n",
    "                                \"#E0F3F8\", \"#91BFDB\", \"#4575B4\")))(100))\n",
    "\n",
    "association_results_wide <- association_results %>% \n",
    "  pivot_wider(\n",
    "    names_from = \"var\",\n",
    "    values_from = \"p_val\"\n",
    "  )\n",
    "\n",
    "# exclude the pc column\n",
    "association_results_wide_matrix <- as.matrix(association_results_wide[, -1])\n",
    "rownames(association_results_wide_matrix) <- association_results_wide$pc\n",
    "\n",
    "final_matrix = -log10(t(association_results_wide_matrix))\n",
    "# sv1 is highly correlated with pc1 that the result of -log10 is inf -->fix\n",
    "final_matrix[10, 1] <- 220\n",
    "\n",
    "options(repr.plot.width=11, repr.plot.height=8)\n",
    "pheatmap(final_matrix, color = col, fontsize=14,\n",
    "         cluster_cols = FALSE)\n",
    "gt <- pheatmap(final_matrix, color = col, fontsize=14,\n",
    "         cluster_cols = FALSE, width=11, hight=6, filename=\"heatmap_correl_confounders_pcs.pdf\")$gtable\n",
    "ggsave(\"/grehawi/splice-reg-prj/heatmap_correl_confounders_pcs.pdf\", plot = gt)"
   ]
  },
  {
   "cell_type": "markdown",
   "id": "c1b5bbd2",
   "metadata": {},
   "source": [
    "### Correct for batch effects and biological covariates"
   ]
  },
  {
   "cell_type": "code",
   "execution_count": null,
   "id": "8c507617",
   "metadata": {
    "scrolled": true
   },
   "outputs": [],
   "source": [
    "# perform limma-trend for DEA\n",
    "design <- model.matrix(~ ltany_di + pcs_cellT + sex + age + BMI + mean_gc_content + total_pairs, data = samples.info)\n",
    "design"
   ]
  },
  {
   "cell_type": "code",
   "execution_count": null,
   "id": "2f91b919",
   "metadata": {
    "scrolled": true
   },
   "outputs": [],
   "source": [
    "expr.design <- design[,c(1,2)]\n",
    "batch.design = design[,c(3:12)]\n",
    "\n",
    "gene.count.corrected <- removeBatchEffect(gene.count.seqrun.corrected.final,covariates=batch.design, design=expr.design)"
   ]
  },
  {
   "cell_type": "code",
   "execution_count": null,
   "id": "a5737aac",
   "metadata": {},
   "outputs": [],
   "source": [
    "# genes with negative values after correction\n",
    "with.negative.values = gene.count.corrected[apply(gene.count.corrected[, ], 1, min) < 0, ]\n",
    "dim(with.negative.values)\n",
    "gene.count.noNeg = gene.count.seqrun.corrected.final[!row.names(gene.count.seqrun.corrected.final) %in% row.names(with.negative.values), ]\n",
    "head(gene.count.noNeg)\n",
    "dim(gene.count.noNeg)"
   ]
  },
  {
   "cell_type": "code",
   "execution_count": null,
   "id": "03ef22f6",
   "metadata": {},
   "outputs": [],
   "source": [
    "# Redo batch correction after removing genes which appear to have negative values after correction\n",
    "gene.count.corrected.final <- removeBatchEffect(gene.count.noNeg,covariates=batch.design, design=expr.design)"
   ]
  },
  {
   "cell_type": "code",
   "execution_count": null,
   "id": "c9bfc848",
   "metadata": {},
   "outputs": [],
   "source": [
    "write.table(gene.count.corrected.final, \"/grehawi/splice-reg-prj/new-data/Diff-Analysis/gene.logCPM.corrected.final.matrix\")"
   ]
  },
  {
   "cell_type": "markdown",
   "id": "b4d06e04",
   "metadata": {},
   "source": [
    "## 3. Perform transcript-level Batch correction"
   ]
  },
  {
   "cell_type": "code",
   "execution_count": null,
   "id": "12d7a16a",
   "metadata": {},
   "outputs": [],
   "source": [
    "#Read the batch corrected trx counts\n",
    "trx.counts = read.table(\"/grehawi/splice-reg-prj/new-data/RNA-seq/trx_counts_combined_noDex.matrix\")\n",
    "trx.counts = trx.counts[, colnames(trx.counts) %in% samples.info$combined_id]\n",
    "head(trx.counts)\n",
    "dim(trx.counts)"
   ]
  },
  {
   "cell_type": "code",
   "execution_count": null,
   "id": "79112d2a",
   "metadata": {
    "scrolled": true
   },
   "outputs": [],
   "source": [
    "# perform limma-trend for DEA\n",
    "design <- model.matrix(~ ltany_di, data = samples.info)\n",
    "design\n",
    "dge <- DGEList(counts=trx.counts)\n",
    "dge <- calcNormFactors(dge)\n",
    "trx.logCPM <- cpm(dge, log=TRUE, prior.count=3)"
   ]
  },
  {
   "cell_type": "markdown",
   "id": "48778ec9",
   "metadata": {
    "scrolled": true
   },
   "source": [
    "### Correct for seq-run"
   ]
  },
  {
   "cell_type": "code",
   "execution_count": null,
   "id": "d205f5a5",
   "metadata": {},
   "outputs": [],
   "source": [
    "covars <- c(\"ltany_di\")\n",
    "batches <- c(\"sequence_run\")\n",
    "design <- model.matrix(~sequence_run + ltany_di , \n",
    "                       data=samples.info[, colnames(samples.info) %in% c(covars, batches)])\n",
    "\n",
    "treatment.design <- design[,c(1,3)]\n",
    "batch.design = design[,c(2)]\n",
    "\n",
    "trx.count.seqrun.corrected <- removeBatchEffect(trx.logCPM,covariates=batch.design, design=treatment.design)"
   ]
  },
  {
   "cell_type": "code",
   "execution_count": null,
   "id": "3264b80c",
   "metadata": {},
   "outputs": [],
   "source": [
    "# trx with negative values after correction\n",
    "with.negative.values = trx.count.seqrun.corrected[apply(trx.count.seqrun.corrected[, ], 1, min) < 0, ]\n",
    "dim(with.negative.values)\n",
    "trx.count.noNeg = trx.logCPM[!row.names(trx.logCPM) %in% row.names(with.negative.values), ]\n",
    "head(trx.count.noNeg)\n",
    "dim(trx.count.noNeg)"
   ]
  },
  {
   "cell_type": "code",
   "execution_count": null,
   "id": "94d1ab0d",
   "metadata": {},
   "outputs": [],
   "source": [
    "trx.count.seqrun.corrected.final <- removeBatchEffect(trx.count.noNeg,covariates=batch.design, design=treatment.design)"
   ]
  },
  {
   "cell_type": "markdown",
   "id": "a6ee8017",
   "metadata": {},
   "source": [
    "### Correct for batch effect and biological covaraites"
   ]
  },
  {
   "cell_type": "code",
   "execution_count": null,
   "id": "4b0234af",
   "metadata": {
    "scrolled": true
   },
   "outputs": [],
   "source": [
    "# perform limma-trend for DEA\n",
    "design <- model.matrix(~ ltany_di + pcs_cellT + sex + age + BMI + mean_gc_content + total_pairs, data = samples.info)\n",
    "design\n"
   ]
  },
  {
   "cell_type": "code",
   "execution_count": null,
   "id": "a4f13e2a",
   "metadata": {},
   "outputs": [],
   "source": [
    "expr.design <- design[,c(1,2)]\n",
    "batch.design = design[,c(3:12)]\n",
    "\n",
    "trx.count.corrected <- removeBatchEffect(trx.count.seqrun.corrected.final,covariates=batch.design, design=expr.design)"
   ]
  },
  {
   "cell_type": "code",
   "execution_count": null,
   "id": "9c532389",
   "metadata": {
    "scrolled": true
   },
   "outputs": [],
   "source": [
    "# trx with negative values after correction\n",
    "with.negative.values = trx.count.corrected[apply(trx.count.corrected[, ], 1, min) < 0, ]\n",
    "dim(with.negative.values)\n",
    "trx.count.noNeg = trx.count.seqrun.corrected.final[!row.names(trx.count.seqrun.corrected.final) %in% row.names(with.negative.values), ]\n",
    "head(trx.count.noNeg)\n",
    "dim(trx.count.noNeg)"
   ]
  },
  {
   "cell_type": "code",
   "execution_count": null,
   "id": "cba38c66",
   "metadata": {},
   "outputs": [],
   "source": [
    "# Redo batch correction after removing genes which appear to have negative values after correction\n",
    "trx.count.corrected.final <- removeBatchEffect(trx.count.noNeg,covariates=batch.design, design=expr.design)"
   ]
  },
  {
   "cell_type": "code",
   "execution_count": null,
   "id": "440743a7",
   "metadata": {},
   "outputs": [],
   "source": [
    "write.table(trx.count.corrected.final, \"/grehawi/splice-reg-prj/new-data/Diff-Analysis/trx.logCPM.corrected.final.matrix\")"
   ]
  }
 ],
 "metadata": {
  "kernelspec": {
   "display_name": "R [conda env:r_env] *",
   "language": "R",
   "name": "conda-env-r_env-r"
  },
  "language_info": {
   "codemirror_mode": "r",
   "file_extension": ".r",
   "mimetype": "text/x-r-source",
   "name": "R",
   "pygments_lexer": "r",
   "version": "4.4.1"
  }
 },
 "nbformat": 4,
 "nbformat_minor": 5
}
