{
 "cells": [
  {
   "cell_type": "code",
   "execution_count": null,
   "id": "de2396c6-82b0-4761-9204-984f8b87f85b",
   "metadata": {
    "scrolled": true
   },
   "outputs": [],
   "source": [
    "library(ggplot2)\n",
    "library(rtracklayer)\n",
    "library(dplyr)\n",
    "library(tidyr)\n",
    "library(data.table)\n",
    "library(matrixStats)\n",
    "library(igraph)\n",
    "library(purrr)\n",
    "library(stringr)\n",
    "library(VennDiagram)\n",
    "library(TIN)\n",
    "library(disgenet2r)"
   ]
  },
  {
   "cell_type": "markdown",
   "id": "eea2121d-c1de-43bd-bb81-0b99c1f76c14",
   "metadata": {},
   "source": [
    "## Here, I am investigating the Enrichment of different sets of genes/genes of trx in the DisGeNet\n",
    "### The gene--disease association file was downloaded manually from DisGeNet by selecting some diseases in PDs present in our cidi data from OPTIMA and BeCOME"
   ]
  },
  {
   "cell_type": "code",
   "execution_count": null,
   "id": "8f12b5b2-e1ec-40c8-8318-8c4c31e941e8",
   "metadata": {
    "scrolled": true
   },
   "outputs": [],
   "source": [
    "results_disGeNet_selected_diseases <- read.table('/grehawi/splice-reg-prj/new-data/DISEASES_Summary_GDA_CURATED_selected_updated.tsv', header=TRUE)\n",
    "head(results_disGeNet_selected_diseases)\n",
    "dim(results_disGeNet_selected_diseases)"
   ]
  },
  {
   "cell_type": "code",
   "execution_count": null,
   "id": "978dc48b-6e93-4de4-94aa-114ea438e52c",
   "metadata": {},
   "outputs": [],
   "source": [
    "#The disease I chose from DisGENet\n",
    "unique(results_disGeNet_selected_diseases$Disease)"
   ]
  },
  {
   "cell_type": "markdown",
   "id": "e908b961-4ab3-464b-b0a5-01ed6a6acdd5",
   "metadata": {
    "jp-MarkdownHeadingCollapsed": true
   },
   "source": [
    "### Common hubs (dg >=10)"
   ]
  },
  {
   "cell_type": "code",
   "execution_count": null,
   "id": "1074bc89-83b2-4f21-8df0-c4280a7464f0",
   "metadata": {
    "scrolled": true
   },
   "outputs": [],
   "source": [
    "# Check enrichment of genes/genes of trx of the hubs with degree >=10 in both networks (list of 127 nodes)\n",
    "hubs_intersect_dg10 = read.table(\"/grehawi/splice-reg-prj/new-data/ARACNE/hubs_intersect.csv\",sep = ';', header=TRUE)\n",
    "hubs_intersect_dg10"
   ]
  },
  {
   "cell_type": "code",
   "execution_count": null,
   "id": "633bb8fe-03f2-4718-8f83-1c4f3ec5da9c",
   "metadata": {
    "scrolled": true
   },
   "outputs": [],
   "source": [
    "#see which disease association we get using only gene-level as input\n",
    "enrichm_of_hubs_intersect = results_disGeNet_selected_diseases[results_disGeNet_selected_diseases$Gene %in% hubs_intersect_dg10$hubs_intersect & results_disGeNet_selected_diseases$ScoreGDA > 0.4, ]\n",
    "head(enrichm_of_hubs_intersect)\n",
    "dim(enrichm_of_hubs_intersect)"
   ]
  },
  {
   "cell_type": "code",
   "execution_count": null,
   "id": "6efa6a7a-723a-43ae-a6a8-9d82df8b3226",
   "metadata": {},
   "outputs": [],
   "source": [
    "#Number of hubs in this intersect set that are associated with PDs\n",
    "unique(enrichm_of_hubs_intersect$Gene)\n",
    "#Number of PDs that these genes are found to be associated with\n",
    "unique(enrichm_of_hubs_intersect$Disease)"
   ]
  },
  {
   "cell_type": "code",
   "execution_count": null,
   "id": "025f590f-b92f-459c-ab4d-d66a5cbd9d4a",
   "metadata": {},
   "outputs": [],
   "source": [
    "enrichm_of_hubs_intersect[enrichm_of_hubs_intersect$Gene %in% c('KCTD12', 'TNFRSF1B'), ]"
   ]
  },
  {
   "cell_type": "code",
   "execution_count": null,
   "id": "f862190a-5fc3-48a7-a5e0-bc11578bcf92",
   "metadata": {
    "scrolled": true
   },
   "outputs": [],
   "source": [
    "#see which disease association we get using gene-level as well as trx-level input\n",
    "enrichm_of_hubs_intersect_with_trx = results_disGeNet_selected_diseases[results_disGeNet_selected_diseases$Gene %in% hubs_intersect_dg10$gene & results_disGeNet_selected_diseases$ScoreGDA > 0.4, ]\n",
    "head(enrichm_of_hubs_intersect_with_trx)\n",
    "dim(enrichm_of_hubs_intersect_with_trx)"
   ]
  },
  {
   "cell_type": "code",
   "execution_count": null,
   "id": "7142aceb-d7fe-4557-ad77-3cff45e6cab4",
   "metadata": {},
   "outputs": [],
   "source": [
    "#Number of hubs in this intersect set that are associated with PDs\n",
    "unique(enrichm_of_hubs_intersect_with_trx$Gene)\n",
    "#Number of PDs that these genes are found to be associated with\n",
    "unique(enrichm_of_hubs_intersect_with_trx$Disease)"
   ]
  },
  {
   "cell_type": "markdown",
   "id": "439ab0ab-0599-41e6-b277-6973af557555",
   "metadata": {
    "jp-MarkdownHeadingCollapsed": true
   },
   "source": [
    "### Differential genes and transcripts"
   ]
  },
  {
   "cell_type": "code",
   "execution_count": null,
   "id": "b1f862ff-89a6-424b-9969-0ca2eedebe45",
   "metadata": {},
   "outputs": [],
   "source": [
    "# Check enrichment of genes/genes of trx in the set of dyregulated genes/trx in PDs \n",
    "genes_up_df = read.table('/grehawi/splice-reg-prj/new-data/Diff-Analysis/genes_up_df.txt', header=TRUE)\n",
    "genes_down_df = read.table('/grehawi/splice-reg-prj/new-data/Diff-Analysis/genes_down_df.txt', header=TRUE)\n",
    "trx_up_df = read.table('/grehawi/splice-reg-prj/new-data/Diff-Analysis/trx_up_df.txt', header=TRUE)\n",
    "trx_down_df = read.table('/grehawi/splice-reg-prj/new-data/Diff-Analysis/trx_down_df.txt', header=TRUE)"
   ]
  },
  {
   "cell_type": "code",
   "execution_count": null,
   "id": "970b32e1-52da-4feb-a9e5-1043e7e92433",
   "metadata": {},
   "outputs": [],
   "source": [
    "# get the gene names of all dyregulated genes and trx \n",
    "all_dysreg_genes_trx = unique(c(genes_up_df$gene_name, genes_down_df$gene_name, trx_up_df$gene_name, trx_down_df$gene_name))\n",
    "length(all_dysreg_genes_trx)"
   ]
  },
  {
   "cell_type": "code",
   "execution_count": null,
   "id": "b2621fb1-fd2c-4c00-bd05-439ec019ba23",
   "metadata": {
    "scrolled": true
   },
   "outputs": [],
   "source": [
    "#check the enrichment in PD related genes\n",
    "enrichm_of_all_dysreg_genes_trx = results_disGeNet_selected_diseases[results_disGeNet_selected_diseases$Gene %in% all_dysreg_genes_trx & results_disGeNet_selected_diseases$ScoreGDA > 0.4, ]\n",
    "enrichm_of_all_dysreg_genes_trx\n",
    "dim(enrichm_of_all_dysreg_genes_trx)"
   ]
  },
  {
   "cell_type": "code",
   "execution_count": null,
   "id": "40e69c61-4b4e-4806-8c24-7c809f8c7e04",
   "metadata": {},
   "outputs": [],
   "source": [
    "#Number of genes that are associated with PDs\n",
    "unique(enrichm_of_all_dysreg_genes_trx$Gene)\n",
    "length(unique(enrichm_of_all_dysreg_genes_trx$Gene))\n",
    "#Number of PDs that these genes are found to be associated with\n",
    "unique(enrichm_of_all_dysreg_genes_trx$Disease)"
   ]
  },
  {
   "cell_type": "code",
   "execution_count": null,
   "id": "36b36e34-4531-4d71-b079-8ba338f40f90",
   "metadata": {
    "scrolled": true
   },
   "outputs": [],
   "source": [
    "length(unique(enrichm_of_all_dysreg_genes_trx$Gene[enrichm_of_all_dysreg_genes_trx$Disease %in% c('MAJOR DEPRESSIVE DISORDER', 'Depressions,Unipolar', 'Major depressive disorder,recurrent episode,unspecified degree',\n",
    "                                              'Major depressive disorder,single episode,unspecified degree', 'Depression')]))"
   ]
  },
  {
   "cell_type": "code",
   "execution_count": null,
   "id": "2fa096b8-b089-457b-978b-59773902ae29",
   "metadata": {},
   "outputs": [],
   "source": [
    "write.table(enrichm_of_all_dysreg_genes_trx, '/grehawi/splice-reg-prj/new-data/Diff-Analysis/supp_table_DisGeNet_intersection_dysreg_genes_trx.txt', sep=',', row.names = FALSE)"
   ]
  },
  {
   "cell_type": "code",
   "execution_count": null,
   "id": "5cc87f6b-3208-43af-abb8-97d002fd8ebd",
   "metadata": {},
   "outputs": [],
   "source": []
  }
 ],
 "metadata": {
  "kernelspec": {
   "display_name": "R [conda env:r_env] *",
   "language": "R",
   "name": "conda-env-r_env-r"
  },
  "language_info": {
   "codemirror_mode": "r",
   "file_extension": ".r",
   "mimetype": "text/x-r-source",
   "name": "R",
   "pygments_lexer": "r",
   "version": "4.4.1"
  }
 },
 "nbformat": 4,
 "nbformat_minor": 5
}
