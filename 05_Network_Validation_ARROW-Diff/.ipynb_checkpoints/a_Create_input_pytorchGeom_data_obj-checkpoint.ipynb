{
 "cells": [
  {
   "cell_type": "code",
   "execution_count": 1,
   "id": "3990ef47",
   "metadata": {},
   "outputs": [],
   "source": [
    "import torch\n",
    "import pandas as pd\n",
    "import numpy as np\n",
    "from torch_geometric.data import Data\n",
    "import torch_geometric.transforms as T"
   ]
  },
  {
   "cell_type": "code",
   "execution_count": 2,
   "id": "69c3747a",
   "metadata": {},
   "outputs": [],
   "source": [
    "## Feature Matrix x"
   ]
  },
  {
   "cell_type": "code",
   "execution_count": 3,
   "id": "b8348077",
   "metadata": {},
   "outputs": [],
   "source": [
    "controls_node_features = pd.read_csv(\"/home/grehawi/splice-reg-prj/new-data/Graph-learning/input-data/controls-net-node-features.txt\", sep= \"\\t\")\n",
    "cases_node_features = pd.read_csv(\"/home/grehawi/splice-reg-prj/new-data/Graph-learning/input-data/cases-net-node-features.txt\", sep= \"\\t\")"
   ]
  },
  {
   "cell_type": "code",
   "execution_count": 4,
   "id": "1a55e125",
   "metadata": {},
   "outputs": [
    {
     "data": {
      "text/html": [
       "<div>\n",
       "<style scoped>\n",
       "    .dataframe tbody tr th:only-of-type {\n",
       "        vertical-align: middle;\n",
       "    }\n",
       "\n",
       "    .dataframe tbody tr th {\n",
       "        vertical-align: top;\n",
       "    }\n",
       "\n",
       "    .dataframe thead th {\n",
       "        text-align: right;\n",
       "    }\n",
       "</style>\n",
       "<table border=\"1\" class=\"dataframe\">\n",
       "  <thead>\n",
       "    <tr style=\"text-align: right;\">\n",
       "      <th></th>\n",
       "      <th>MUC23510_S328</th>\n",
       "      <th>MUC23422_S240</th>\n",
       "      <th>MUC23353_S171</th>\n",
       "      <th>MUC23419_S237</th>\n",
       "      <th>MUC23247_S65</th>\n",
       "      <th>MUC23471_S289</th>\n",
       "      <th>MUC23432_S250</th>\n",
       "      <th>MUC23259_S77</th>\n",
       "      <th>MUC23544_S362</th>\n",
       "      <th>MUC23307_S125</th>\n",
       "      <th>...</th>\n",
       "      <th>MUC23337_S155</th>\n",
       "      <th>MUC23396_S214</th>\n",
       "      <th>MUC23564_S382</th>\n",
       "      <th>MUC23314_S132</th>\n",
       "      <th>MUC23550_S368</th>\n",
       "      <th>MUC23391_S209</th>\n",
       "      <th>MUC23365_S183</th>\n",
       "      <th>MUC23380_S198</th>\n",
       "      <th>MUC23195_S13</th>\n",
       "      <th>MUC23392_S210</th>\n",
       "    </tr>\n",
       "  </thead>\n",
       "  <tbody>\n",
       "    <tr>\n",
       "      <th>0</th>\n",
       "      <td>-0.265098</td>\n",
       "      <td>-0.327533</td>\n",
       "      <td>-0.370300</td>\n",
       "      <td>-0.306463</td>\n",
       "      <td>-0.354203</td>\n",
       "      <td>-0.280378</td>\n",
       "      <td>-0.299310</td>\n",
       "      <td>-0.356793</td>\n",
       "      <td>-0.349804</td>\n",
       "      <td>-0.363774</td>\n",
       "      <td>...</td>\n",
       "      <td>-0.296099</td>\n",
       "      <td>-0.417486</td>\n",
       "      <td>-0.350718</td>\n",
       "      <td>-0.530059</td>\n",
       "      <td>-0.329854</td>\n",
       "      <td>-0.354058</td>\n",
       "      <td>-0.424688</td>\n",
       "      <td>-0.354886</td>\n",
       "      <td>-0.437517</td>\n",
       "      <td>-0.359749</td>\n",
       "    </tr>\n",
       "    <tr>\n",
       "      <th>1</th>\n",
       "      <td>0.569075</td>\n",
       "      <td>0.468832</td>\n",
       "      <td>0.627498</td>\n",
       "      <td>0.443309</td>\n",
       "      <td>0.458834</td>\n",
       "      <td>0.610765</td>\n",
       "      <td>0.526558</td>\n",
       "      <td>0.599701</td>\n",
       "      <td>0.510872</td>\n",
       "      <td>0.376247</td>\n",
       "      <td>...</td>\n",
       "      <td>0.400387</td>\n",
       "      <td>0.393632</td>\n",
       "      <td>0.472148</td>\n",
       "      <td>0.416946</td>\n",
       "      <td>0.475362</td>\n",
       "      <td>0.417824</td>\n",
       "      <td>0.518394</td>\n",
       "      <td>0.431398</td>\n",
       "      <td>0.387460</td>\n",
       "      <td>0.420418</td>\n",
       "    </tr>\n",
       "    <tr>\n",
       "      <th>2</th>\n",
       "      <td>-1.506067</td>\n",
       "      <td>-1.395748</td>\n",
       "      <td>-1.453417</td>\n",
       "      <td>-1.576834</td>\n",
       "      <td>-1.439293</td>\n",
       "      <td>-1.522496</td>\n",
       "      <td>-1.507914</td>\n",
       "      <td>-1.438299</td>\n",
       "      <td>-1.479723</td>\n",
       "      <td>-1.404607</td>\n",
       "      <td>...</td>\n",
       "      <td>-1.439637</td>\n",
       "      <td>-1.500393</td>\n",
       "      <td>-1.428067</td>\n",
       "      <td>-1.517997</td>\n",
       "      <td>-1.446764</td>\n",
       "      <td>-1.508676</td>\n",
       "      <td>-1.598081</td>\n",
       "      <td>-1.375736</td>\n",
       "      <td>-1.522332</td>\n",
       "      <td>-1.462108</td>\n",
       "    </tr>\n",
       "    <tr>\n",
       "      <th>3</th>\n",
       "      <td>-0.091090</td>\n",
       "      <td>-0.182223</td>\n",
       "      <td>-0.054561</td>\n",
       "      <td>-0.073497</td>\n",
       "      <td>-0.109456</td>\n",
       "      <td>-0.092513</td>\n",
       "      <td>-0.095367</td>\n",
       "      <td>-0.168750</td>\n",
       "      <td>-0.103109</td>\n",
       "      <td>-0.213515</td>\n",
       "      <td>...</td>\n",
       "      <td>-0.210474</td>\n",
       "      <td>-0.227028</td>\n",
       "      <td>-0.160369</td>\n",
       "      <td>-0.099602</td>\n",
       "      <td>-0.158029</td>\n",
       "      <td>-0.103853</td>\n",
       "      <td>-0.114544</td>\n",
       "      <td>-0.275074</td>\n",
       "      <td>-0.068593</td>\n",
       "      <td>-0.276781</td>\n",
       "    </tr>\n",
       "    <tr>\n",
       "      <th>4</th>\n",
       "      <td>-1.636016</td>\n",
       "      <td>-1.609618</td>\n",
       "      <td>-1.614533</td>\n",
       "      <td>-1.564692</td>\n",
       "      <td>-1.633109</td>\n",
       "      <td>-1.671348</td>\n",
       "      <td>-1.664665</td>\n",
       "      <td>-1.688809</td>\n",
       "      <td>-1.675776</td>\n",
       "      <td>-1.686214</td>\n",
       "      <td>...</td>\n",
       "      <td>-1.568450</td>\n",
       "      <td>-1.544276</td>\n",
       "      <td>-1.649187</td>\n",
       "      <td>-1.593805</td>\n",
       "      <td>-1.635773</td>\n",
       "      <td>-1.565653</td>\n",
       "      <td>-1.635411</td>\n",
       "      <td>-1.664501</td>\n",
       "      <td>-1.513404</td>\n",
       "      <td>-1.612248</td>\n",
       "    </tr>\n",
       "  </tbody>\n",
       "</table>\n",
       "<p>5 rows × 210 columns</p>\n",
       "</div>"
      ],
      "text/plain": [
       "   MUC23510_S328  MUC23422_S240  MUC23353_S171  MUC23419_S237  MUC23247_S65  \\\n",
       "0      -0.265098      -0.327533      -0.370300      -0.306463     -0.354203   \n",
       "1       0.569075       0.468832       0.627498       0.443309      0.458834   \n",
       "2      -1.506067      -1.395748      -1.453417      -1.576834     -1.439293   \n",
       "3      -0.091090      -0.182223      -0.054561      -0.073497     -0.109456   \n",
       "4      -1.636016      -1.609618      -1.614533      -1.564692     -1.633109   \n",
       "\n",
       "   MUC23471_S289  MUC23432_S250  MUC23259_S77  MUC23544_S362  MUC23307_S125  \\\n",
       "0      -0.280378      -0.299310     -0.356793      -0.349804      -0.363774   \n",
       "1       0.610765       0.526558      0.599701       0.510872       0.376247   \n",
       "2      -1.522496      -1.507914     -1.438299      -1.479723      -1.404607   \n",
       "3      -0.092513      -0.095367     -0.168750      -0.103109      -0.213515   \n",
       "4      -1.671348      -1.664665     -1.688809      -1.675776      -1.686214   \n",
       "\n",
       "   ...  MUC23337_S155  MUC23396_S214  MUC23564_S382  MUC23314_S132  \\\n",
       "0  ...      -0.296099      -0.417486      -0.350718      -0.530059   \n",
       "1  ...       0.400387       0.393632       0.472148       0.416946   \n",
       "2  ...      -1.439637      -1.500393      -1.428067      -1.517997   \n",
       "3  ...      -0.210474      -0.227028      -0.160369      -0.099602   \n",
       "4  ...      -1.568450      -1.544276      -1.649187      -1.593805   \n",
       "\n",
       "   MUC23550_S368  MUC23391_S209  MUC23365_S183  MUC23380_S198  MUC23195_S13  \\\n",
       "0      -0.329854      -0.354058      -0.424688      -0.354886     -0.437517   \n",
       "1       0.475362       0.417824       0.518394       0.431398      0.387460   \n",
       "2      -1.446764      -1.508676      -1.598081      -1.375736     -1.522332   \n",
       "3      -0.158029      -0.103853      -0.114544      -0.275074     -0.068593   \n",
       "4      -1.635773      -1.565653      -1.635411      -1.664501     -1.513404   \n",
       "\n",
       "   MUC23392_S210  \n",
       "0      -0.359749  \n",
       "1       0.420418  \n",
       "2      -1.462108  \n",
       "3      -0.276781  \n",
       "4      -1.612248  \n",
       "\n",
       "[5 rows x 210 columns]"
      ]
     },
     "execution_count": 4,
     "metadata": {},
     "output_type": "execute_result"
    }
   ],
   "source": [
    "cases_node_features.head()"
   ]
  },
  {
   "cell_type": "code",
   "execution_count": 5,
   "id": "fd00588b",
   "metadata": {},
   "outputs": [
    {
     "data": {
      "text/plain": [
       "(7996, 210)"
      ]
     },
     "execution_count": 5,
     "metadata": {},
     "output_type": "execute_result"
    }
   ],
   "source": [
    "cases_node_features.shape"
   ]
  },
  {
   "cell_type": "code",
   "execution_count": 6,
   "id": "0b3cc68b",
   "metadata": {},
   "outputs": [
    {
     "data": {
      "text/plain": [
       "(8272, 95)"
      ]
     },
     "execution_count": 6,
     "metadata": {},
     "output_type": "execute_result"
    }
   ],
   "source": [
    "controls_node_features.shape"
   ]
  },
  {
   "cell_type": "code",
   "execution_count": 7,
   "id": "0966f4ff",
   "metadata": {},
   "outputs": [],
   "source": [
    "## Edge_index dataframe"
   ]
  },
  {
   "cell_type": "code",
   "execution_count": 8,
   "id": "6c7ebb0f",
   "metadata": {},
   "outputs": [
    {
     "data": {
      "text/html": [
       "<div>\n",
       "<style scoped>\n",
       "    .dataframe tbody tr th:only-of-type {\n",
       "        vertical-align: middle;\n",
       "    }\n",
       "\n",
       "    .dataframe tbody tr th {\n",
       "        vertical-align: top;\n",
       "    }\n",
       "\n",
       "    .dataframe thead th {\n",
       "        text-align: right;\n",
       "    }\n",
       "</style>\n",
       "<table border=\"1\" class=\"dataframe\">\n",
       "  <thead>\n",
       "    <tr style=\"text-align: right;\">\n",
       "      <th></th>\n",
       "      <th>node1</th>\n",
       "      <th>node2</th>\n",
       "      <th>value</th>\n",
       "      <th>edgeType</th>\n",
       "    </tr>\n",
       "  </thead>\n",
       "  <tbody>\n",
       "    <tr>\n",
       "      <th>9374</th>\n",
       "      <td>RPS29</td>\n",
       "      <td>RPS21</td>\n",
       "      <td>1.276762</td>\n",
       "      <td>TE-TE</td>\n",
       "    </tr>\n",
       "    <tr>\n",
       "      <th>9375</th>\n",
       "      <td>CAVIN2</td>\n",
       "      <td>TUBB1</td>\n",
       "      <td>1.148556</td>\n",
       "      <td>TE-TE</td>\n",
       "    </tr>\n",
       "    <tr>\n",
       "      <th>9376</th>\n",
       "      <td>RPS15A</td>\n",
       "      <td>RPL27</td>\n",
       "      <td>1.137157</td>\n",
       "      <td>TE-TE</td>\n",
       "    </tr>\n",
       "    <tr>\n",
       "      <th>9377</th>\n",
       "      <td>RPL17</td>\n",
       "      <td>RPS15A</td>\n",
       "      <td>1.098086</td>\n",
       "      <td>TE-TE</td>\n",
       "    </tr>\n",
       "    <tr>\n",
       "      <th>9378</th>\n",
       "      <td>CAVIN2</td>\n",
       "      <td>PRKAR2B</td>\n",
       "      <td>1.027668</td>\n",
       "      <td>TE-TE</td>\n",
       "    </tr>\n",
       "  </tbody>\n",
       "</table>\n",
       "</div>"
      ],
      "text/plain": [
       "       node1    node2     value edgeType\n",
       "9374   RPS29    RPS21  1.276762    TE-TE\n",
       "9375  CAVIN2    TUBB1  1.148556    TE-TE\n",
       "9376  RPS15A    RPL27  1.137157    TE-TE\n",
       "9377   RPL17   RPS15A  1.098086    TE-TE\n",
       "9378  CAVIN2  PRKAR2B  1.027668    TE-TE"
      ]
     },
     "execution_count": 8,
     "metadata": {},
     "output_type": "execute_result"
    }
   ],
   "source": [
    "cases_df = pd.read_csv('/home/grehawi/splice-reg-prj/new-data/ARACNE/filtered_thr_cases_withNames_singleEdges.txt', sep=\" \")\n",
    "controls_df = pd.read_csv('/home/grehawi/splice-reg-prj/new-data/ARACNE/filtered_thr_controls_withNames_singleEdges.txt', sep=\" \")\n",
    "cases_df.head()"
   ]
  },
  {
   "cell_type": "code",
   "execution_count": 9,
   "id": "7a309212",
   "metadata": {},
   "outputs": [],
   "source": [
    "## node names"
   ]
  },
  {
   "cell_type": "code",
   "execution_count": 10,
   "id": "1df756ba",
   "metadata": {},
   "outputs": [],
   "source": [
    "cases_nodes_names_df = pd.read_csv('/home/grehawi/splice-reg-prj/new-data/Graph-learning/input-data/cases-net-node-names.txt', sep= \" \")\n",
    "controls_nodes_names_df = pd.read_csv('/home/grehawi/splice-reg-prj/new-data/Graph-learning/input-data/controls-net-node-names.txt', sep= \" \")\n"
   ]
  },
  {
   "cell_type": "code",
   "execution_count": 11,
   "id": "df71892a",
   "metadata": {},
   "outputs": [
    {
     "data": {
      "text/plain": [
       "7996"
      ]
     },
     "execution_count": 11,
     "metadata": {},
     "output_type": "execute_result"
    }
   ],
   "source": [
    "cases_nodes_names_df.head()\n",
    "cases_nodes_names_df.size"
   ]
  },
  {
   "cell_type": "code",
   "execution_count": 12,
   "id": "60dcebde",
   "metadata": {},
   "outputs": [],
   "source": [
    "cases_data = Data()\n",
    "cases_data.x = torch.tensor(cases_node_features.values, dtype=torch.float)\n",
    "# create a node-name -->int mapping\n",
    "node_names_mapping_cases = dict(zip(cases_nodes_names_df[['rownames(TE.IR.df)']].values.flatten(), range(0, cases_nodes_names_df.shape[0])))\n",
    "\n",
    "# set edge_index\n",
    "cases_edge_index = cases_df\n",
    "cases_edge_index['node1'] = cases_edge_index[\"node1\"].map(node_names_mapping_cases)\n",
    "cases_edge_index['node2'] = cases_edge_index[\"node2\"].map(node_names_mapping_cases)\n",
    "cases_data.edge_index = torch.tensor(cases_edge_index[['node1', 'node2']].values, dtype=torch.long).t().contiguous()\n",
    "cases_data = T.ToUndirected()(cases_data)"
   ]
  },
  {
   "cell_type": "code",
   "execution_count": 13,
   "id": "0cb6ddee",
   "metadata": {},
   "outputs": [],
   "source": [
    "controls_data = Data()\n",
    "controls_data.x = torch.tensor(controls_node_features.values, dtype=torch.float)\n",
    "# create a node-name -->int mapping\n",
    "node_names_mapping_controls = dict(zip(controls_nodes_names_df[['rownames(TE.IR.df)']].values.flatten(), range(0, controls_nodes_names_df.shape[0])))\n",
    "\n",
    "# set edge_index\n",
    "controls_edge_index = controls_df\n",
    "controls_edge_index['node1'] = controls_edge_index[\"node1\"].map(node_names_mapping_controls)\n",
    "controls_edge_index['node2'] = controls_edge_index[\"node2\"].map(node_names_mapping_controls)\n",
    "controls_data.edge_index = torch.tensor(controls_edge_index[['node1', 'node2']].values, dtype=torch.long).t().contiguous()\n",
    "controls_data = T.ToUndirected()(controls_data)"
   ]
  },
  {
   "cell_type": "code",
   "execution_count": 14,
   "id": "fdefb11d",
   "metadata": {},
   "outputs": [
    {
     "data": {
      "text/plain": [
       "Data(x=[8272, 95], edge_index=[2, 22240])"
      ]
     },
     "execution_count": 14,
     "metadata": {},
     "output_type": "execute_result"
    }
   ],
   "source": [
    "controls_data"
   ]
  },
  {
   "cell_type": "code",
   "execution_count": 15,
   "id": "e365f0aa",
   "metadata": {},
   "outputs": [
    {
     "data": {
      "text/plain": [
       "Data(x=[7996, 210], edge_index=[2, 21404])"
      ]
     },
     "execution_count": 15,
     "metadata": {},
     "output_type": "execute_result"
    }
   ],
   "source": [
    "cases_data"
   ]
  },
  {
   "cell_type": "code",
   "execution_count": 18,
   "id": "5a0fb38f",
   "metadata": {},
   "outputs": [],
   "source": [
    "torch.save(controls_data, '/home/grehawi/splice-reg-prj/new-data/Graph-validation-ARROW-Diff/input-data/controls_net.pt')\n",
    "torch.save(cases_data, '/home/grehawi/splice-reg-prj/new-data/Graph-validation-ARROW-Diff/input-data/cases_net.pt')"
   ]
  }
 ],
 "metadata": {
  "kernelspec": {
   "display_name": "Python 3 (ipykernel)",
   "language": "python",
   "name": "python3"
  },
  "language_info": {
   "codemirror_mode": {
    "name": "ipython",
    "version": 3
   },
   "file_extension": ".py",
   "mimetype": "text/x-python",
   "name": "python",
   "nbconvert_exporter": "python",
   "pygments_lexer": "ipython3",
   "version": "3.9.19"
  }
 },
 "nbformat": 4,
 "nbformat_minor": 5
}
