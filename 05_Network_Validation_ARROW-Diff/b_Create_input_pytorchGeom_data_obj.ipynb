{
 "cells": [
  {
   "cell_type": "code",
   "execution_count": null,
   "id": "3990ef47",
   "metadata": {},
   "outputs": [],
   "source": [
    "import torch\n",
    "import pandas as pd\n",
    "import numpy as np\n",
    "from torch_geometric.data import Data\n",
    "import torch_geometric.transforms as T"
   ]
  },
  {
   "cell_type": "code",
   "execution_count": null,
   "id": "69c3747a",
   "metadata": {},
   "outputs": [],
   "source": [
    "## Feature Matrix x"
   ]
  },
  {
   "cell_type": "code",
   "execution_count": null,
   "id": "b8348077",
   "metadata": {},
   "outputs": [],
   "source": [
    "controls_node_features = pd.read_csv(\"/grehawi/splice-reg-prj/new-data/Graph-learning/input-data/controls-net-node-features.txt\", sep= \"\\t\")\n",
    "cases_node_features = pd.read_csv(\"/grehawi/splice-reg-prj/new-data/Graph-learning/input-data/cases-net-node-features.txt\", sep= \"\\t\")"
   ]
  },
  {
   "cell_type": "code",
   "execution_count": null,
   "id": "1a55e125",
   "metadata": {},
   "outputs": [],
   "source": [
    "cases_node_features.head()"
   ]
  },
  {
   "cell_type": "code",
   "execution_count": null,
   "id": "fd00588b",
   "metadata": {},
   "outputs": [],
   "source": [
    "cases_node_features.shape"
   ]
  },
  {
   "cell_type": "code",
   "execution_count": null,
   "id": "0b3cc68b",
   "metadata": {},
   "outputs": [],
   "source": [
    "controls_node_features.shape"
   ]
  },
  {
   "cell_type": "code",
   "execution_count": null,
   "id": "0966f4ff",
   "metadata": {},
   "outputs": [],
   "source": [
    "## Edge_index dataframe"
   ]
  },
  {
   "cell_type": "code",
   "execution_count": null,
   "id": "6c7ebb0f",
   "metadata": {},
   "outputs": [],
   "source": [
    "cases_df = pd.read_csv('/grehawi/splice-reg-prj/new-data/ARACNE/filtered_thr_cases_withNames_singleEdges.txt', sep=\" \")\n",
    "controls_df = pd.read_csv('/grehawi/splice-reg-prj/new-data/ARACNE/filtered_thr_controls_withNames_singleEdges.txt', sep=\" \")\n",
    "cases_df.head()"
   ]
  },
  {
   "cell_type": "code",
   "execution_count": null,
   "id": "7a309212",
   "metadata": {},
   "outputs": [],
   "source": [
    "## node names"
   ]
  },
  {
   "cell_type": "code",
   "execution_count": null,
   "id": "1df756ba",
   "metadata": {},
   "outputs": [],
   "source": [
    "cases_nodes_names_df = pd.read_csv('/grehawi/splice-reg-prj/new-data/Graph-learning/input-data/cases-net-node-names.txt', sep= \" \")\n",
    "controls_nodes_names_df = pd.read_csv('/grehawi/splice-reg-prj/new-data/Graph-learning/input-data/controls-net-node-names.txt', sep= \" \")\n"
   ]
  },
  {
   "cell_type": "code",
   "execution_count": null,
   "id": "df71892a",
   "metadata": {},
   "outputs": [],
   "source": [
    "cases_nodes_names_df.head()\n",
    "cases_nodes_names_df.size"
   ]
  },
  {
   "cell_type": "code",
   "execution_count": null,
   "id": "60dcebde",
   "metadata": {},
   "outputs": [],
   "source": [
    "cases_data = Data()\n",
    "cases_data.x = torch.tensor(cases_node_features.values, dtype=torch.float)\n",
    "# create a node-name -->int mapping\n",
    "node_names_mapping_cases = dict(zip(cases_nodes_names_df[['rownames(TE.IR.df)']].values.flatten(), range(0, cases_nodes_names_df.shape[0])))\n",
    "\n",
    "# set edge_index\n",
    "cases_edge_index = cases_df\n",
    "cases_edge_index['node1'] = cases_edge_index[\"node1\"].map(node_names_mapping_cases)\n",
    "cases_edge_index['node2'] = cases_edge_index[\"node2\"].map(node_names_mapping_cases)\n",
    "cases_data.edge_index = torch.tensor(cases_edge_index[['node1', 'node2']].values, dtype=torch.long).t().contiguous()\n",
    "cases_data = T.ToUndirected()(cases_data)"
   ]
  },
  {
   "cell_type": "code",
   "execution_count": null,
   "id": "0cb6ddee",
   "metadata": {},
   "outputs": [],
   "source": [
    "controls_data = Data()\n",
    "controls_data.x = torch.tensor(controls_node_features.values, dtype=torch.float)\n",
    "# create a node-name -->int mapping\n",
    "node_names_mapping_controls = dict(zip(controls_nodes_names_df[['rownames(TE.IR.df)']].values.flatten(), range(0, controls_nodes_names_df.shape[0])))\n",
    "\n",
    "# set edge_index\n",
    "controls_edge_index = controls_df\n",
    "controls_edge_index['node1'] = controls_edge_index[\"node1\"].map(node_names_mapping_controls)\n",
    "controls_edge_index['node2'] = controls_edge_index[\"node2\"].map(node_names_mapping_controls)\n",
    "controls_data.edge_index = torch.tensor(controls_edge_index[['node1', 'node2']].values, dtype=torch.long).t().contiguous()\n",
    "controls_data = T.ToUndirected()(controls_data)"
   ]
  },
  {
   "cell_type": "code",
   "execution_count": null,
   "id": "fdefb11d",
   "metadata": {},
   "outputs": [],
   "source": [
    "controls_data"
   ]
  },
  {
   "cell_type": "code",
   "execution_count": null,
   "id": "e365f0aa",
   "metadata": {},
   "outputs": [],
   "source": [
    "cases_data"
   ]
  },
  {
   "cell_type": "code",
   "execution_count": null,
   "id": "5a0fb38f",
   "metadata": {},
   "outputs": [],
   "source": [
    "torch.save(controls_data, '/grehawi/splice-reg-prj/new-data/Graph-validation-ARROW-Diff/input-data/controls_net.pt')\n",
    "torch.save(cases_data, '/grehawi/splice-reg-prj/new-data/Graph-validation-ARROW-Diff/input-data/cases_net.pt')"
   ]
  }
 ],
 "metadata": {
  "kernelspec": {
   "display_name": "Python [conda env:pyhton_env]",
   "language": "python",
   "name": "conda-env-pyhton_env-py"
  },
  "language_info": {
   "codemirror_mode": {
    "name": "ipython",
    "version": 3
   },
   "file_extension": ".py",
   "mimetype": "text/x-python",
   "name": "python",
   "nbconvert_exporter": "python",
   "pygments_lexer": "ipython3",
   "version": "3.9.16"
  }
 },
 "nbformat": 4,
 "nbformat_minor": 5
}
