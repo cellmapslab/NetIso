{
 "cells": [
  {
   "cell_type": "code",
   "execution_count": null,
   "id": "c22e2083",
   "metadata": {
    "scrolled": true
   },
   "outputs": [],
   "source": [
    "import pandas as pd\n",
    "import numpy as np\n",
    "import seaborn as sns\n",
    "import networkx as nx\n",
    "from karateclub import Graph2Vec\n",
    "from sklearn.cluster import KMeans\n",
    "from sklearn.decomposition import PCA\n",
    "import torch\n",
    "from torch_geometric.utils import to_networkx, from_networkx\n",
    "%matplotlib inline\n",
    "import matplotlib.pyplot as plt\n",
    "import seaborn as sns\n",
    "import umap\n"
   ]
  },
  {
   "cell_type": "code",
   "execution_count": null,
   "id": "9b83af77",
   "metadata": {},
   "outputs": [],
   "source": [
    "cases_graphs = []\n",
    "# Parse the generated cases network\n",
    "for i in range(50):\n",
    "    graph_data_obj_seed150_path = \"/grehawi/splice-reg-prj/new-data/Graph-validation-ARROW-Diff/ARROW-Diff-output/cases-net/graphs_seed150/\"\n",
    "    graph_data_obj_seed150_path = graph_data_obj_seed150_path + \"graph_\" + str(i+1) + \".pt\"\n",
    "    graph_data_obj_seed150 = torch.load(graph_data_obj_seed150_path)\n",
    "    graph = to_networkx(graph_data_obj_seed150, to_undirected=True)\n",
    "    cases_graphs.append(graph)\n",
    "    \n",
    "for i in range(50):\n",
    "    graph_data_obj_seed149_path = \"/grehawi/splice-reg-prj/new-data/Graph-validation-ARROW-Diff/ARROW-Diff-output/cases-net/graphs_seed149/\"\n",
    "    graph_data_obj_seed149_path = graph_data_obj_seed149_path + \"graph_\" + str(i+1) + \".pt\"\n",
    "    graph_data_obj_seed149 = torch.load(graph_data_obj_seed149_path)\n",
    "    graph = to_networkx(graph_data_obj_seed149, to_undirected=True)\n",
    "    cases_graphs.append(graph)\n"
   ]
  },
  {
   "cell_type": "code",
   "execution_count": null,
   "id": "ab5947fb",
   "metadata": {},
   "outputs": [],
   "source": [
    "controls_graphs = []\n",
    "# Parse the generated controls network\n",
    "for i in range(50):\n",
    "    graph_data_obj_seed150_path = \"/grehawi/splice-reg-prj/new-data/Graph-validation-ARROW-Diff/ARROW-Diff-output/controls-net/graphs_seed150/\"\n",
    "    graph_data_obj_seed150_path = graph_data_obj_seed150_path + \"graph_\" + str(i+1) + \".pt\"\n",
    "    graph_data_obj_seed150 = torch.load(graph_data_obj_seed150_path)\n",
    "    graph = to_networkx(graph_data_obj_seed150, to_undirected=True)\n",
    "    controls_graphs.append(graph)\n",
    "    \n",
    "for i in range(50):\n",
    "    graph_data_obj_seed149_path = \"/grehawi/splice-reg-prj/new-data/Graph-validation-ARROW-Diff/ARROW-Diff-output/controls-net/graphs_seed149/\"\n",
    "    graph_data_obj_seed149_path = graph_data_obj_seed149_path + \"graph_\" + str(i+1) + \".pt\"\n",
    "    graph_data_obj_seed149 = torch.load(graph_data_obj_seed149_path)\n",
    "    graph = to_networkx(graph_data_obj_seed149, to_undirected=True)\n",
    "    controls_graphs.append(graph)\n"
   ]
  },
  {
   "cell_type": "code",
   "execution_count": null,
   "id": "614c0a3b",
   "metadata": {},
   "outputs": [],
   "source": [
    "cases_graphs.extend(controls_graphs)\n",
    "model = Graph2Vec(dimensions = 128)\n",
    "\n",
    "model.fit(cases_graphs)\n",
    "graphs_embed = model.get_embedding()"
   ]
  },
  {
   "cell_type": "code",
   "execution_count": null,
   "id": "e927800e",
   "metadata": {},
   "outputs": [],
   "source": [
    "graphs_embed.shape"
   ]
  },
  {
   "cell_type": "markdown",
   "id": "3b003884",
   "metadata": {},
   "source": [
    "## PCA on the graphs embeddings"
   ]
  },
  {
   "cell_type": "code",
   "execution_count": null,
   "id": "804a6d77",
   "metadata": {},
   "outputs": [],
   "source": [
    "pca = PCA(n_components=5)\n",
    "X_r = pca.fit(graphs_embed).transform(graphs_embed)"
   ]
  },
  {
   "cell_type": "code",
   "execution_count": null,
   "id": "33d7f540",
   "metadata": {},
   "outputs": [],
   "source": [
    "print(pca.explained_variance_ratio_)"
   ]
  },
  {
   "cell_type": "code",
   "execution_count": null,
   "id": "554c919e",
   "metadata": {},
   "outputs": [],
   "source": [
    "PC1 = X_r[:,0]\n",
    "PC2 = X_r[:,1]\n",
    "labels = [\"Affected Individuals Networks\" for i in range(100)]\n",
    "labels.extend([\"Unaffected Individuals Networks\" for i in range(100)])\n",
    "zipped = list(zip(PC1, \n",
    "                  PC2, \n",
    "                  labels))\n",
    "\n",
    "pc_df = pd.DataFrame(zipped, \n",
    "                     columns=['PC1', \n",
    "                              'PC2',\n",
    "                              'labels'])\n",
    "plt.figure(figsize=(10, 7))\n",
    " \n",
    "sns_plot = sns.scatterplot(data=pc_df, \n",
    "                x=\"PC1\", \n",
    "                y=\"PC2\",\n",
    "                hue = labels,\n",
    "                palette=['#F0CF7F', '#5DB9B5'])\n",
    " \n",
    "plt.legend(loc='upper left', bbox_to_anchor=(1, 0.5), ncol=1, shadow=False)\n",
    "plt.legend(fontsize=16)\n",
    "plt.xlabel('PC1 (4%)',\n",
    "             fontsize=16)\n",
    "plt.ylabel('PC2 (3%)',\n",
    "             fontsize=16)\n",
    "plt.show()\n",
    "#sns_plot.figure.savefig(\"/grehawi/splice-reg-prj/Figures/pca-arrowDiff-graphs-embedding-graph2vec-128dim.png\", dpi=300)"
   ]
  },
  {
   "cell_type": "markdown",
   "id": "65469965",
   "metadata": {},
   "source": [
    "## Classifying the embeddings"
   ]
  },
  {
   "cell_type": "code",
   "execution_count": null,
   "id": "3c9f89b6",
   "metadata": {},
   "outputs": [],
   "source": [
    "from sklearn.linear_model import LinearRegression\n",
    "X = graphs_embed\n",
    "# y = 100x1 (case class)+ 100x0 (controls class) \n",
    "ones = np.ones(100)\n",
    "zeros = np.zeros(100)\n",
    "y = np.concatenate((ones, zeros))\n",
    "reg = LinearRegression().fit(X, y)\n",
    "reg.score(X, y)"
   ]
  },
  {
   "cell_type": "code",
   "execution_count": null,
   "id": "a986612b",
   "metadata": {},
   "outputs": [],
   "source": [
    "reg.intercept_"
   ]
  },
  {
   "cell_type": "code",
   "execution_count": null,
   "id": "69c037d7",
   "metadata": {},
   "outputs": [],
   "source": []
  }
 ],
 "metadata": {
  "kernelspec": {
   "display_name": "Python [conda env:pyhton_env]",
   "language": "python",
   "name": "conda-env-pyhton_env-py"
  },
  "language_info": {
   "codemirror_mode": {
    "name": "ipython",
    "version": 3
   },
   "file_extension": ".py",
   "mimetype": "text/x-python",
   "name": "python",
   "nbconvert_exporter": "python",
   "pygments_lexer": "ipython3",
   "version": "3.9.16"
  }
 },
 "nbformat": 4,
 "nbformat_minor": 5
}
