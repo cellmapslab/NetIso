{
 "cells": [
  {
   "cell_type": "code",
   "execution_count": null,
   "id": "d6777060",
   "metadata": {
    "scrolled": true
   },
   "outputs": [],
   "source": [
    "library(xlsx)\n",
    "library(ggplot2)\n",
    "library(rtracklayer)\n",
    "library(dplyr)\n",
    "library(tidyr)\n",
    "library(data.table)\n",
    "library(matrixStats)\n",
    "library(igraph)\n",
    "library(purrr)\n",
    "library(TIN)"
   ]
  },
  {
   "cell_type": "code",
   "execution_count": null,
   "id": "45c20a2b",
   "metadata": {},
   "outputs": [],
   "source": [
    "genes.ids.names = read.table(\"/grehawi/splice-reg-prj/new-data/ARACNE/gene_names_ids_table.txt\")\n",
    "head(genes.ids.names)\n",
    "dim(genes.ids.names)"
   ]
  },
  {
   "cell_type": "code",
   "execution_count": null,
   "id": "66f523ea",
   "metadata": {
    "scrolled": true
   },
   "outputs": [],
   "source": [
    "tx.ids.names = read.table(\"/grehawi/splice-reg-prj/new-data/ARACNE/trxs_names_ids_table.txt\")\n",
    "head(tx.ids.names)\n",
    "dim(tx.ids.names)"
   ]
  },
  {
   "cell_type": "markdown",
   "id": "d3281f03",
   "metadata": {},
   "source": [
    "## Functions:"
   ]
  },
  {
   "cell_type": "code",
   "execution_count": null,
   "id": "974aaa75",
   "metadata": {},
   "outputs": [],
   "source": [
    "save_input <- function (TE.IR.count.data, processed_network, network_name) {   \n",
    "    TE.IR.df = as.data.frame(TE.IR.count.data)\n",
    "    row.names(TE.IR.df) = TE.IR.df$samples\n",
    "    TE.IR.df$samples = NULL\n",
    "    TE.IR.df = t(TE.IR.df)\n",
    "    nodes_names = unique(c(processed_network$node1, processed_network$node2))\n",
    "    TE.IR.df = TE.IR.df[rownames(TE.IR.df) %in% nodes_names, ]\n",
    "    \n",
    "    all.nodes = as.data.frame(rownames(TE.IR.df))\n",
    "    \n",
    "    TE.node.features = TE.IR.df[rownames(TE.IR.df) %in% genes.ids.names$gene_name, ]\n",
    "    IR.node.features = TE.IR.df[rownames(TE.IR.df) %in% tx.ids.names$name, ]\n",
    "    \n",
    "    node_features_file_name = paste0(network_name, '-net-node-features.txt')\n",
    "    node_names_file_name = paste0(network_name, '-net-node-names.txt')\n",
    "    TE_nodes_features_file_name = paste0(network_name, '-net-TE-nodes-features.txt')\n",
    "    IR_nodes_features_file_name = paste0(network_name, '-net-IR-nodes-features.txt')\n",
    "    \n",
    "    fwrite(TE.IR.df, paste0(\"/grehawi/splice-reg-prj/new-data/Graph-learning/input-data/\", node_features_file_name), sep=\"\\t\")\n",
    "    write.table(all.nodes, paste0(\"/grehawi/splice-reg-prj/new-data/Graph-learning/input-data/\", node_names_file_name))\n",
    "    fwrite(TE.node.features, paste0(\"/grehawi/splice-reg-prj/new-data/Graph-learning/input-data/\", TE_nodes_features_file_name), sep=\"\\t\")\n",
    "    fwrite(IR.node.features, paste0(\"/grehawi/splice-reg-prj/new-data/Graph-learning/input-data/\", IR_nodes_features_file_name), sep=\"\\t\")\n",
    "    \n",
    "}"
   ]
  },
  {
   "cell_type": "markdown",
   "id": "d3a98868",
   "metadata": {},
   "source": [
    "## Get Input matrices ready for Graph SAGE"
   ]
  },
  {
   "cell_type": "code",
   "execution_count": null,
   "id": "522e6ae0",
   "metadata": {},
   "outputs": [],
   "source": [
    "# Read genes/IR feature matrix\n",
    "TE.IR.count.data.controls = fread(\"/grehawi/splice-reg-prj/new-data/ARACNE/total_and_ratios_controls.txt\")\n",
    "TE.IR.count.data.cases.all = fread(\"/grehawi/splice-reg-prj/new-data/ARACNE/total_and_ratios_cases.txt\")"
   ]
  },
  {
   "cell_type": "code",
   "execution_count": null,
   "id": "50803f2a",
   "metadata": {},
   "outputs": [],
   "source": [
    "head(TE.IR.count.data.controls)"
   ]
  },
  {
   "cell_type": "code",
   "execution_count": null,
   "id": "ef2a7969",
   "metadata": {},
   "outputs": [],
   "source": [
    "# Read the final processed controls and cases networks after all filtering steps\n",
    "cases.annotated.filtered.single.edges.thr = read.table('/grehawi/splice-reg-prj/new-data/ARACNE/filtered_thr_cases_withNames_singleEdges.txt')\n",
    "controls.annotated.filtered.single.edges.thr = read.table('/grehawi/splice-reg-prj/new-data/ARACNE/filtered_thr_controls_withNames_singleEdges.txt')\n",
    "head(controls.annotated.filtered.single.edges.thr)"
   ]
  },
  {
   "cell_type": "code",
   "execution_count": null,
   "id": "92b7a48c",
   "metadata": {},
   "outputs": [],
   "source": [
    "save_input(TE.IR.count.data.controls, controls.annotated.filtered.single.edges.thr, 'controls')\n",
    "save_input(TE.IR.count.data.cases.all, cases.annotated.filtered.single.edges.thr, 'cases')"
   ]
  },
  {
   "cell_type": "code",
   "execution_count": null,
   "id": "1e56ebd7",
   "metadata": {},
   "outputs": [],
   "source": []
  }
 ],
 "metadata": {
  "kernelspec": {
   "display_name": "Python [conda env:pyhton_env]",
   "language": "python",
   "name": "conda-env-pyhton_env-py"
  },
  "language_info": {
   "codemirror_mode": {
    "name": "ipython",
    "version": 3
   },
   "file_extension": ".py",
   "mimetype": "text/x-python",
   "name": "python",
   "nbconvert_exporter": "python",
   "pygments_lexer": "ipython3",
   "version": "3.9.16"
  }
 },
 "nbformat": 4,
 "nbformat_minor": 5
}
