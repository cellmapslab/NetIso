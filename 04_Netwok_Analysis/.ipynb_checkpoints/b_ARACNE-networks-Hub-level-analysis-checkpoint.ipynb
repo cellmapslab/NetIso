{
 "cells": [
  {
   "cell_type": "code",
   "execution_count": null,
   "id": "6eccd4c9",
   "metadata": {
    "scrolled": true
   },
   "outputs": [],
   "source": [
    "library(xlsx)\n",
    "library(ggplot2)\n",
    "library(rtracklayer)\n",
    "library(dplyr)\n",
    "library(tidyr)\n",
    "library(data.table)\n",
    "library(matrixStats)\n",
    "library(igraph)\n",
    "library(purrr)\n",
    "library(stringr)\n",
    "library(VennDiagram)\n",
    "library(TIN)\n",
    "library(pheatmap)\n",
    "library(UpSetR)\n",
    "library(clusterProfiler)\n",
    "library(enrichplot)\n",
    "library(org.Hs.eg.db)\n",
    "\n",
    "psize = function(x=4,y=5) { options(repr.plot.width=x, repr.plot.height=y) }"
   ]
  },
  {
   "cell_type": "markdown",
   "id": "40ccc346",
   "metadata": {
    "jp-MarkdownHeadingCollapsed": true
   },
   "source": [
    "### Functions"
   ]
  },
  {
   "cell_type": "code",
   "execution_count": null,
   "id": "8dc9922f-3e14-47d0-9193-985561a0f8ac",
   "metadata": {},
   "outputs": [],
   "source": [
    "# Function to remove all characters after '-'\n",
    "remove_after_dash <- function(x) {\n",
    "  sub(\"-.*$\", \"\", x)\n",
    "}"
   ]
  },
  {
   "cell_type": "code",
   "execution_count": null,
   "id": "9e060a7b-8930-4634-b502-325b2da6ee43",
   "metadata": {},
   "outputs": [],
   "source": [
    "remove_double_edges <- function(df) {\n",
    "    # remove double edges\n",
    "    net.single.edges = df[!duplicated(apply(df,1,function(x) paste(sort(x),collapse=''))),]  \n",
    "                                            \n",
    "    return(net.single.edges)\n",
    "}"
   ]
  },
  {
   "cell_type": "code",
   "execution_count": null,
   "id": "98ca16a5",
   "metadata": {},
   "outputs": [],
   "source": [
    "get_igraph_obj <- function(df){\n",
    "  # takes in data table of results from kimono\n",
    "  # return igraph object\n",
    "  actors<-unique(c(df$node1,df$node2))\n",
    "  relations <- data.frame(from=df$node1,\n",
    "                        to=df$node2,\n",
    "                        value=df$value) \n",
    "  # network\n",
    "  g <- graph_from_data_frame(relations, directed=FALSE, vertices=actors)\n",
    "  return(g)\n",
    "}"
   ]
  },
  {
   "cell_type": "code",
   "execution_count": null,
   "id": "6b9241ac",
   "metadata": {},
   "outputs": [],
   "source": [
    "get_betweenness <- function(graph_obj){\n",
    "  # takes igraph object\n",
    "  # returns betweenness df\n",
    "  x <- betweenness(graph_obj, directed=T, weights=NA)\n",
    "\n",
    "  y <- as.data.frame(t(t(sort(x, decreasing = T)))) %>%\n",
    "    dplyr::rename(betweenness=V1) %>% setDT(., keep.rownames=T) %>% \n",
    "    dplyr::rename(node=rn)\n",
    "  return(y)\n",
    "}"
   ]
  },
  {
   "cell_type": "code",
   "execution_count": null,
   "id": "2f6cfc01",
   "metadata": {},
   "outputs": [],
   "source": [
    "get_degree <- function(graph_obj){\n",
    "    x = degree(graph_obj, v = V(graph_obj), loops=FALSE)\n",
    "    y <- as.data.frame(t(t(sort(x, decreasing = T)))) %>%\n",
    "        dplyr::rename(degree=V1) %>% setDT(., keep.rownames=T) %>% \n",
    "        dplyr::rename(node=rn)\n",
    "    return(y)  \n",
    "}"
   ]
  },
  {
   "cell_type": "markdown",
   "id": "c129be44",
   "metadata": {
    "jp-MarkdownHeadingCollapsed": true
   },
   "source": [
    "### Read required files"
   ]
  },
  {
   "cell_type": "code",
   "execution_count": null,
   "id": "1d8865ae-bd24-434b-988d-470ddc4c1f5a",
   "metadata": {},
   "outputs": [],
   "source": [
    "genecode.annot.subsetted = read.table(\"/grehawi/splice-reg-prj/new-data/subsetted_gencode_annotation.txt\")\n",
    "head(genecode.annot.subsetted)"
   ]
  },
  {
   "cell_type": "code",
   "execution_count": null,
   "id": "0b278689",
   "metadata": {},
   "outputs": [],
   "source": [
    "# read transcripts-genes mapping table\n",
    "trx.genes = read.table(\"/grehawi/splice-reg-prj/data/transcriptsID-geneID.txt\")\n",
    "head(trx.genes)"
   ]
  },
  {
   "cell_type": "code",
   "execution_count": null,
   "id": "5df86956",
   "metadata": {},
   "outputs": [],
   "source": [
    "genes.ids.names = read.table(\"/grehawi/splice-reg-prj/new-data/ARACNE/gene_names_ids_table.txt\")\n",
    "head(genes.ids.names)\n",
    "dim(genes.ids.names)"
   ]
  },
  {
   "cell_type": "code",
   "execution_count": null,
   "id": "2a25e615",
   "metadata": {},
   "outputs": [],
   "source": [
    "tx.ids.names = read.table(\"/grehawi/splice-reg-prj/new-data/ARACNE/trxs_names_ids_table.txt\")\n",
    "head(tx.ids.names)\n",
    "dim(tx.ids.names)"
   ]
  },
  {
   "cell_type": "code",
   "execution_count": null,
   "id": "19d3e6b3",
   "metadata": {},
   "outputs": [],
   "source": [
    "genes.trxs.ids.names.map = read.table(\"/grehawi/splice-reg-prj/new-data/ARACNE/genes_trxs_ids_names_map.txt\")\n",
    "head(genes.trxs.ids.names.map)\n",
    "dim(genes.trxs.ids.names.map)"
   ]
  },
  {
   "cell_type": "code",
   "execution_count": null,
   "id": "90b8ce73-bd92-4c81-b25c-d9852a69126f",
   "metadata": {},
   "outputs": [],
   "source": [
    "genes_up_names = readRDS(\"/grehawi/splice-reg-prj/new-data/Diff-Analysis/up_reg_ganes.rds\")\n",
    "genes_down_names = readRDS(\"/grehawi/splice-reg-prj/new-data/Diff-Analysis/down_reg_ganes.rds\")\n",
    "trx_up_names = readRDS(\"/grehawi/splice-reg-prj/new-data/Diff-Analysis/up_reg_trx.rds\")\n",
    "trx_down_names = readRDS(\"/grehawi/splice-reg-prj/new-data/Diff-Analysis/down_reg_trx.rds\")"
   ]
  },
  {
   "cell_type": "code",
   "execution_count": null,
   "id": "ee640ec8-3e7d-4bfa-a3f7-a9a2d0f19a5f",
   "metadata": {},
   "outputs": [],
   "source": [
    "all_disreg_genes_trx = c(genes_up_names, genes_down_names, trx_up_names, trx_down_names)\n",
    "length(all_disreg_genes_trx)"
   ]
  },
  {
   "cell_type": "code",
   "execution_count": null,
   "id": "77a86a8e-ebe3-4de5-88cb-7b866ffdb584",
   "metadata": {},
   "outputs": [],
   "source": [
    "#library(readxl)\n",
    "# Splicing factor from SpliceAid: 67 unique splicing factors\n",
    "sf.targets.links = fread(\"/grehawi/splice-reg-prj/data/splicing-factors.txt\", sep=\"\\t\")\n",
    "#This gene set is a comprehensive collection of 277 unique genes involved in pre-mRNA splicing events \n",
    "#(Sveen et al., Genome Medicine, 2011, 3:32).\n",
    "data(splicingFactors)\n",
    "splicingFactors$GeneSymbol = as.character(splicingFactors$GeneSymbol)\n",
    "\n",
    "# 406 splicing factors from Seiler et al 2018: https://pubmed.ncbi.nlm.nih.gov/29617667/\n",
    "SF.Seiler = fread(\"/grehawi/splice-reg-prj/data/SF-Seileretal2018.csv\")\n",
    "head(SF.Seiler)\n",
    "length(unique(SF.Seiler$GeneSymbol))\n",
    "\n",
    "#another resource of SF Anna et al : https://www.biorxiv.org/content/10.1101/2020.05.20.107375v1.full\n",
    "Anna.SF = c(\"SRSF1\", \"SRSF2\", \"SRSF3\", \"SRSF5\", \"SRSF7\", \"HNRNPA2B1\", \"HNRNPL\", \"HNRNPLL\", \"RBFOX2\", \"RBFOX3\", \"FUS\", \"SNRNP70\", \"TRA2A\",\n",
    "  \"TRA2B\", \"TIA1\", \"PTBP1\", \"PTBP2\", \"RBM10\", \"RBM5\")\n",
    "\n",
    "SF.Seiler.df = as.data.frame(SF.Seiler)\n",
    "SF.alone.seiler = unique(SF.Seiler.df$GeneSymbol)\n",
    "length(SF.alone.seiler)\n",
    "\n",
    "all.SF = unique(c(sf.targets.links$Gene, splicingFactors$GeneSymbol, SF.alone.seiler, Anna.SF))\n",
    "length(all.SF)"
   ]
  },
  {
   "cell_type": "code",
   "execution_count": null,
   "id": "cec5d781-57f1-4907-9c84-7964dc48f6c9",
   "metadata": {},
   "outputs": [],
   "source": [
    "tf.gene.links = fread(\"/grehawi/splice-reg-prj/data/TFLink_Homo_sapiens_interactions_All_simpleFormat_v1.0.tsv\", sep=\"\\t\")\n",
    "head(tf.gene.links)\n",
    "dim(tf.gene.links)\n",
    "dim(tf.gene.links[complete.cases(tf.gene.links),])\n",
    "length(unique(tf.gene.links$Name.Target))\n",
    "length(unique(tf.gene.links$Name.TF))"
   ]
  },
  {
   "cell_type": "code",
   "execution_count": null,
   "id": "a720e27e-6f22-4b83-9575-c1f68c28f0da",
   "metadata": {},
   "outputs": [],
   "source": [
    "all_known_factors = c(unique(tf.gene.links$Name.TF),all.SF)\n",
    "length(all_known_factors)"
   ]
  },
  {
   "cell_type": "markdown",
   "id": "9dc6719f",
   "metadata": {},
   "source": [
    "## 1. Read processed networks"
   ]
  },
  {
   "cell_type": "code",
   "execution_count": null,
   "id": "edb61095-4e35-455d-af56-d0508607ddb5",
   "metadata": {},
   "outputs": [],
   "source": [
    "# unthresholded networks\n",
    "annotated.filtered.cases.withNames.singleE = read.table('/grehawi/splice-reg-prj/new-data/ARACNE/filtered_cases_withNames_singleEdges.txt')\n",
    "annotated.filtered.controls.withNames.singleE = read.table('/grehawi/splice-reg-prj/new-data/ARACNE/filtered_controls_withNames_singleEdges.txt')\n"
   ]
  },
  {
   "cell_type": "code",
   "execution_count": null,
   "id": "ede9db34",
   "metadata": {},
   "outputs": [],
   "source": [
    "#thresholded networks\n",
    "cases.annotated.filtered.single.edges.thr = read.table('/grehawi/splice-reg-prj/new-data/ARACNE/filtered_thr_cases_withNames_singleEdges.txt')\n",
    "controls.annotated.filtered.single.edges.thr = read.table('/grehawi/splice-reg-prj/new-data/ARACNE/filtered_thr_controls_withNames_singleEdges.txt')\n"
   ]
  },
  {
   "cell_type": "code",
   "execution_count": null,
   "id": "35a33026",
   "metadata": {},
   "outputs": [],
   "source": [
    "head(controls.annotated.filtered.single.edges.thr)"
   ]
  },
  {
   "cell_type": "code",
   "execution_count": null,
   "id": "9552d4f0",
   "metadata": {},
   "outputs": [],
   "source": [
    "table(controls.annotated.filtered.single.edges.thr$edgeType)\n",
    "table(cases.annotated.filtered.single.edges.thr$edgeType)"
   ]
  },
  {
   "cell_type": "code",
   "execution_count": null,
   "id": "f452ada0",
   "metadata": {},
   "outputs": [],
   "source": [
    "# number of nodes after threshold filtering for both networks\n",
    "nodes.controls = unique(c(controls.annotated.filtered.single.edges.thr$node1, controls.annotated.filtered.single.edges.thr$node2))\n",
    "nodes.cases = unique(c(cases.annotated.filtered.single.edges.thr$node1, cases.annotated.filtered.single.edges.thr$node2))\n",
    "\n",
    "length(nodes.controls)\n",
    "length(nodes.cases)"
   ]
  },
  {
   "cell_type": "code",
   "execution_count": null,
   "id": "c3281ecc-6b43-4288-bedd-99d4ae076037",
   "metadata": {},
   "outputs": [],
   "source": [
    "# Number of gene nodes vs trx nodes in the 2 networks\n",
    "length(intersect(nodes.controls, genes.ids.names$gene_name))\n",
    "length(intersect(nodes.controls, tx.ids.names$name))\n",
    "length(intersect(nodes.cases, genes.ids.names$gene_name))\n",
    "length(intersect(nodes.cases, tx.ids.names$name))"
   ]
  },
  {
   "cell_type": "code",
   "execution_count": null,
   "id": "f1646c70-5805-417a-a455-d71ce92f5aa8",
   "metadata": {},
   "outputs": [],
   "source": [
    "control_network_nodeType_distr = data.frame(NodeType = c('Gene', 'IR'), Count= c(3514, 4758),\n",
    "                                            Network = rep('Unaffected Individuals Network',2))\n",
    "cases_network_nodeType_distr = data.frame(NodeType = c('Gene', 'IR'), Count= c(4115, 3881),\n",
    "                                            Network = rep('Affected Individuals Network',2))\n",
    "networks_nodeType_distr = rbind(cases_network_nodeType_distr, control_network_nodeType_distr)\n",
    "ggplot(networks_nodeType_distr, aes(fill=NodeType, y=Count, x=Network)) + \n",
    "     geom_bar(position=\"dodge\", stat=\"identity\") + xlab(\"\") + theme_classic() + theme(axis.text= element_text(size = 22), axis.title.x = element_text(size = 22),\n",
    "                                                         axis.title.y = element_text(size = 22),\n",
    "                                                         legend.text=element_text(size=24),\n",
    "                                                         legend.title=element_text(size=24)) +\n",
    "                                                         scale_fill_manual(values=c('#E7872B', '#3A68AE'))\n",
    "#ggsave(\"/grehawi/splice-reg-prj/Figures/barplot_networks_nodeType.pdf\", width = 14, height = 6)"
   ]
  },
  {
   "cell_type": "code",
   "execution_count": null,
   "id": "025c86f5-89a3-4b5b-a864-e7958a78e32c",
   "metadata": {},
   "outputs": [],
   "source": [
    "networks_nodeType_summary_table <- networks_nodeType_distr %>%\n",
    "  pivot_wider(\n",
    "    id_cols = NodeType,\n",
    "    names_from = Network,\n",
    "    values_from = Count,\n",
    "    names_prefix = \"\"\n",
    "  ) %>%\n",
    "  rename(\n",
    "    Affected = 'Affected Individuals Network',\n",
    "    Unaffected = 'Unaffected Individuals Network'\n",
    "  )\n",
    "row.names(networks_nodeType_summary_table) = networks_nodeType_summary_table$NodeType\n",
    "networks_nodeType_summary_table$NodeType = NULL\n",
    "networks_nodeType_summary_table"
   ]
  },
  {
   "cell_type": "code",
   "execution_count": null,
   "id": "3f2f0af6-1afb-4044-8c3c-e47bcbf6edcf",
   "metadata": {},
   "outputs": [],
   "source": [
    "# chi-square test of independence: are the nodes distribution in the 2 networks similar\n",
    "chisq <- chisq.test(networks_nodeType_summary_table)\n",
    "chisq"
   ]
  },
  {
   "cell_type": "code",
   "execution_count": null,
   "id": "580fd5ee",
   "metadata": {},
   "outputs": [],
   "source": [
    "# nodes that exist in the cases network but not in the controls and vice versa\n",
    "length(setdiff(nodes.cases, nodes.controls))\n",
    "length(setdiff(nodes.controls, nodes.cases))"
   ]
  },
  {
   "cell_type": "code",
   "execution_count": null,
   "id": "4182cde2",
   "metadata": {
    "scrolled": true
   },
   "outputs": [],
   "source": [
    "unique_cases = setdiff(nodes.cases, nodes.controls)\n",
    "nodes_unique_cases = data.frame(unique_cases)\n",
    "\n",
    "unique_controls = setdiff(nodes.controls, nodes.cases)\n",
    "nodes_unique_controls = data.frame(unique_controls)"
   ]
  },
  {
   "cell_type": "markdown",
   "id": "c93d1ff6",
   "metadata": {},
   "source": [
    "## Hub nodes analysis (after threshold filtering)"
   ]
  },
  {
   "cell_type": "code",
   "execution_count": null,
   "id": "68e1eb30",
   "metadata": {},
   "outputs": [],
   "source": [
    "g.controls = get_igraph_obj(controls.annotated.filtered.single.edges.thr)\n",
    "g.controls.degrees = get_degree(g.controls)\n",
    "\n",
    "g.cases = get_igraph_obj(cases.annotated.filtered.single.edges.thr)\n",
    "g.cases.degrees = get_degree(g.cases)\n",
    "\n",
    "summary(g.controls.degrees$degree)\n",
    "summary(g.cases.degrees$degree)"
   ]
  },
  {
   "cell_type": "markdown",
   "id": "54ff7d87",
   "metadata": {},
   "source": [
    "### Analysis of hubs (degree =>10) in the context of PDs"
   ]
  },
  {
   "cell_type": "code",
   "execution_count": null,
   "id": "e8dfea6e",
   "metadata": {
    "scrolled": true
   },
   "outputs": [],
   "source": [
    "hubs.with.at.least.degree.10.controls = g.controls.degrees$node[g.controls.degrees$degree >= 10]\n",
    "hubs.with.at.least.degree.10.cases = g.cases.degrees$node[g.cases.degrees$degree >= 10]\n",
    "length(hubs.with.at.least.degree.10.controls)\n",
    "length(hubs.with.at.least.degree.10.cases)\n",
    "hubs_intersect = intersect(hubs.with.at.least.degree.10.controls,hubs.with.at.least.degree.10.cases)\n",
    "length(hubs_intersect)"
   ]
  },
  {
   "cell_type": "code",
   "execution_count": null,
   "id": "cc79eafd",
   "metadata": {
    "scrolled": true
   },
   "outputs": [],
   "source": [
    "hubs_intersect"
   ]
  },
  {
   "cell_type": "code",
   "execution_count": null,
   "id": "62dce726-4b84-4dcb-bc82-42ba3e385b5a",
   "metadata": {},
   "outputs": [],
   "source": [
    "hubs_intersect_df = as.data.frame(hubs_intersect)\n",
    "write.table(hubs_intersect_df, \"/grehawi/splice-reg-prj/new-data/ARACNE/hubs_intersect.csv\", row.names=FALSE)"
   ]
  },
  {
   "cell_type": "code",
   "execution_count": null,
   "id": "7470df69-54c5-4f5e-93b0-417aa9f5a445",
   "metadata": {
    "scrolled": true
   },
   "outputs": [],
   "source": [
    "# save for suppl: table for common hub nodes and their connections in both networks\n",
    "common_hubs_cases_connections = cases.annotated.filtered.single.edges.thr[cases.annotated.filtered.single.edges.thr$node1 %in% hubs_intersect | cases.annotated.filtered.single.edges.thr$node2 %in% hubs_intersect,]\n",
    "common_hubs_controls_connections = controls.annotated.filtered.single.edges.thr[controls.annotated.filtered.single.edges.thr$node1 %in% hubs_intersect | controls.annotated.filtered.single.edges.thr$node2 %in% hubs_intersect,]\n",
    "\n",
    "write.table(common_hubs_cases_connections, \"/grehawi/splice-reg-prj/new-data/ARACNE/supp_table_comon_hubs_cases_connections.csv\", row.names=FALSE)\n",
    "write.table(common_hubs_controls_connections, \"/grehawi/splice-reg-prj/new-data/ARACNE/supp_table_comon_hubs_controls_connections.csv\", row.names=FALSE)\n"
   ]
  },
  {
   "cell_type": "code",
   "execution_count": null,
   "id": "406898bb",
   "metadata": {
    "scrolled": true
   },
   "outputs": [],
   "source": [
    "hubs_cases_unique = setdiff(hubs.with.at.least.degree.10.cases, hubs.with.at.least.degree.10.controls)\n",
    "write.table(hubs_cases_unique, \"/grehawi/splice-reg-prj/new-data/ARACNE/hubs_unique_cases.csv\", row.names=FALSE)"
   ]
  },
  {
   "cell_type": "code",
   "execution_count": null,
   "id": "f4714bb9",
   "metadata": {},
   "outputs": [],
   "source": [
    "hubs_controls_unique = setdiff(hubs.with.at.least.degree.10.controls, hubs.with.at.least.degree.10.cases)\n",
    "write.table(hubs_controls_unique, \"/grehawi/splice-reg-prj/new-data/ARACNE/hubs_unique_controls.csv\", row.names=FALSE)"
   ]
  },
  {
   "cell_type": "code",
   "execution_count": null,
   "id": "7ac8cee5-9942-48f6-a526-a2d07deb39ef",
   "metadata": {},
   "outputs": [],
   "source": [
    "# save for suppl: table for hub nodes and their degree in both networks\n",
    "suppl_table_hubs_cases = g.cases.degrees[g.cases.degrees$degree >= 10]\n",
    "suppl_table_hubs_cases = left_join(suppl_table_hubs_cases, genes.trxs.ids.names.map, by = c(\"node\" = \"name\"))\n",
    "suppl_table_hubs_controls = g.controls.degrees[g.controls.degrees$degree >= 10]\n",
    "suppl_table_hubs_controls = left_join(suppl_table_hubs_controls, genes.trxs.ids.names.map, by = c(\"node\" = \"name\"))\n",
    "write.table(suppl_table_hubs_cases, \"/grehawi/splice-reg-prj/new-data/ARACNE/supp_table_hubs_cases.csv\", row.names=FALSE)\n",
    "write.table(suppl_table_hubs_controls, \"/grehawi/splice-reg-prj/new-data/ARACNE/supp_table_hubs_controls.csv\", row.names=FALSE)"
   ]
  },
  {
   "cell_type": "code",
   "execution_count": null,
   "id": "15f76b84-9886-4627-bebc-5abb8c5fc508",
   "metadata": {
    "scrolled": true
   },
   "outputs": [],
   "source": [
    "suppl_table_hubs_cases"
   ]
  },
  {
   "cell_type": "code",
   "execution_count": null,
   "id": "69b40158",
   "metadata": {
    "scrolled": true
   },
   "outputs": [],
   "source": [
    "venn.diagram(\n",
    "        x = list(hubs.with.at.least.degree.10.cases, hubs.with.at.least.degree.10.controls),\n",
    "        category.names = c('#Hubs in the AIN', '#Hubs in the UIN'),\n",
    "        filename = '/grehawi/splice-reg-prj/Figures/venn_hub_nodes_degree10.svg',\n",
    "        imagetype=\"svg\",\n",
    "        output=FALSE,\n",
    "        # Circles\n",
    "        lwd = 2,\n",
    "        cex = 12,\n",
    "        cat.cex = 12,\n",
    "        lty = 'blank',\n",
    "        fill = c(\"#F0CF7F\", \"#5DB9B5\"),\n",
    "        height=32,\n",
    "        width=32)"
   ]
  },
  {
   "cell_type": "markdown",
   "id": "6d2aa11b-962c-4989-a05c-aa7ec0f7b656",
   "metadata": {},
   "source": [
    "#### Check common and distinct connections of shared hub nodes (nodes with dg >= 10 in both networks)"
   ]
  },
  {
   "cell_type": "code",
   "execution_count": null,
   "id": "d9de922e-f40d-4434-a1d9-6089d354b8a5",
   "metadata": {
    "scrolled": true
   },
   "outputs": [],
   "source": [
    "shared_hubs_connections_controls = controls.annotated.filtered.single.edges.thr[controls.annotated.filtered.single.edges.thr$node1 %in% hubs_intersect | controls.annotated.filtered.single.edges.thr$node2 %in% hubs_intersect,]\n",
    "shared_hubs_connections_cases = cases.annotated.filtered.single.edges.thr[cases.annotated.filtered.single.edges.thr$node1 %in% hubs_intersect | cases.annotated.filtered.single.edges.thr$node2 %in% hubs_intersect,]\n",
    "\n",
    "dim(shared_hubs_connections_controls)\n",
    "dim(shared_hubs_connections_cases)\n",
    "# which of these connections are unique to the cases/controls networks\n",
    "Reduce(setdiff, list(shared_hubs_connections_controls[, 1:2], shared_hubs_connections_cases[, 1:2]))\n",
    "Reduce(setdiff, list(shared_hubs_connections_cases[, 1:2], shared_hubs_connections_controls[, 1:2]))"
   ]
  },
  {
   "cell_type": "code",
   "execution_count": null,
   "id": "cf325147-a09b-487b-8e23-8c306f96a00a",
   "metadata": {},
   "outputs": [],
   "source": [
    "# check the connections of pds genes/trx in the set intersect_hubs (results from DisGeNet in another notebook)\n",
    "pds_related_hubs_intersect = c('KCTD12', 'TNFRSF1B')\n",
    "hubs_intersect_cases_connections = cases.annotated.filtered.single.edges.thr[cases.annotated.filtered.single.edges.thr$node1 %in% pds_related_hubs_intersect | cases.annotated.filtered.single.edges.thr$node2 %in% pds_related_hubs_intersect, ]\n",
    "hubs_intersect_controls_connections = controls.annotated.filtered.single.edges.thr[controls.annotated.filtered.single.edges.thr$node1 %in% pds_related_hubs_intersect | controls.annotated.filtered.single.edges.thr$node2 %in% pds_related_hubs_intersect, ]\n",
    "options(repr.plot.width=10, repr.plot.height=9)\n",
    "par(mfrow=c(1,2))\n",
    "#cases\n",
    "hubs_intersect_cases <- graph_from_data_frame(hubs_intersect_cases_connections, directed = FALSE) # Use directed = TRUE for directed graphs\n",
    "#svg(\"/grehawi/splice-reg-prj/Figures/cases_hubs_intersect_connections.svg\", width = 10, height = 10)\n",
    "plot(hubs_intersect_cases, vertex.color= '#E7872B', edge.width = 1.6)\n",
    "#dev.off()\n",
    "#controls\n",
    "hubs_intersect_controls <- graph_from_data_frame(hubs_intersect_controls_connections, directed = FALSE)\n",
    "#svg(\"/grehawi/splice-reg-prj/Figures/controls_hubs_intersect_connections.svg\", width = 10, height = 10)\n",
    "plot(hubs_intersect_controls, vertex.color= '#E7872B', edge.width = 1.6)\n",
    "#dev.off()"
   ]
  },
  {
   "cell_type": "code",
   "execution_count": null,
   "id": "0797e557-8b17-4be4-878f-92d36fa54534",
   "metadata": {},
   "outputs": [],
   "source": [
    "# whcih of the connections of c('KCTD12', 'TNFRSF1B') are dysregulated/hubs in the cases network\n",
    "pds_hubs_connections_cases = unique(c(hubs_intersect_cases_connections$node1, hubs_intersect_cases_connections$node2))\n",
    "intersect(pds_hubs_connections_cases, hubs.with.at.least.degree.10.cases)\n",
    "#intersect(pds_hubs_connections_cases, all_disreg_genes_trx) -->NONE\n",
    "intersect(pds_hubs_connections_cases, tf.gene.links$Name.TF)\n",
    "intersect(pds_hubs_connections_cases, all.SF)"
   ]
  },
  {
   "cell_type": "code",
   "execution_count": null,
   "id": "f26aa4ad-2256-4e2c-a0c9-e1a7f3ad6aea",
   "metadata": {},
   "outputs": [],
   "source": [
    "# whcih of the connections of c('KCTD12', 'TNFRSF1B') are dysregulated/hubs in the controls network\n",
    "pds_hubs_connections_controls = unique(c(hubs_intersect_controls_connections$node1, hubs_intersect_controls_connections$node2))\n",
    "intersect(pds_hubs_connections_controls, hubs.with.at.least.degree.10.controls)\n",
    "#intersect(pds_hubs_connections_controls, all_disreg_genes_trx) -->NONE\n",
    "intersect(pds_hubs_connections_controls, tf.gene.links$Name.TF)\n",
    "#intersect(pds_hubs_connections_controls, all.SF) -->NONE"
   ]
  },
  {
   "cell_type": "code",
   "execution_count": null,
   "id": "4e534a82-1289-4928-b420-32043e608785",
   "metadata": {
    "scrolled": true
   },
   "outputs": [],
   "source": [
    "# check the connections of pds genes/trx in the set intersect_hubs in the unthresholded networks (results from DisGeNet in another notebook)\n",
    "pds_related_hubs_intersect = c('KCTD12', 'TNFRSF1B')\n",
    "hubs_intersect_cases = annotated.filtered.cases.withNames.singleE[annotated.filtered.cases.withNames.singleE$node1 %in% pds_related_hubs_intersect | annotated.filtered.cases.withNames.singleE$node2 %in% pds_related_hubs_intersect, ]\n",
    "hubs_intersect_controls = annotated.filtered.controls.withNames.singleE[annotated.filtered.controls.withNames.singleE$node1 %in% pds_related_hubs_intersect | annotated.filtered.controls.withNames.singleE$node2 %in% pds_related_hubs_intersect, ]\n",
    "options(repr.plot.width=10, repr.plot.height=9)\n",
    "par(mfrow=c(1,2))\n",
    "#cases\n",
    "hubs_intersect_cases <- graph_from_data_frame(hubs_intersect_cases, directed = FALSE) # Use directed = TRUE for directed graphs\n",
    "#svg(\"/grehawi/splice-reg-prj/Figures/cases_hubs_intersect_connections_unThrsh_network.svg\", width = 10, height = 10)\n",
    "plot(hubs_intersect_cases, vertex.color= '#E7872B', edge.width = 1.6)\n",
    "#dev.off()\n",
    "#controls\n",
    "hubs_intersect_controls <- graph_from_data_frame(hubs_intersect_controls, directed = FALSE)\n",
    "#svg(\"/grehawi/splice-reg-prj/Figures/controls_hubs_intersect_connections_unThrsh_network.svg\", width = 10, height = 10)\n",
    "plot(hubs_intersect_controls, vertex.color= '#E7872B', edge.width = 1.6)\n",
    "#dev.off()"
   ]
  },
  {
   "cell_type": "code",
   "execution_count": null,
   "id": "86098114-fc45-4263-be4f-e24047fcba1f",
   "metadata": {
    "scrolled": true
   },
   "outputs": [],
   "source": [
    "cases.annotated.filtered.single.edges.thr[cases.annotated.filtered.single.edges.thr$node1 == 'TNFAIP2' | cases.annotated.filtered.single.edges.thr$node2 == 'TNFAIP2', ]\n",
    "\n",
    "controls.annotated.filtered.single.edges.thr[controls.annotated.filtered.single.edges.thr$node1 == 'TNFAIP2' | controls.annotated.filtered.single.edges.thr$node2 == 'TNFAIP2', ]\n"
   ]
  },
  {
   "cell_type": "markdown",
   "id": "aaf1daa8-1956-4e40-a230-4ead11221c01",
   "metadata": {},
   "source": [
    "### Analysis of hub IR nodes"
   ]
  },
  {
   "cell_type": "code",
   "execution_count": null,
   "id": "bfdd2bf1",
   "metadata": {},
   "outputs": [],
   "source": [
    "hubs.with.at.least.degree.15.controls = g.controls.degrees$node[g.controls.degrees$degree >= 15]\n",
    "hubs.with.at.least.degree.15.cases = g.cases.degrees$node[g.cases.degrees$degree >= 15]\n",
    "length(hubs.with.at.least.degree.15.controls)\n",
    "length(hubs.with.at.least.degree.15.cases)\n",
    "hubs_intersect_degree15 = intersect(hubs.with.at.least.degree.15.controls,hubs.with.at.least.degree.15.cases)\n",
    "length(hubs_intersect_degree15)"
   ]
  },
  {
   "cell_type": "code",
   "execution_count": null,
   "id": "b01723af",
   "metadata": {},
   "outputs": [],
   "source": [
    "hubs.with.at.least.degree.20.controls = g.controls.degrees$node[g.controls.degrees$degree >= 20]\n",
    "hubs.with.at.least.degree.20.cases = g.cases.degrees$node[g.cases.degrees$degree >= 20]\n",
    "length(hubs.with.at.least.degree.20.controls)\n",
    "length(hubs.with.at.least.degree.20.cases)\n",
    "hubs_intersect_degree20 = intersect(hubs.with.at.least.degree.20.controls,hubs.with.at.least.degree.20.cases)\n",
    "length(hubs_intersect_degree20)"
   ]
  },
  {
   "cell_type": "markdown",
   "id": "bf1ce4cd",
   "metadata": {},
   "source": [
    "#### Check % of trx vs genes in the set of hub nodes"
   ]
  },
  {
   "cell_type": "code",
   "execution_count": null,
   "id": "f97a73a8",
   "metadata": {
    "scrolled": true
   },
   "outputs": [],
   "source": [
    "# Check out percentage of IR vs Genes in the set of hub nodes (>=10) in the controls net \n",
    "\n",
    "hubs.with.at.least.degree.10.controls_df = as.data.frame(hubs.with.at.least.degree.10.controls)\n",
    "names(hubs.with.at.least.degree.10.controls_df)[1] <- \"nodes\"\n",
    "                                                         \n",
    "hubs.with.at.least.degree.10.controls_df = hubs.with.at.least.degree.10.controls_df %>% \n",
    " mutate(\n",
    "        nodeType = ifelse(nodes %in% tx.ids.names$name, \"IR\", \"Gene\"))\n",
    "\n",
    "hubs.with.at.least.degree.10.controls_table = as.data.frame(table(hubs.with.at.least.degree.10.controls_df$nodeType))\n",
    "names(hubs.with.at.least.degree.10.controls_table)[1] <- \"NodeType\"\n",
    "names(hubs.with.at.least.degree.10.controls_table)[2] <- \"Frequency\"\n",
    "hubs.with.at.least.degree.10.controls_table$Network = \"Unaffected Individuals Network\"\n",
    "hubs.with.at.least.degree.10.controls_table\n",
    "\n",
    "# Check out percentage of IR vs Genes in the set of hub nodes (>=10) in the cases net \n",
    "\n",
    "hubs.with.at.least.degree.10.cases_df = as.data.frame(hubs.with.at.least.degree.10.cases)\n",
    "names(hubs.with.at.least.degree.10.cases_df)[1] <- \"nodes\"\n",
    "                                                         \n",
    "hubs.with.at.least.degree.10.cases_df = hubs.with.at.least.degree.10.cases_df %>% \n",
    " mutate(\n",
    "        nodeType = ifelse(nodes %in% tx.ids.names$name, \"IR\", \"Gene\"))\n",
    "\n",
    "hubs.with.at.least.degree.10.cases_table = as.data.frame(table(hubs.with.at.least.degree.10.cases_df$nodeType))\n",
    "names(hubs.with.at.least.degree.10.cases_table)[1] <- \"NodeType\"\n",
    "names(hubs.with.at.least.degree.10.cases_table)[2] <- \"Frequency\"\n",
    "hubs.with.at.least.degree.10.cases_table$Network = \"Affected Individuals Network\"\n",
    "hubs.with.at.least.degree.10.cases_table\n",
    "\n",
    "hubs.with.at.least.degree.10.combined = rbind(hubs.with.at.least.degree.10.controls_table,\n",
    "                                              hubs.with.at.least.degree.10.cases_table)\n",
    "\n",
    "pdf(\"/grehawi/splice-reg-prj/Figures/barplot_hubs_dg10_nodeType.pdf\", width=12, height=6)\n",
    "# Create a bar plot\n",
    "ggplot(hubs.with.at.least.degree.10.combined, aes(fill=NodeType, y=Frequency, x=Network)) + \n",
    "     geom_bar(position=\"dodge\", stat=\"identity\") + theme_classic() + xlab(\"Hubs (dg >= 10)\") + theme(axis.text= element_text(size = 17), axis.title.x = element_text(size = 20),\n",
    "                                                         axis.title.y = element_text(size = 20),\n",
    "                                                         legend.text=element_text(size=22),\n",
    "                                                         legend.title=element_text(size=22)) +\n",
    "                                                         scale_fill_manual(values=c('#E7872B', '#3A68AE'))\n",
    "dev.off()"
   ]
  },
  {
   "cell_type": "code",
   "execution_count": null,
   "id": "da037f1d",
   "metadata": {
    "scrolled": true
   },
   "outputs": [],
   "source": [
    "# Check out percentage of IR vs Genes in the set of hub nodes (degree >=15) \n",
    "\n",
    "hubs.with.at.least.degree.15.controls_df = as.data.frame(hubs.with.at.least.degree.15.controls)\n",
    "names(hubs.with.at.least.degree.15.controls_df)[1] <- \"nodes\"\n",
    "                                                         \n",
    "hubs.with.at.least.degree.15.controls_df = hubs.with.at.least.degree.15.controls_df %>% \n",
    " mutate(\n",
    "        nodeType = ifelse(nodes %in% tx.ids.names$name, \"IR\", \"Gene\"))\n",
    "\n",
    "hubs.with.at.least.degree.15.controls_table = as.data.frame(table(hubs.with.at.least.degree.15.controls_df$nodeType))\n",
    "names(hubs.with.at.least.degree.15.controls_table)[1] <- \"NodeType\"\n",
    "names(hubs.with.at.least.degree.15.controls_table)[2] <- \"Frequency\"\n",
    "hubs.with.at.least.degree.15.controls_table$Network = \"Unaffected Individuals Network\"\n",
    "hubs.with.at.least.degree.15.controls_table\n",
    "\n",
    "\n",
    "hubs.with.at.least.degree.15.cases_df = as.data.frame(hubs.with.at.least.degree.15.cases)\n",
    "names(hubs.with.at.least.degree.15.cases_df)[1] <- \"nodes\"\n",
    "                                                         \n",
    "hubs.with.at.least.degree.15.cases_df = hubs.with.at.least.degree.15.cases_df %>% \n",
    " mutate(\n",
    "        nodeType = ifelse(nodes %in% tx.ids.names$name, \"IR\", \"Gene\"))\n",
    "\n",
    "hubs.with.at.least.degree.15.cases_table = as.data.frame(table(hubs.with.at.least.degree.15.cases_df$nodeType))\n",
    "names(hubs.with.at.least.degree.15.cases_table)[1] <- \"NodeType\"\n",
    "names(hubs.with.at.least.degree.15.cases_table)[2] <- \"Frequency\"\n",
    "hubs.with.at.least.degree.15.cases_table$Network = \"Affected Individuals Network\"\n",
    "hubs.with.at.least.degree.15.cases_table\n",
    "\n",
    "hubs.with.at.least.degree.15.combined = rbind(hubs.with.at.least.degree.15.controls_table,\n",
    "                                              hubs.with.at.least.degree.15.cases_table)\n",
    "\n",
    "pdf(\"/grehawi/splice-reg-prj/Figures/barplot_hubs_dg15_nodeType.pdf\", width=12, height=6)\n",
    "# Create a bar plot\n",
    "ggplot(hubs.with.at.least.degree.15.combined, aes(fill=NodeType, y=Frequency, x=Network)) + \n",
    "     geom_bar(position=\"dodge\", stat=\"identity\") + theme_classic() + xlab(\"Hubs (dg >= 15)\") + theme(axis.text= element_text(size = 17), axis.title.x = element_text(size = 20),\n",
    "                                                         axis.title.y = element_text(size = 20),\n",
    "                                                         legend.text=element_text(size=22),\n",
    "                                                         legend.title=element_text(size=22)) +\n",
    "                                                         scale_fill_manual(values=c('#E7872B', '#3A68AE'))\n",
    "dev.off()"
   ]
  },
  {
   "cell_type": "code",
   "execution_count": null,
   "id": "40c2cd93",
   "metadata": {
    "scrolled": true
   },
   "outputs": [],
   "source": [
    "# Check out percentage of IR vs Genes in the set of hub nodes (degree >=20) \n",
    "\n",
    "hubs.with.at.least.degree.20.controls_df = as.data.frame(hubs.with.at.least.degree.20.controls)\n",
    "names(hubs.with.at.least.degree.20.controls_df)[1] <- \"nodes\"\n",
    "                                                         \n",
    "hubs.with.at.least.degree.20.controls_df = hubs.with.at.least.degree.20.controls_df %>% \n",
    " mutate(\n",
    "        nodeType = ifelse(nodes %in% tx.ids.names$name, \"IR\", \"Gene\"))\n",
    "\n",
    "hubs.with.at.least.degree.20.controls_table = as.data.frame(table(hubs.with.at.least.degree.20.controls_df$nodeType))\n",
    "names(hubs.with.at.least.degree.20.controls_table)[1] <- \"NodeType\"\n",
    "names(hubs.with.at.least.degree.20.controls_table)[2] <- \"Frequency\"\n",
    "hubs.with.at.least.degree.20.controls_table$Network = \"Unaffected Individuals Network\"\n",
    "hubs.with.at.least.degree.20.controls_table\n",
    "\n",
    "\n",
    "hubs.with.at.least.degree.20.cases_df = as.data.frame(hubs.with.at.least.degree.20.cases)\n",
    "names(hubs.with.at.least.degree.20.cases_df)[1] <- \"nodes\"\n",
    "                                                         \n",
    "hubs.with.at.least.degree.20.cases_df = hubs.with.at.least.degree.20.cases_df %>% \n",
    " mutate(\n",
    "        nodeType = ifelse(nodes %in% tx.ids.names$name, \"IR\", \"Gene\"))\n",
    "\n",
    "hubs.with.at.least.degree.20.cases_table = as.data.frame(table(hubs.with.at.least.degree.20.cases_df$nodeType))\n",
    "names(hubs.with.at.least.degree.20.cases_table)[1] <- \"NodeType\"\n",
    "names(hubs.with.at.least.degree.20.cases_table)[2] <- \"Frequency\"\n",
    "hubs.with.at.least.degree.20.cases_table$Network = \"Affected Individuals Network\"\n",
    "hubs.with.at.least.degree.20.cases_table\n",
    "\n",
    "hubs.with.at.least.degree.20.combined = rbind(hubs.with.at.least.degree.20.controls_table,\n",
    "                                              hubs.with.at.least.degree.20.cases_table)\n",
    "\n",
    "pdf(\"/grehawi/splice-reg-prj/Figures/barplot_hubs_dg20_nodeType.pdf\", width=12, height=6)\n",
    "# Create a bar plot\n",
    "ggplot(hubs.with.at.least.degree.20.combined, aes(fill=NodeType, y=Frequency, x=Network)) + \n",
    "     geom_bar(position=\"dodge\", stat=\"identity\") + theme_classic() + xlab(\"Hubs (dg >= 20)\") + theme(axis.text= element_text(size = 17), axis.title.x = element_text(size = 20),\n",
    "                                                         axis.title.y = element_text(size = 20),\n",
    "                                                         legend.text=element_text(size=22),\n",
    "                                                         legend.title=element_text(size=22)) +\n",
    "                                                         scale_fill_manual(values=c('#E7872B', '#3A68AE'))\n",
    "dev.off()"
   ]
  },
  {
   "cell_type": "code",
   "execution_count": null,
   "id": "3a96d1bb",
   "metadata": {},
   "outputs": [],
   "source": [
    "# Check out percentage of IR vs Genes in the set of hub nodes that are shared\n",
    "\n",
    "hubs_intersect_df = as.data.frame(hubs_intersect)\n",
    "names(hubs_intersect_df)[1] <- \"nodes\"\n",
    "                                                         \n",
    "hubs_intersect_df = hubs_intersect_df %>% \n",
    " mutate(\n",
    "        nodeType = ifelse(grepl(\"-\", nodes), \"Transcript\", \"Gene\"))\n",
    "\n",
    "hubs_intersect_table = as.data.frame(table(hubs_intersect_df$nodeType))\n",
    "names(hubs_intersect_table)[1] <- \"Type\"\n",
    "hubs_intersect_table"
   ]
  },
  {
   "cell_type": "markdown",
   "id": "b9fc2c5c-4edd-4a29-94b9-7a6138891d3a",
   "metadata": {
    "jp-MarkdownHeadingCollapsed": true
   },
   "source": [
    "### Investigate IR nodes since many hub nodes are IR and because they are mostly connected with other IR nodes"
   ]
  },
  {
   "cell_type": "code",
   "execution_count": null,
   "id": "ded8c2ff-c257-4796-a6c5-0108fe3c72d8",
   "metadata": {
    "scrolled": true
   },
   "outputs": [],
   "source": [
    "# take the the list of intersect_hubs and find IR nodes\n",
    "hubs_intersect_IR_Nodes = intersect(hubs_intersect, tx.ids.names$name)\n",
    "hubs_intersect_IR_Nodes\n",
    "\n",
    "# get gene name to discover which are known TFs/SFs\n",
    "hubs_intersect_IR_Nodes_with_gene_names = remove_after_dash(hubs_intersect_IR_Nodes)\n",
    "hubs_intersect_IR_Nodes_with_gene_names_known_factors = intersect(hubs_intersect_IR_Nodes_with_gene_names, all.SF)\n",
    "hubs_intersect_IR_Nodes_with_gene_names_known_factors\n",
    "\n",
    "# choosing HNRNPH1 and its isoform HNRNPH1-227"
   ]
  },
  {
   "cell_type": "code",
   "execution_count": null,
   "id": "f4aeaabf-02a1-4d1c-b460-d1e91ca0cb40",
   "metadata": {},
   "outputs": [],
   "source": [
    "tx.ids.names[tx.ids.names$name == 'HNRNPH1-227', ]"
   ]
  },
  {
   "cell_type": "code",
   "execution_count": null,
   "id": "f35457c7-8d95-475f-b681-ead70200747d",
   "metadata": {},
   "outputs": [],
   "source": [
    "cases_network_HNRNPH1227_connections = cases.annotated.filtered.single.edges.thr[cases.annotated.filtered.single.edges.thr$node1== 'HNRNPH1-227' | cases.annotated.filtered.single.edges.thr$node2== 'HNRNPH1-227', ]\n",
    "controls_network_HNRNPH1227_connections = controls.annotated.filtered.single.edges.thr[controls.annotated.filtered.single.edges.thr$node1== 'HNRNPH1-227' | controls.annotated.filtered.single.edges.thr$node2== 'HNRNPH1-227', ]\n",
    "options(repr.plot.width=10, repr.plot.height=9)\n",
    "par(mfrow=c(1,2))\n",
    "#cases\n",
    "cases_network_HNRNPH1227 <- graph_from_data_frame(cases_network_HNRNPH1227_connections, directed = FALSE) # Use directed = TRUE for directed graphs\n",
    "#svg(\"/grehawi/splice-reg-prj/Figures/cases_network_HubIR_HNRNPH1227.svg\", width = 10, height = 10)\n",
    "#plot(cases_network_HNRNPH1227, vertex.color= '#E7872B', edge.width = 1.6)\n",
    "#dev.off()\n",
    "#controls\n",
    "controls_network_HNRNPH1227 <- graph_from_data_frame(controls_network_HNRNPH1227_connections, directed = FALSE)\n",
    "#svg(\"/grehawi/splice-reg-prj/Figures/controls_network_HubIR_HNRNPH1227.svg\", width = 10, height = 10)\n",
    "#plot(controls_network_HNRNPH1227, vertex.color= '#E7872B', edge.width = 1.6)\n",
    "#dev.off()"
   ]
  },
  {
   "cell_type": "code",
   "execution_count": null,
   "id": "d4f408fb-b203-4cb0-97c6-8cdbf9c915c1",
   "metadata": {},
   "outputs": [],
   "source": [
    "cases_network_unthrsh_HNRNPH1227_connections = annotated.filtered.cases.withNames.singleE[annotated.filtered.cases.withNames.singleE$node1== 'HNRNPH1-227' | annotated.filtered.cases.withNames.singleE$node2== 'HNRNPH1-227', ]\n",
    "controls_network_unthrsh_HNRNPH1227_connections = annotated.filtered.controls.withNames.singleE[annotated.filtered.controls.withNames.singleE$node1== 'HNRNPH1-227' | annotated.filtered.controls.withNames.singleE$node2== 'HNRNPH1-227', ]\n",
    "options(repr.plot.width=10, repr.plot.height=9)\n",
    "par(mfrow=c(1,2))\n",
    "#cases\n",
    "cases_network_unthrsh_HNRNPH1227 <- graph_from_data_frame(cases_network_unthrsh_HNRNPH1227_connections, directed = FALSE) # Use directed = TRUE for directed graphs\n",
    "#svg(\"/grehawi/splice-reg-prj/Figures/cases_network_unthrsh_HubIR_HNRNPH1227.svg\", width = 10, height = 10)\n",
    "#plot(cases_network_unthrsh_HNRNPH1227, vertex.color= '#E7872B', edge.width = 1.6)\n",
    "#dev.off()\n",
    "#controls\n",
    "controls_network_unthrsh_HNRNPH1227 <- graph_from_data_frame(controls_network_unthrsh_HNRNPH1227_connections, directed = FALSE)\n",
    "#svg(\"/grehawi/splice-reg-prj/Figures/controls_network_unthrsh_HubIR_HNRNPH1227.svg\", width = 10, height = 10)\n",
    "#plot(controls_network_unthrsh_HNRNPH1227, vertex.color= '#E7872B', edge.width = 1.6)\n",
    "#dev.off()"
   ]
  },
  {
   "cell_type": "code",
   "execution_count": null,
   "id": "cf780e70-c7c0-4568-9472-777f1acbe5fa",
   "metadata": {},
   "outputs": [],
   "source": [
    "cases_network_unthrsh_HNRNPH1 = annotated.filtered.cases.withNames.singleE[annotated.filtered.cases.withNames.singleE$node1== 'HNRNPH1' | annotated.filtered.cases.withNames.singleE$node2== 'HNRNPH1', ]\n",
    "controls_network_unthrsh_HNRNPH1 = annotated.filtered.controls.withNames.singleE[annotated.filtered.controls.withNames.singleE$node1== 'HNRNPH1' | annotated.filtered.controls.withNames.singleE$node2== 'HNRNPH1', ]\n",
    "options(repr.plot.width=10, repr.plot.height=9)\n",
    "par(mfrow=c(1,2))\n",
    "#cases\n",
    "cases_network_unthrsh_HNRNPH1 <- graph_from_data_frame(cases_network_unthrsh_HNRNPH1, directed = FALSE) # Use directed = TRUE for directed graphs\n",
    "#svg(\"/grehawi/splice-reg-prj/Figures/cases_network_unthrsh_HubIR_HNRNPH1.svg\", width = 10, height = 10)\n",
    "#plot(cases_network_unthrsh_HNRNPH1, vertex.color= '#E7872B', edge.width = 1.6)\n",
    "#dev.off()\n",
    "#controls\n",
    "controls_network_unthrsh_HNRNPH1 <- graph_from_data_frame(controls_network_unthrsh_HNRNPH1, directed = FALSE)\n",
    "#svg(\"/grehawi/splice-reg-prj/Figures/controls_network_unthrsh_HubIR_HNRNPH1.svg\", width = 10, height = 10)\n",
    "#plot(controls_network_unthrsh_HNRNPH1, vertex.color= '#E7872B', edge.width = 1.6)\n",
    "#dev.off()\n"
   ]
  },
  {
   "cell_type": "code",
   "execution_count": null,
   "id": "eb0a9e9a-50ba-45ab-bf62-df5e429f5dad",
   "metadata": {},
   "outputs": [],
   "source": [
    "cases_network_HNRNPH1_connections = cases.annotated.filtered.single.edges.thr[cases.annotated.filtered.single.edges.thr$node1== 'HNRNPH1' | cases.annotated.filtered.single.edges.thr$node2== 'HNRNPH1', ]\n",
    "controls_network_HNRNPH1_connections = controls.annotated.filtered.single.edges.thr[controls.annotated.filtered.single.edges.thr$node1== 'HNRNPH1' | controls.annotated.filtered.single.edges.thr$node2== 'HNRNPH1', ]\n",
    "options(repr.plot.width=10, repr.plot.height=9)\n",
    "par(mfrow=c(1,2))\n",
    "#cases\n",
    "cases_network_HNRNPH1 <- graph_from_data_frame(cases_network_HNRNPH1_connections, directed = FALSE) # Use directed = TRUE for directed graphs\n",
    "#svg(\"/grehawi/splice-reg-prj/Figures/cases_network_HubIR_HNRNPH1.svg\", width = 10, height = 10)\n",
    "#plot(cases_network_HNRNPH1, vertex.color= '#E7872B', edge.width = 1.6)\n",
    "#dev.off()\n",
    "#controls\n",
    "controls_network_HNRNPH1 <- graph_from_data_frame(controls_network_HNRNPH1_connections, directed = FALSE)\n",
    "#svg(\"/grehawi/splice-reg-prj/Figures/controls_network_HubIR_HNRNPH1.svg\", width = 10, height = 10)\n",
    "#plot(controls_network_HNRNPH1, vertex.color= '#E7872B', edge.width = 1.6)\n",
    "#dev.off()"
   ]
  },
  {
   "cell_type": "code",
   "execution_count": null,
   "id": "5b834072-dc07-4576-bcb3-b430af96b00f",
   "metadata": {},
   "outputs": [],
   "source": [
    "#annotate the neighbors of the nodes of interest\n",
    "HNRNPH1_neighbors_cases = c(cases_network_HNRNPH1_connections$node1, cases_network_HNRNPH1_connections$node2)\n",
    "\n",
    "intersect(HNRNPH1_neighbors_cases, hubs.with.at.least.degree.10.cases)\n",
    "#intersect(HNRNPH1_neighbors_cases, all_disreg_genes_trx) -->None\n",
    "intersect(HNRNPH1_neighbors_cases, tf.gene.links$Name.TF)\n",
    "intersect(HNRNPH1_neighbors_cases, all.SF)"
   ]
  },
  {
   "cell_type": "code",
   "execution_count": null,
   "id": "89c44fa9-a382-4ac6-97b4-42e7d36fb212",
   "metadata": {},
   "outputs": [],
   "source": [
    "HNRNPH1_neighbors_controls = c(controls_network_HNRNPH1_connections$node1, controls_network_HNRNPH1_connections$node2)\n",
    "\n",
    "intersect(HNRNPH1_neighbors_controls, hubs.with.at.least.degree.10.controls)\n",
    "#intersect(HNRNPH1_neighbors_controls, all_disreg_genes_trx) -->NONE\n",
    "intersect(HNRNPH1_neighbors_controls, tf.gene.links$Name.TF)\n",
    "intersect(HNRNPH1_neighbors_controls, all.SF)"
   ]
  },
  {
   "cell_type": "code",
   "execution_count": null,
   "id": "d3a04bcf-3cb0-4366-b576-53c783a92eaa",
   "metadata": {},
   "outputs": [],
   "source": [
    "HNRNPH1227_neighbors_cases = c(cases_network_HNRNPH1227_connections$node1, cases_network_HNRNPH1227_connections$node2)\n",
    "HNRNPH1227_neighbors_cases_genes = remove_after_dash(HNRNPH1227_neighbors_cases)\n",
    "\n",
    "intersect(HNRNPH1227_neighbors_cases, hubs.with.at.least.degree.10.cases)\n",
    "#intersect(HNRNPH1227_neighbors_cases, all_disreg_genes_trx) -->NONE\n",
    "intersect(HNRNPH1227_neighbors_cases_genes, tf.gene.links$Name.TF)\n",
    "intersect(HNRNPH1227_neighbors_cases_genes, all.SF)"
   ]
  },
  {
   "cell_type": "code",
   "execution_count": null,
   "id": "0410b49d-0a54-41b8-a047-f373f6d4e7a4",
   "metadata": {},
   "outputs": [],
   "source": [
    "HNRNPH1227_neighbors_controls = c(controls_network_HNRNPH1227_connections$node1, controls_network_HNRNPH1227_connections$node2)\n",
    "HNRNPH1227_neighbors_controls_genes = remove_after_dash(HNRNPH1227_neighbors_controls)\n",
    "\n",
    "intersect(HNRNPH1227_neighbors_controls, hubs.with.at.least.degree.10.controls)\n",
    "intersect(HNRNPH1227_neighbors_controls, all_disreg_genes_trx)\n",
    "intersect(HNRNPH1227_neighbors_controls_genes, tf.gene.links$Name.TF)\n",
    "intersect(HNRNPH1227_neighbors_controls_genes, all.SF)"
   ]
  },
  {
   "cell_type": "markdown",
   "id": "9f2a836c-955d-4ee5-8578-3eaefc662bf3",
   "metadata": {},
   "source": [
    "#### Check if isoform-level (IR nodes) of the genes capture more known protein-protein interactions"
   ]
  },
  {
   "cell_type": "code",
   "execution_count": null,
   "id": "e82634b7-faf4-4115-af88-9fb2fee8b5c9",
   "metadata": {},
   "outputs": [],
   "source": [
    "biogrid = fread(\"/grehawi/splice-reg-prj/new-data/BIOGRID-ALL-4.4.237.tab.txt\", sep = '\\t', header=TRUE)\n",
    "biogrid = biogrid[biogrid$ORGANISM_A_ID == '9606' & biogrid$ORGANISM_A_ID == '9606', ]\n",
    "# homosapien ID = 9606\n",
    "head(biogrid)\n",
    "dim(biogrid)"
   ]
  },
  {
   "cell_type": "code",
   "execution_count": null,
   "id": "0d8b5c8a-256b-49ed-901d-3e1e129d0fcd",
   "metadata": {},
   "outputs": [],
   "source": [
    "#neighbors of gene node of the SF HNRNPH1\n",
    "HNRNPH1_neighbors_cases = HNRNPH1_neighbors_cases[ !HNRNPH1_neighbors_cases == 'HNRNPH1']\n",
    "HNRNPH1_neighbors_controls = HNRNPH1_neighbors_controls[ !HNRNPH1_neighbors_controls == 'HNRNPH1']\n",
    "\n",
    "#neighbors of IR node of the SF HNRNPH1-227\n",
    "HNRNPH1227_neighbors_cases = remove_after_dash(HNRNPH1227_neighbors_cases[ !HNRNPH1227_neighbors_cases == 'HNRNPH1-227'])\n",
    "HNRNPH1227_neighbors_controls = remove_after_dash(HNRNPH1227_neighbors_controls[ !HNRNPH1227_neighbors_controls == 'HNRNPH1-227'])"
   ]
  },
  {
   "cell_type": "code",
   "execution_count": null,
   "id": "5ba4f9c4-4d16-466f-8a06-9f4495b71b83",
   "metadata": {},
   "outputs": [],
   "source": [
    "# which capture more interactions\n",
    "HNRNPH1_interactions = biogrid[biogrid$OFFICIAL_SYMBOL_A == 'HNRNPH1']$OFFICIAL_SYMBOL_B\n",
    "\n",
    "# interactions captured by the gene node HNRNPH1 in the cases network\n",
    "HNRNPH1_interactions_captured_cases = intersect(HNRNPH1_neighbors_cases, HNRNPH1_interactions)\n",
    "# interactions captured by the IR node HNRNPH1_227 in the cases network\n",
    "HNRNPH1227_interactions_captured_cases = intersect(HNRNPH1227_neighbors_cases, HNRNPH1_interactions) \n",
    "\n",
    "# interactions captured by the gene node HNRNPH1 in the controls network\n",
    "HNRNPH1_interactions_captured_controls = intersect(HNRNPH1_neighbors_controls, HNRNPH1_interactions)\n",
    "# interactions captured by the IR node HNRNPH1_227 in the controls network\n",
    "HNRNPH1227_interactions_captured_controls = intersect(HNRNPH1227_neighbors_controls, HNRNPH1_interactions)"
   ]
  },
  {
   "cell_type": "code",
   "execution_count": null,
   "id": "e0b987a5-51a0-42f9-a11b-96919a369b77",
   "metadata": {},
   "outputs": [],
   "source": [
    "HNRNPH1_interactions_captured_cases\n",
    "HNRNPH1227_interactions_captured_cases"
   ]
  },
  {
   "cell_type": "code",
   "execution_count": null,
   "id": "52b8f026-7d53-479e-b261-f014b69235e7",
   "metadata": {},
   "outputs": [],
   "source": [
    "HNRNPH1_interactions_captured_controls\n",
    "HNRNPH1227_interactions_captured_controls"
   ]
  },
  {
   "cell_type": "code",
   "execution_count": null,
   "id": "5a44bbc1-23ff-43bd-a96b-174b79dbe961",
   "metadata": {},
   "outputs": [],
   "source": [
    "# Upsetplot for intersections of interactors between HNRNPH1_227 and HNRNPH1 in both cases and controls networks\n",
    "listInput <- list(HNRNPH1 = HNRNPH1_interactions_captured_cases, HNRNPH1_227=HNRNPH1227_interactions_captured_cases)\n",
    "pdf(\"/grehawi/splice-reg-prj/Figures/upsetplot_HNRNPH1_cases.pdf\", onefile=FALSE)\n",
    "upset(fromList(listInput), order.by = \"freq\", point.size = 4, text.scale=3)\n",
    "dev.off()"
   ]
  },
  {
   "cell_type": "code",
   "execution_count": null,
   "id": "f18e1328-deac-4abc-8e82-cabf984321af",
   "metadata": {},
   "outputs": [],
   "source": [
    "listInput <- list(HNRNPH1 = HNRNPH1_interactions_captured_controls, HNRNPH1_227=HNRNPH1227_interactions_captured_controls)\n",
    "pdf(\"/grehawi/splice-reg-prj/Figures/upsetplot_HNRNPH1_controls.pdf\", onefile=FALSE)\n",
    "upset(fromList(listInput), order.by = \"freq\", point.size = 4, text.scale=3)\n",
    "dev.off()"
   ]
  },
  {
   "cell_type": "markdown",
   "id": "d7fd14ca-3770-47bd-a6a7-4f8157ec5704",
   "metadata": {
    "jp-MarkdownHeadingCollapsed": true
   },
   "source": [
    "### Check nodes with big shift in degree btw cases and controls network\n",
    "\n",
    "Our idea of differential analysis is to test also the unthresholded version of the network to make sure filtering is not responsible for these differential edges, hence for the following differential hub analsysis we consider nodes with at least degree 10 in the cases network but which have significanlty smaller degree in the UNTHRESHOLDED controls network"
   ]
  },
  {
   "cell_type": "code",
   "execution_count": null,
   "id": "7e0317b4-824a-4a10-ade4-16af467c9280",
   "metadata": {},
   "outputs": [],
   "source": [
    "g.controls.unthr = get_igraph_obj(annotated.filtered.controls.withNames.singleE)\n",
    "g.controls.degrees.unthr = get_degree(g.controls.unthr)\n",
    "\n",
    "g.cases.unthr = get_igraph_obj(annotated.filtered.cases.withNames.singleE)\n",
    "g.cases.degrees.unthr = get_degree(g.cases.unthr)"
   ]
  },
  {
   "cell_type": "code",
   "execution_count": null,
   "id": "2e6917f1-8ecc-4c61-b4ac-994976f96f3a",
   "metadata": {
    "scrolled": true
   },
   "outputs": [],
   "source": [
    "#node with dg >= 10 in the cases network 'hubs.with.at.least.degree.10.cases'\n",
    "#which of them have substantially reduced dg in the Unthresholded controls network (smaller than half)\n",
    "merged_networks_degrees_casesthr_controlsUnth = merge(g.cases.degrees[g.cases.degrees$node %in% hubs.with.at.least.degree.10.cases, ], g.controls.degrees.unthr, by = \"node\")\n",
    "master_hubs_cases = merged_networks_degrees_casesthr_controlsUnth[merged_networks_degrees_casesthr_controlsUnth$degree.y <= 0.5*(merged_networks_degrees_casesthr_controlsUnth$degree.x), ]\n",
    "head(master_hubs_cases)\n",
    "dim(master_hubs_cases)"
   ]
  },
  {
   "cell_type": "code",
   "execution_count": null,
   "id": "7b9bfbd3-f42a-4487-8cb0-30cedfd49643",
   "metadata": {},
   "outputs": [],
   "source": [
    "#node with dg >= 10 in the controls network 'hubs.with.at.least.degree.10.controls'\n",
    "#which of them have substantially reduced dg in the Unthresholded cases network\n",
    "merged_networks_degrees_controlsthr_casesUnth = merge(g.controls.degrees[g.controls.degrees$node %in% hubs.with.at.least.degree.10.controls, ], g.cases.degrees.unthr, by = \"node\")\n",
    "master_hubs_controls = merged_networks_degrees_controlsthr_casesUnth[merged_networks_degrees_controlsthr_casesUnth$degree.y <= 0.5*(merged_networks_degrees_controlsthr_casesUnth$degree.x), ]\n",
    "head(master_hubs_controls)\n",
    "dim(master_hubs_controls)"
   ]
  },
  {
   "cell_type": "code",
   "execution_count": null,
   "id": "fc508a99-34c6-439f-87d3-cd11cc8b018a",
   "metadata": {},
   "outputs": [],
   "source": [
    "# how many of these differential hubs are also differentially expressed/ TFs /SFs\n",
    "intersect_masterHubsCases_disreg = intersect(master_hubs_cases$node, all_disreg_genes_trx)\n",
    "intersect_masterHubsCases_disreg\n",
    "names_of_master_nodes = remove_after_dash(master_hubs_cases$node)\n",
    "intersect(names_of_master_nodes, tf.gene.links$Name.TF)\n",
    "intersect(names_of_master_nodes, all.SF)"
   ]
  },
  {
   "cell_type": "code",
   "execution_count": null,
   "id": "f7fb3613-f5f4-4113-be36-be80c776a478",
   "metadata": {},
   "outputs": [],
   "source": [
    "master_hubs_cases$node"
   ]
  },
  {
   "cell_type": "code",
   "execution_count": null,
   "id": "42265c1e-3d98-45bd-b5be-5bf1f82b62dd",
   "metadata": {},
   "outputs": [],
   "source": [
    "#how many IR node in tge list of master hubs in the cases network\n",
    "length(intersect(master_hubs_cases$node, tx.ids.names$name))"
   ]
  },
  {
   "cell_type": "code",
   "execution_count": null,
   "id": "0e6cd914-419f-4b53-af2f-a01a9de933f7",
   "metadata": {
    "scrolled": true
   },
   "outputs": [],
   "source": [
    "master_nodes_cases_df = data.frame(c(rep(\"AIN\" , times=length(master_hubs_cases$node)),\n",
    "                                      rep(\"UIN\" , times=length(master_hubs_cases$node))),\n",
    "                                        c(master_hubs_cases$node, master_hubs_cases$node),\n",
    "                                        c(master_hubs_cases$degree.x, master_hubs_cases$degree.y))\n",
    "names(master_nodes_cases_df) = c('Network', 'node', 'degree')\n",
    "# highlight dusregulated nodes with *\n",
    "# highlight TF nodes with ~\n",
    "# highlight SF nodes with ^\n",
    "condition = master_nodes_cases_df$node %in% intersect_masterHubsCases_disreg\n",
    "master_nodes_cases_df$node[condition] = paste('*', master_nodes_cases_df$node[condition])\n",
    "master_nodes_cases_df$node[master_nodes_cases_df$node == 'CCNT2-208'] = '~CCNT2-208'\n",
    "master_nodes_cases_df$node[master_nodes_cases_df$node == 'CREBL2-201'] = '~CREBL2-201'\n",
    "master_nodes_cases_df$node[master_nodes_cases_df$node == 'SATB1-201'] = '~SATB1-201'\n",
    "master_nodes_cases_df$node[master_nodes_cases_df$node == 'ZNF292-203'] = '~ZNF292-203'\n",
    "master_nodes_cases_df$node[master_nodes_cases_df$node == 'HMGB1-201'] = '~HMGB1-201'\n",
    "master_nodes_cases_df$node[master_nodes_cases_df$node == 'CHD2'] = '~CHD2'\n",
    "master_nodes_cases_df$node[master_nodes_cases_df$node == 'AFF4-203'] = '~AFF4-203'\n",
    "\n",
    "master_nodes_cases_df$node[master_nodes_cases_df$node == 'CRNKL1-207'] = '^CRNKL1-207'\n",
    "master_nodes_cases_df$node[master_nodes_cases_df$node == 'DDX39B-219'] = '^DDX39B-219'\n",
    "master_nodes_cases_df$node[master_nodes_cases_df$node == '* NUDT21-201'] = '^* NUDT21-201'\n",
    "master_nodes_cases_df$node[master_nodes_cases_df$node == 'SRRM2-201'] = '^SRRM2-201'\n",
    "master_nodes_cases_df$node[master_nodes_cases_df$node == 'SRSF6-201'] = '^SRSF6-201'\n",
    "master_nodes_cases_df$node[master_nodes_cases_df$node == 'ZC3HAV1-204'] = '^ZC3HAV1-204'\n",
    "\n",
    "head(master_nodes_cases_df)\n",
    "dim(master_nodes_cases_df)"
   ]
  },
  {
   "cell_type": "code",
   "execution_count": null,
   "id": "68192dab-c1a7-48dd-87c4-0b8679493756",
   "metadata": {},
   "outputs": [],
   "source": [
    "options(repr.plot.width=49, repr.plot.height=4)\n",
    "heatmap_matrix <- reshape2::acast(master_nodes_cases_df, Network ~ node, value.var = 'degree')\n",
    "# Create the heatmap\n",
    "heatmap = pheatmap(heatmap_matrix,\n",
    "         cluster_rows = FALSE,    # Keep rows in the order 'Gene' and 'Transcript'\n",
    "         cluster_cols = FALSE,    # Do not cluster columns if you want them ordered as in data\n",
    "         main = NA, legend_breaks = c(10, 20, 30, 31), legend_labels = c(\"10\", \"20\", \"30\", \"Degree\\n\"),\n",
    "         cellwidth = 40, cellhight = 40, fontsize = 32, angle_col = \"45\")\n",
    "heatmap"
   ]
  },
  {
   "cell_type": "code",
   "execution_count": null,
   "id": "8be997da-067b-4ba3-990e-3fda6b8eaec4",
   "metadata": {},
   "outputs": [],
   "source": [
    "ggsave(\"/grehawi/splice-reg-prj/Figures/pheatmap_master_nodes_cases.pdf\", plot = heatmap, width = 47, height = 6)"
   ]
  },
  {
   "cell_type": "code",
   "execution_count": null,
   "id": "01b0c58e-a4a8-4d6e-b6d1-66f8c018a360",
   "metadata": {},
   "outputs": [],
   "source": [
    "# intersection with Zeng et al (https://www.frontiersin.org/journals/genetics/articles/10.3389/fgene.2019.00703/full#supplementary-material)\n",
    "genes_Gandal_etal = read.table('/grehawi/splice-reg-prj/new-data/ARACNE/genes_Gandal_etal.txt', header =TRUE)\n",
    "dim(genes_Gandal_etal)\n",
    "# intersection with master hubs in the cases network\n",
    "intersect(genes_Gandal_etal$Genes, hubs_cases_unique)\n",
    "intersect(genes_Gandal_etal$Genes, names_of_master_nodes)"
   ]
  },
  {
   "cell_type": "code",
   "execution_count": null,
   "id": "914ea522-371d-4a39-9a87-551e9250554a",
   "metadata": {
    "scrolled": true
   },
   "outputs": [],
   "source": [
    "wittenberg_down_genes = read.table('/grehawi/splice-reg-prj/new-data/Diff-Analysis/genes_down_MDD_wittenberg_etal.txt', header=TRUE)\n",
    "head(wittenberg_down_genes)\n",
    "dim(wittenberg_down_genes)\n",
    "\n",
    "wittenberg_up_genes = read.table('/grehawi/splice-reg-prj/new-data/Diff-Analysis/genes_up_MDD_wittenberg_etal.txt', header=TRUE)\n",
    "head(wittenberg_up_genes)\n",
    "dim(wittenberg_up_genes)\n",
    "\n",
    "intersect(wittenberg_up_genes$Genes, names_of_master_nodes)\n",
    "intersect(wittenberg_down_genes$Genes, names_of_master_nodes)"
   ]
  },
  {
   "cell_type": "code",
   "execution_count": null,
   "id": "4baee7c2-d890-424e-b9f7-348f4116f295",
   "metadata": {
    "scrolled": true
   },
   "outputs": [],
   "source": [
    "cases.annotated.filtered.single.edges.thr[cases.annotated.filtered.single.edges.thr$node1== 'DOCK5' | cases.annotated.filtered.single.edges.thr$node2== 'DOCK5', ]\n",
    "controls.annotated.filtered.single.edges.thr[controls.annotated.filtered.single.edges.thr$node1== 'DOCK5' | controls.annotated.filtered.single.edges.thr$node2== 'DOCK5', ]"
   ]
  },
  {
   "cell_type": "markdown",
   "id": "52e2eaa7-047d-46d2-a031-5d69a20cc6ce",
   "metadata": {
    "jp-MarkdownHeadingCollapsed": true
   },
   "source": [
    "### Cluster profiler enrichment in Go-terms of the master hub nodes in both networks (61 each) and their first-order neighbors"
   ]
  },
  {
   "cell_type": "code",
   "execution_count": null,
   "id": "f0876faf-104a-454d-a0d1-d749c8aa4496",
   "metadata": {},
   "outputs": [],
   "source": [
    "neighborhood_cases_master_nodes =c()\n",
    "neighborhood_controls_master_nodes =c()\n",
    "\n",
    "# Define the node of interest\n",
    "\n",
    "for (node in master_hubs_cases$node){\n",
    "    # Define the node of interest\n",
    "    node_of_interest <- node\n",
    "\n",
    "    # Get the neighborhood of the node with order 1\n",
    "    neighborhood_nodes_cases <- neighborhood(g.cases, order = 1, nodes = node_of_interest)[[1]]\n",
    "\n",
    "    # Induce the subgraph from the neighborhood nodes\n",
    "    subgraph_cases <- induced_subgraph(g.cases, vids = neighborhood_nodes_cases)\n",
    "    neighborhood_cases_master_nodes = c(neighborhood_cases_master_nodes, V(subgraph_cases)$name)\n",
    "}\n",
    "\n",
    "for (node in master_hubs_controls$node){\n",
    "    # Define the node of interest\n",
    "    node_of_interest <- node\n",
    "\n",
    "    # Get the neighborhood of the node with order 1\n",
    "    neighborhood_nodes_controls <- neighborhood(g.controls, order = 1, nodes = node_of_interest)[[1]]\n",
    "\n",
    "    # Induce the subgraph from the neighborhood nodes\n",
    "    subgraph_controls <- induced_subgraph(g.controls, vids = neighborhood_nodes_controls)\n",
    "    neighborhood_controls_master_nodes = c(neighborhood_controls_master_nodes, V(subgraph_controls)$name)\n",
    "}"
   ]
  },
  {
   "cell_type": "code",
   "execution_count": null,
   "id": "39014799-7826-453d-8ee9-acec4b001ad4",
   "metadata": {},
   "outputs": [],
   "source": [
    "# create dataframe for the neighborhood nodes of both the cases and controls networks\n",
    "controls_master_nodes_neighborhood_df = data.frame(neighborhood_controls_master_nodes)\n",
    "colnames(controls_master_nodes_neighborhood_df) = c('gene_name')\n",
    "# some neighbors are transcripts --> get their corresponding gene names\n",
    "controls_master_nodes_neighborhood_df <- controls_master_nodes_neighborhood_df %>%\n",
    "  mutate(gene_name = if_else(controls_master_nodes_neighborhood_df$gene_name %in% tx.ids.names$name, remove_after_dash(gene_name), gene_name))\n",
    "\n",
    "cases_master_nodes_neighborhood_df = data.frame(neighborhood_cases_master_nodes)\n",
    "colnames(cases_master_nodes_neighborhood_df) = c('gene_name')\n",
    "# some neighbors are transcripts --> get their corresponding gene names\n",
    "cases_master_nodes_neighborhood_df <- cases_master_nodes_neighborhood_df %>%\n",
    "  mutate(gene_name = if_else(cases_master_nodes_neighborhood_df$gene_name %in% tx.ids.names$name, remove_after_dash(gene_name), gene_name))\n",
    "                                                    "
   ]
  },
  {
   "cell_type": "code",
   "execution_count": null,
   "id": "dfd7b2a5-2608-48aa-bdb7-3ccee1fbe429",
   "metadata": {},
   "outputs": [],
   "source": [
    "dim(controls_master_nodes_neighborhood_df)\n",
    "dim(cases_master_nodes_neighborhood_df)"
   ]
  },
  {
   "cell_type": "code",
   "execution_count": null,
   "id": "2c512076-ad77-4dda-9a71-f42f1bfd5521",
   "metadata": {},
   "outputs": [],
   "source": [
    "gene_set1 = cases_master_nodes_neighborhood_df$gene_name\n",
    "gene_set2 = controls_master_nodes_neighborhood_df$gene_name\n",
    "\n",
    "# Enrichment analysis for Gene Ontology Biological Process (BP) for all sets\n",
    "go_enrichment_1 = enrichGO(gene = gene_set1, \n",
    "                            OrgDb = org.Hs.eg.db, \n",
    "                            keyType = \"SYMBOL\", \n",
    "                            ont = \"BP\",\n",
    "                            universe = genes.ids.names$gene_name, \n",
    "                            pAdjustMethod = \"BH\",\n",
    "                            pvalueCutoff = 0.7,\n",
    "                            qvalueCutoff = 0.7)\n",
    "\n",
    "go_enrichment_2 = enrichGO(gene = gene_set2, \n",
    "                            OrgDb = org.Hs.eg.db, \n",
    "                            keyType = \"SYMBOL\", \n",
    "                            ont = \"BP\", \n",
    "                            universe = genes.ids.names$gene_name,\n",
    "                            pAdjustMethod = \"BH\",\n",
    "                            pvalueCutoff = 0.7,\n",
    "                            qvalueCutoff = 0.7)"
   ]
  },
  {
   "cell_type": "code",
   "execution_count": null,
   "id": "e3798d08-2db8-4858-80d9-f1a6a87207b5",
   "metadata": {
    "scrolled": true
   },
   "outputs": [],
   "source": [
    "go_enrichment_1"
   ]
  },
  {
   "cell_type": "code",
   "execution_count": null,
   "id": "ca2ffd89-65c9-46d7-887c-ff2cabd24414",
   "metadata": {
    "scrolled": true
   },
   "outputs": [],
   "source": [
    "go_enrichment_2"
   ]
  },
  {
   "cell_type": "code",
   "execution_count": null,
   "id": "6d1f2ef6-8759-4419-a96e-fa38c56ff623",
   "metadata": {},
   "outputs": [],
   "source": [
    "#Cluster similar GO terms: To reduce redundancy and cluster similar GO terms, use the simplify() function from the clusterProfiler package.\n",
    "#This will merge similar terms based on semantic similarity.\n",
    "#when specifying pvalueCutoff and qvalueCutoff =1 this takes so long to calculate\n",
    "go_enrichment_1 = simplify(go_enrichment_1, cutoff=0.7, by=\"p.adjust\", select_fun=min)\n",
    "go_enrichment_2 = simplify(go_enrichment_2, cutoff=0.7, by=\"p.adjust\", select_fun=min)"
   ]
  },
  {
   "cell_type": "code",
   "execution_count": null,
   "id": "a227e01a-2a47-4a44-85bd-05851b3aa9af",
   "metadata": {},
   "outputs": [],
   "source": [
    "# Create a dotplot\n",
    "options(repr.plot.width=16, repr.plot.height=18)\n",
    "\n",
    "# take top 10 most sign Go-terms for each set\n",
    "go_df_1 = as.data.frame(go_enrichment_1)\n",
    "go_df_2 = as.data.frame(go_enrichment_2)\n",
    "# Add a column to differentiate the two sets\n",
    "go_df_1$set = \"Master Hubs Neighbours-AIN\"\n",
    "go_df_2$set = \"Master Hubs Neighbours-UIN\"\n",
    "\n",
    "go_df_1_sub = go_df_1[order(go_df_1$p.adjust, decreasing = FALSE),][1:10,]\n",
    "go_df_2_sub = go_df_2[order(go_df_2$p.adjust, decreasing = FALSE),][1:10,]\n",
    "\n",
    "combined_go_df_sub = rbind(go_df_1_sub, go_df_2_sub)\n",
    "\n",
    "# Get p-values for the rest of the sets for each go-term in the combined_df\n",
    "combined_go_df_sub_go_ids = combined_go_df_sub$ID\n",
    "go_df_1_sub_extended = go_df_1[go_df_1$ID %in% combined_go_df_sub_go_ids, ]\n",
    "go_df_2_sub_extended = go_df_2[go_df_2$ID %in% combined_go_df_sub_go_ids, ]\n",
    "\n",
    "combined_go_df_sub_extended = rbind(go_df_1_sub_extended, go_df_2_sub_extended)\n",
    "\n",
    "ggplot(combined_go_df_sub_extended, aes(x = set, y = Description, size = RichFactor, color = 0 - log10(p.adjust))) +\n",
    "  geom_point() +\n",
    "  scale_color_gradient(low = \"blue\", high = \"red\") +\n",
    "  theme_minimal() +\n",
    "  labs(title = \"GO Enrichment for Gene Sets\", \n",
    "       x = \"Gene Set\", \n",
    "       y = \"GO Term\",\n",
    "       size = \"Rich Factor\", \n",
    "       color = \"-log10 Adjusted p-value\") +\n",
    "    theme(axis.text= element_text(size = 18), axis.title.x = element_text(size = 22),\n",
    "                                                         axis.title.y = element_text(size = 22),\n",
    "                                                         axis.text.x = element_text(angle = 45, hjust = 1),\n",
    "                                                         legend.text=element_text(size=20),\n",
    "                                                         legend.title=element_text(size=22))\n"
   ]
  },
  {
   "cell_type": "code",
   "execution_count": null,
   "id": "678f0fa4-ef3d-47aa-8404-4a7273ca744a",
   "metadata": {},
   "outputs": [],
   "source": [
    "ggsave(\"/grehawi/splice-reg-prj/Figures/dotplot_go_enrch_masterHubs_all.pdf\", width = 18, height = 18)"
   ]
  },
  {
   "cell_type": "code",
   "execution_count": null,
   "id": "84d9b11b-8320-471b-8e6c-410ab2e205c1",
   "metadata": {},
   "outputs": [],
   "source": [
    "write.table(rbind(go_df_1, go_df_2), \"/grehawi/splice-reg-prj/new-data/ARACNE/supp_table_GO_all_master_hubs.csv\", row.names = FALSE)"
   ]
  },
  {
   "cell_type": "markdown",
   "id": "11a9a105-a6ee-4b3d-a445-f0764c4959a9",
   "metadata": {
    "jp-MarkdownHeadingCollapsed": true
   },
   "source": [
    "### MAGMA analysis of the top 2 master nodes in each network and their 2-hops neighbors"
   ]
  },
  {
   "cell_type": "code",
   "execution_count": null,
   "id": "0e922140-fe68-49b6-8637-9345f74d8726",
   "metadata": {},
   "outputs": [],
   "source": [
    "# pick one or two master hubs in each network with the highest shift in degree foor MAGMA analysis around their neigh..\n",
    "master_hubs_cases[master_hubs_cases$degree.x == max(master_hubs_cases$degree.x), ]\n",
    "master_hubs_controls[master_hubs_controls$degree.x == max(master_hubs_controls$degree.x), ]"
   ]
  },
  {
   "cell_type": "code",
   "execution_count": null,
   "id": "0e1a0474-54d1-4b9b-8f95-af6f2dc7d17f",
   "metadata": {},
   "outputs": [],
   "source": [
    "second_largest_master_cases <- master_hubs_cases[order(master_hubs_cases$degree.x, decreasing = TRUE)][2]\n",
    "second_largest_master_cases\n",
    "second_largest_master_controls <- master_hubs_controls[order(master_hubs_controls$degree.x, decreasing = TRUE)][2]\n",
    "second_largest_master_controls"
   ]
  },
  {
   "cell_type": "code",
   "execution_count": null,
   "id": "b70d17da-c08d-429d-ac31-3bae27061c01",
   "metadata": {},
   "outputs": [],
   "source": [
    "tx.ids.names[tx.ids.names$name %in% c(\"RC3H1-202\", \"SRSF6-201\", \"SYNCRIP-202\"), ]"
   ]
  },
  {
   "cell_type": "code",
   "execution_count": null,
   "id": "3f5c9201-bf48-4249-9066-d7b9780a2dbf",
   "metadata": {},
   "outputs": [],
   "source": [
    "neighborhood_cases =c()\n",
    "neighborhood_controls =c()\n",
    "\n",
    "# Define the node of interest\n",
    "\n",
    "for (node in c(\"RC3H1-202\", \"SRSF6-201\")){\n",
    "    # Define the node of interest\n",
    "    node_of_interest <- node\n",
    "\n",
    "    # Get the neighborhood of the node with order 2\n",
    "    neighborhood_nodes_cases <- neighborhood(g.cases, order = 2, nodes = node_of_interest)[[1]]\n",
    "\n",
    "    # Induce the subgraph from the neighborhood nodes\n",
    "    subgraph_cases <- induced_subgraph(g.cases, vids = neighborhood_nodes_cases)\n",
    "    neighborhood_cases = c(neighborhood_cases, V(subgraph_cases)$name)\n",
    "}\n",
    "\n",
    "for (node in c(\"MEGF9\", \"SYNCRIP-202\")){\n",
    "    # Define the node of interest\n",
    "    node_of_interest <- node\n",
    "\n",
    "    # Get the neighborhood of the node with order 2\n",
    "    neighborhood_nodes_controls <- neighborhood(g.controls, order = 2, nodes = node_of_interest)[[1]]\n",
    "\n",
    "    # Induce the subgraph from the neighborhood nodes\n",
    "    subgraph_controls <- induced_subgraph(g.controls, vids = neighborhood_nodes_controls)\n",
    "    neighborhood_controls = c(neighborhood_controls, V(subgraph_controls)$name)\n",
    "}"
   ]
  },
  {
   "cell_type": "code",
   "execution_count": null,
   "id": "bff23222-393a-442d-b183-55fbbe9a2798",
   "metadata": {},
   "outputs": [],
   "source": [
    "length(neighborhood_cases)"
   ]
  },
  {
   "cell_type": "code",
   "execution_count": null,
   "id": "f5b52fc6-b45e-4902-938d-e39c211675cb",
   "metadata": {},
   "outputs": [],
   "source": [
    "length(neighborhood_controls)"
   ]
  },
  {
   "cell_type": "code",
   "execution_count": null,
   "id": "b682ea72-21c2-4d2f-a66d-9a22830c5942",
   "metadata": {},
   "outputs": [],
   "source": [
    "intersect(neighborhood_controls, neighborhood_cases)"
   ]
  },
  {
   "cell_type": "code",
   "execution_count": null,
   "id": "df302fe8-973d-4009-88d3-0bb7cf0361a9",
   "metadata": {},
   "outputs": [],
   "source": [
    "# map name of genes and genes of trx to entrezIDs according to the file NCBI37.3.gene.loc\n",
    "NCBI37_gene_loc = read.table('/grehawi/splice-reg-prj/new-data/MAGMA/NCBI37.3/NCBI37.3.gene.loc')\n",
    "names(NCBI37_gene_loc)[1] <- \"entrez_id\"\n",
    "names(NCBI37_gene_loc)[6] <- \"gene_name\"\n",
    "head(NCBI37_gene_loc)"
   ]
  },
  {
   "cell_type": "code",
   "execution_count": null,
   "id": "f951a16b-f2a2-4ebe-96b7-c980d5182860",
   "metadata": {},
   "outputs": [],
   "source": [
    "# create dataframe for the neighborhood nodes of both the cases and controls networks\n",
    "neighborhood_controls_df = data.frame(neighborhood_controls)\n",
    "colnames(neighborhood_controls_df) = c('gene_name')\n",
    "# some neighbors are transcripts --> get their corresponding gene names\n",
    "neighborhood_controls_df <- neighborhood_controls_df %>%\n",
    "  mutate(gene_name = if_else(neighborhood_controls_df$gene_name %in% tx.ids.names$name, remove_after_dash(gene_name), gene_name))\n",
    "\n",
    "neighborhood_cases_df = data.frame(neighborhood_cases)\n",
    "colnames(neighborhood_cases_df) = c('gene_name')\n",
    "# some neighbors are transcripts --> get their corresponding gene names\n",
    "neighborhood_cases_df <- neighborhood_cases_df %>%\n",
    "  mutate(gene_name = if_else(neighborhood_cases_df$gene_name %in% tx.ids.names$name, remove_after_dash(gene_name), gene_name))\n",
    "                                                    "
   ]
  },
  {
   "cell_type": "code",
   "execution_count": null,
   "id": "b3125401-81dd-47a6-9fcb-40c19a8cf04e",
   "metadata": {},
   "outputs": [],
   "source": [
    "neighborhood_cases_df_tmp = merge(neighborhood_cases_df, NCBI37_gene_loc[, colnames(NCBI37_gene_loc) %in% c('entrez_id', 'gene_name')], by = \"gene_name\", all.x = TRUE)\n",
    "neighborhood_controls_df_tmp = merge(neighborhood_controls_df, NCBI37_gene_loc[, colnames(NCBI37_gene_loc) %in% c('entrez_id', 'gene_name')], by = \"gene_name\", all.x = TRUE)\n",
    "\n",
    "sum(is.na(neighborhood_cases_df_tmp$entrez_id))\n",
    "sum(is.na(neighborhood_controls_df_tmp$entrez_id))\n",
    "\n",
    "# remove rows with NA entries in entrez_id column\n",
    "neighborhood_cases_df_tmp = subset(neighborhood_cases_df_tmp, !is.na(neighborhood_cases_df_tmp$entrez_id))\n",
    "neighborhood_controls_df_tmp = subset(neighborhood_controls_df_tmp, !is.na(neighborhood_controls_df_tmp$entrez_id))\n"
   ]
  },
  {
   "cell_type": "code",
   "execution_count": null,
   "id": "0356454d-3e14-4e5d-90f3-94c394655c0e",
   "metadata": {},
   "outputs": [],
   "source": [
    "dim(neighborhood_cases_df_tmp)"
   ]
  },
  {
   "cell_type": "code",
   "execution_count": null,
   "id": "025f6a04-3a43-4c09-badc-5d5eadb983c2",
   "metadata": {},
   "outputs": [],
   "source": [
    "# create Set_Annot_File for the final step of running MAGMA \n",
    "set_annot_file_networks_neighborhood = data.frame(c(rep('AIN', times=dim(neighborhood_cases_df_tmp)[1]),\n",
    "                                        rep('UIN', times=dim(neighborhood_controls_df_tmp)[1])), \n",
    "                                        c(neighborhood_cases_df_tmp$entrez_id, neighborhood_controls_df_tmp$entrez_id))\n",
    "names(set_annot_file_networks_neighborhood) <- NULL"
   ]
  },
  {
   "cell_type": "code",
   "execution_count": null,
   "id": "f32e27fe-5f97-4a90-953a-7437fdbbe740",
   "metadata": {},
   "outputs": [],
   "source": [
    "write.table(set_annot_file_networks_neighborhood, '/grehawi/splice-reg-prj/new-data/MAGMA/set_annot_file_SuperMasterNode_neighborhood.txt', sep= ' ')\n"
   ]
  },
  {
   "cell_type": "code",
   "execution_count": null,
   "id": "4c5a937d-3e8f-4fc4-ac03-86ca4c34e3a3",
   "metadata": {},
   "outputs": [],
   "source": [
    "# Read MAGMA results\n",
    "\n",
    "options(repr.plot.width=12, repr.plot.height=6)\n",
    "# List of your MAGMA result files\n",
    "files <- list.files(path = \"/grehawi/splice-reg-prj/new-data/MAGMA/output/gene_set_analysis_SuperMasterNode_neighbors_output\", pattern = \"*.gsa.out\", full.names = TRUE)\n",
    "\n",
    "# Initialize an empty list to store data\n",
    "result_list <- list()\n",
    "\n",
    "# Loop over each file to load and process the data\n",
    "for (file in files) {\n",
    "    # Read each MAGMA result file\n",
    "    data <- read.table(file, header = TRUE)\n",
    "    \n",
    "    # Extract gene set name and relevant statistic (e.g., Z-score or p-value)\n",
    "    phenotype <- strsplit(basename(file), split = \"_\")[[1]][1]  # Use filename as phenotype label\n",
    "    result_list[[phenotype]] <- data  # assuming P is the p-value column\n",
    "    result_list[[phenotype]]$TYPE = phenotype\n",
    "    result_list[[phenotype]]$abs_beta = abs(data$BETA)\n",
    "    result_list[[phenotype]]$beta_direction = ifelse(data$BETA >= 0, \"Positive\", \"Negative\")\n",
    "    result_list[[phenotype]]$adjP_val = p.adjust(data$P, method = \"BH\")\n",
    "    result_list[[phenotype]]$`-log10P` = 0 - log10(result_list[[phenotype]]$adjP_val)\n",
    "}\n",
    "\n",
    "# Merge all dataframes in the list by 'VARIABLE'\n",
    "combined_data = do.call(rbind, result_list) \n",
    "\n",
    "pdf(\"/grehawi/splice-reg-prj/Figures/dotplot_MAGMA_top2_MasterHubs.pdf\", width = 18, height = 18)\n",
    "ggplot(combined_data, aes(x = VARIABLE, y = TYPE)) +\n",
    "  geom_point(aes(size = abs_beta, fill = `-log10P`, shape = beta_direction)) +\n",
    "  scale_shape_manual(values = c(\"Negative\" = 25, \"Positive\" = 21)) +\n",
    "  scale_fill_gradient(low = \"blue\", high = \"red\") + xlab(\"\") + ylab(\"\") + scale_x_discrete(labels=c(\"Top 2 Master Hubs Neighbours-AIN\", \"Top 2 Master Hubs Neighbours-UIN\")) +\n",
    "                    theme_bw() + coord_flip() + theme(legend.text=element_text(size=18),\n",
    "                                       axis.text.x = element_text(angle = 45, hjust = 1),\n",
    "                                       legend.title=element_text(size=18), axis.text = element_text(size = 22),\n",
    "                                       axis.title = element_text(size = 22))\n",
    "dev.off()"
   ]
  },
  {
   "cell_type": "code",
   "execution_count": null,
   "id": "5ccf8a1a-d463-471e-849c-4f5b52945d9f",
   "metadata": {
    "scrolled": true
   },
   "outputs": [],
   "source": [
    "write.table(combined_data, '/grehawi/splice-reg-prj/new-data/ARACNE/supp_table_MAGMA_top2_MasterHubs.csv', row.names = FALSE)\n"
   ]
  },
  {
   "cell_type": "code",
   "execution_count": null,
   "id": "8fb0c4b4-972a-4da1-8b4c-b3346e4dbae3",
   "metadata": {},
   "outputs": [],
   "source": [
    "plot_graph = function (node_name, node_type='gene'){\n",
    "    cases_connections = cases.annotated.filtered.single.edges.thr[cases.annotated.filtered.single.edges.thr$node1 %in% node_name | cases.annotated.filtered.single.edges.thr$node2 %in% node_name, ]\n",
    "    controls_connections = controls.annotated.filtered.single.edges.thr[controls.annotated.filtered.single.edges.thr$node1 %in% node_name | controls.annotated.filtered.single.edges.thr$node2 %in% node_name, ]\n",
    "    cases_connections_g <- graph_from_data_frame(cases_connections, directed = FALSE)\n",
    "    controls_connections_g <- graph_from_data_frame(controls_connections, directed = FALSE)\n",
    "    if (node_type == 'gene'){\n",
    "        svg(paste0(\"/grehawi/splice-reg-prj/Figures/cases_\", node_name, \".svg\"), width=16, height=12)\n",
    "        plot(cases_connections_g, vertex.color= '#E7872B', edge.width = 1.6, label.family= 'arial', label.color='black', arrow.width=3)\n",
    "        dev.off()\n",
    "        svg(paste0(\"/grehawi/splice-reg-prj/Figures/controls_\", node_name, \".svg\"), width=16, height=12)\n",
    "        plot(controls_connections_g, vertex.color= '#E7872B', edge.width = 1.6, label.family= 'arial', label.color='black', arrow.width=3)\n",
    "        dev.off()\n",
    "    }\n",
    "    else{\n",
    "        svg(paste0(\"/grehawi/splice-reg-prj/Figures/cases_\", node_name, \".svg\"), width=16, height=12)\n",
    "        plot(cases_connections_g, vertex.color= '#3A68AE', edge.width = 1.6, label.family= 'arial', label.color='black', arrow.width=3)\n",
    "        dev.off()\n",
    "        svg(paste0(\"/splice-reg-prj/Figures/controls_\", node_name, \".svg\"), width=16, height=12)\n",
    "        plot(controls_connections_g, vertex.color= '#3A68AE', edge.width = 1.6, label.family= 'arial', label.color='black', arrow.width=3)\n",
    "        dev.off()\n",
    "    }\n",
    "    \n",
    "    return(list(cases_connections, controls_connections))   \n",
    "}"
   ]
  },
  {
   "cell_type": "code",
   "execution_count": null,
   "id": "204c0538-7a30-49a7-b2b9-86e8124f3c3e",
   "metadata": {},
   "outputs": [],
   "source": [
    "connections_RC3H1202 = plot_graph(\"RC3H1-202\", 'IR')\n",
    "connections_SRSF6201 = plot_graph(\"SRSF6-201\", \"IR\")\n",
    "connections_MEGF9 = plot_graph(\"MEGF9\", 'gene')\n",
    "connections_SYNCRIP202 = plot_graph(\"SYNCRIP-202\", 'IR')"
   ]
  },
  {
   "cell_type": "code",
   "execution_count": null,
   "id": "abbceb57-9090-415e-8b3b-129b55c1d6ab",
   "metadata": {},
   "outputs": [],
   "source": [
    "# highlight important nodes (cases)\n",
    "nodes_of_RC3H1202_cases = c(connections_RC3H1202[[1]]$node1, connections_RC3H1202[[1]]$node2)\n",
    "intersect(nodes_of_RC3H1202_cases, all_disreg_genes_trx)\n",
    "names_of_nodes_RC3H1202_cases = remove_after_dash(nodes_of_RC3H1202_cases)\n",
    "intersect(names_of_nodes_RC3H1202_cases, tf.gene.links$Name.TF)\n",
    "intersect(names_of_nodes_RC3H1202_cases, all.SF)\n",
    "intersect(nodes_of_RC3H1202_cases, hubs.with.at.least.degree.10.cases)"
   ]
  },
  {
   "cell_type": "code",
   "execution_count": null,
   "id": "d9b84411-adb9-4d77-8dc1-dfdc28800e92",
   "metadata": {},
   "outputs": [],
   "source": [
    "# highlight important nodes (controls)\n",
    "nodes_of_RC3H1202_controls = c(connections_RC3H1202[[2]]$node1, connections_RC3H1202[[2]]$node2)\n",
    "intersect(nodes_of_RC3H1202_controls, all_disreg_genes_trx)\n",
    "names_of_nodes_RC3H1202_controls = remove_after_dash(nodes_of_RC3H1202_controls)\n",
    "intersect(names_of_nodes_RC3H1202_controls, tf.gene.links$Name.TF)\n",
    "intersect(names_of_nodes_RC3H1202_controls, all.SF)\n",
    "intersect(nodes_of_RC3H1202_controls, hubs.with.at.least.degree.10.controls)"
   ]
  },
  {
   "cell_type": "code",
   "execution_count": null,
   "id": "b3af44cb-6a80-410d-b752-1379177b9cc8",
   "metadata": {},
   "outputs": [],
   "source": [
    "intersect(nodes_of_RC3H1202_controls, nodes_of_RC3H1202_cases)"
   ]
  },
  {
   "cell_type": "code",
   "execution_count": null,
   "id": "f89addde-88e8-4545-be10-275dee39af19",
   "metadata": {},
   "outputs": [],
   "source": [
    "# highlight important nodes SRSF6-201 cases\n",
    "nodes_of_SRSF6201_cases = c(connections_SRSF6201[[1]]$node1, connections_SRSF6201[[1]]$node2)\n",
    "intersect(nodes_of_SRSF6201_cases, all_disreg_genes_trx)\n",
    "names_of_nodes= remove_after_dash(nodes_of_SRSF6201_cases)\n",
    "intersect(names_of_nodes, tf.gene.links$Name.TF)\n",
    "intersect(names_of_nodes, all.SF)\n",
    "intersect(nodes_of_SRSF6201_cases, hubs.with.at.least.degree.10.cases)"
   ]
  },
  {
   "cell_type": "code",
   "execution_count": null,
   "id": "d481bd33-c95b-4346-80f3-bf9d3ac39956",
   "metadata": {},
   "outputs": [],
   "source": [
    "nodes_of_SRSF6201_controls = c(connections_SRSF6201[[2]]$node1, connections_SRSF6201[[2]]$node2)\n",
    "intersect(nodes_of_SRSF6201_controls, all_disreg_genes_trx)\n",
    "names_of_nodes= remove_after_dash(nodes_of_SRSF6201_controls)\n",
    "#intersect(names_of_nodes, tf.gene.links$Name.TF) -->NONE\n",
    "intersect(names_of_nodes, all.SF)\n",
    "intersect(nodes_of_SRSF6201_controls, hubs.with.at.least.degree.10.controls)"
   ]
  },
  {
   "cell_type": "code",
   "execution_count": null,
   "id": "a7ffc075-fbea-49bd-a95b-998f5c76e41f",
   "metadata": {},
   "outputs": [],
   "source": [
    "intersect(nodes_of_SRSF6201_controls, nodes_of_SRSF6201_cases)"
   ]
  },
  {
   "cell_type": "code",
   "execution_count": null,
   "id": "f6ca6e9b-87ae-4719-abd5-6412885b6423",
   "metadata": {},
   "outputs": [],
   "source": [
    "nodes_of_MEGF9_cases = c(connections_MEGF9[[1]]$node1, connections_MEGF9[[1]]$node2)\n",
    "#intersect(nodes_of_MEGF9_cases, all_disreg_genes_trx) -->NONE\n",
    "names_of_nodes= remove_after_dash(nodes_of_MEGF9_cases)\n",
    "intersect(names_of_nodes, tf.gene.links$Name.TF)\n",
    "#intersect(names_of_nodes, all.SF) -->NONE\n",
    "intersect(nodes_of_MEGF9_cases, hubs.with.at.least.degree.10.cases)"
   ]
  },
  {
   "cell_type": "code",
   "execution_count": null,
   "id": "2ed24208-69ba-4322-aecb-bbba633e50f2",
   "metadata": {},
   "outputs": [],
   "source": [
    "nodes_of_MEGF9_controls = c(connections_MEGF9[[2]]$node1, connections_MEGF9[[2]]$node2)\n",
    "intersect(nodes_of_MEGF9_controls, all_disreg_genes_trx)\n",
    "names_of_nodes= remove_after_dash(nodes_of_MEGF9_controls)\n",
    "intersect(names_of_nodes, tf.gene.links$Name.TF)\n",
    "#intersect(names_of_nodes, all.SF) -->NONE\n",
    "intersect(nodes_of_MEGF9_controls, hubs.with.at.least.degree.10.controls)"
   ]
  },
  {
   "cell_type": "code",
   "execution_count": null,
   "id": "8838eda1-0f2b-4670-8eea-e46382e62561",
   "metadata": {},
   "outputs": [],
   "source": [
    "intersect(nodes_of_MEGF9_controls, nodes_of_MEGF9_cases)"
   ]
  },
  {
   "cell_type": "code",
   "execution_count": null,
   "id": "d9ffb751-8bbb-4f90-bb33-34574785d55d",
   "metadata": {},
   "outputs": [],
   "source": [
    "# highlight important nodes (cases)\n",
    "nodes_of_SYNCRIP202_cases = c(connections_SYNCRIP202[[1]]$node1, connections_SYNCRIP202[[1]]$node2)\n",
    "#intersect(nodes_of_SYNCRIP202_cases, all_disreg_genes_trx) -->NONE\n",
    "names_of_nodes_SYNCRIP202_cases = remove_after_dash(nodes_of_SYNCRIP202_cases)\n",
    "intersect(names_of_nodes_SYNCRIP202_cases, tf.gene.links$Name.TF)\n",
    "intersect(names_of_nodes_SYNCRIP202_cases, all.SF)\n",
    "intersect(nodes_of_SYNCRIP202_cases, hubs.with.at.least.degree.10.cases)"
   ]
  },
  {
   "cell_type": "code",
   "execution_count": null,
   "id": "001ac423-ae9c-4393-a6aa-01a154de7061",
   "metadata": {},
   "outputs": [],
   "source": [
    "nodes_of_SYNCRIP202_controls = c(connections_SYNCRIP202[[2]]$node1, connections_SYNCRIP202[[2]]$node2)\n",
    "intersect(nodes_of_SYNCRIP202_controls, all_disreg_genes_trx)\n",
    "names_of_nodes_SYNCRIP202_controls = remove_after_dash(nodes_of_SYNCRIP202_controls)\n",
    "intersect(names_of_nodes_SYNCRIP202_controls, tf.gene.links$Name.TF)\n",
    "intersect(names_of_nodes_SYNCRIP202_controls, all.SF)\n",
    "intersect(nodes_of_SYNCRIP202_controls, hubs.with.at.least.degree.10.cases)"
   ]
  },
  {
   "cell_type": "code",
   "execution_count": null,
   "id": "281e5aab-2a91-48ad-8c54-cb3cffa1db38",
   "metadata": {},
   "outputs": [],
   "source": [
    "intersect(nodes_of_SYNCRIP202_controls, nodes_of_SYNCRIP202_cases)"
   ]
  },
  {
   "cell_type": "markdown",
   "id": "f9e0e61f-1d8e-4a92-a13f-e921cd9e14fd",
   "metadata": {
    "jp-MarkdownHeadingCollapsed": true
   },
   "source": [
    "### Visualizing the big network of cases and controls"
   ]
  },
  {
   "cell_type": "code",
   "execution_count": null,
   "id": "55dd6d28-1b41-4aeb-97f5-fc2291d44a1b",
   "metadata": {
    "scrolled": true
   },
   "outputs": [],
   "source": [
    "g = make_lattice( c(100,100) ) \n",
    "g = layout_on_grid(g)\n",
    "g_networx = g.to_networkx()"
   ]
  },
  {
   "cell_type": "code",
   "execution_count": null,
   "id": "ec29398f-dfe8-41de-9ead-f634fd4f047e",
   "metadata": {},
   "outputs": [],
   "source": [
    "# Visualize the cases network and annotate the nodes KCTD12 and TNFRSF1B #94C47D\n",
    "options(repr.plot.width=24, repr.plot.height=16)\n",
    "#cases graph\n",
    "cases_network_full <- graph_from_data_frame(cases.annotated.filtered.single.edges.thr, directed = FALSE) # Use directed = TRUE for directed graphs\n",
    "\n",
    "#plot only largest connected comp\n",
    "lcc_cases = largest_component(cases_network_full, mode = \"strong\")\n",
    "\n",
    "# create a df to hold annotations\n",
    "cases_lcc_node_annot_df = as.data.frame(V(lcc_cases)$name)\n",
    "names(cases_lcc_node_annot_df) = c('name')\n",
    "cases_lcc_node_annot_df <- cases_lcc_node_annot_df %>% \n",
    " mutate(\n",
    "        type = ifelse(name %in% c(\"TNFRSF1B\", \"KCTD12\"), \"#94C47D\", ifelse(name %in% tx.ids.names$name, \"#3A68AE\", \"#E7872B\")))\n",
    "V(lcc_cases)$type = cases_lcc_node_annot_df$type\n",
    "\n",
    "pdf(\"/grehawi/splice-reg-prj/Figures/cases_network_full_lcc.pdf\", width = 18, height = 16)\n",
    "cases_full_plot = plot(lcc_cases, vertex.color=V(lcc_cases)$type , edge.width = 1.6,\n",
    "     vertex.label = ifelse(V(lcc_cases)$name %in% c(\"KCTD12\", \"TNFRSF1B\"),V(lcc_cases)$name, NA),\n",
    "     vertex.size=ifelse(degree(lcc_cases) >= 10, 10, 2), vertex.label.cex=1, vertex.label.color='black')\n",
    "dev.off()"
   ]
  },
  {
   "cell_type": "code",
   "execution_count": null,
   "id": "ca896999-097f-47be-9897-bcd883616892",
   "metadata": {},
   "outputs": [],
   "source": [
    "controls_network_full <- graph_from_data_frame(controls.annotated.filtered.single.edges.thr, directed = FALSE) # Use directed = TRUE for directed graphs\n",
    "\n",
    "#plot only largest connected comp\n",
    "lcc_controls = largest_component(controls_network_full, mode = \"strong\")\n",
    "\n",
    "# create a df to hold annotations\n",
    "controls_lcc_node_annot_df = as.data.frame(V(lcc_controls)$name)\n",
    "names(controls_lcc_node_annot_df) = c('name')\n",
    "controls_lcc_node_annot_df <- controls_lcc_node_annot_df %>% \n",
    " mutate(\n",
    "        type = ifelse(name %in% c(\"TNFRSF1B\", \"KCTD12\"), \"#94C47D\", ifelse(name %in% tx.ids.names$name, \"#3A68AE\", \"#E7872B\")))\n",
    "V(lcc_controls)$type = controls_lcc_node_annot_df$type\n",
    "\n",
    "pdf(\"/grehawi/splice-reg-prj/Figures/controls_network_full_lcc.pdf\", width = 18, height = 16)\n",
    "plot(lcc_controls, vertex.color=V(lcc_controls)$type, edge.width = 1.6,\n",
    "          vertex.label = ifelse(V(lcc_controls)$name %in% c(\"KCTD12\", \"TNFRSF1B\"),V(lcc_controls)$name, NA),\n",
    "         vertex.size=ifelse(degree(lcc_controls) >= 10, 10, 2), vertex.label.cex=1, vertex.label.color='black')\n",
    "dev.off()"
   ]
  },
  {
   "cell_type": "code",
   "execution_count": null,
   "id": "0cec5fa2-515e-4603-b655-62b8f20cbc6c",
   "metadata": {},
   "outputs": [],
   "source": []
  }
 ],
 "metadata": {
  "kernelspec": {
   "display_name": "R [conda env:r_env] *",
   "language": "R",
   "name": "conda-env-r_env-r"
  },
  "language_info": {
   "codemirror_mode": "r",
   "file_extension": ".r",
   "mimetype": "text/x-r-source",
   "name": "R",
   "pygments_lexer": "r",
   "version": "4.4.1"
  }
 },
 "nbformat": 4,
 "nbformat_minor": 5
}
