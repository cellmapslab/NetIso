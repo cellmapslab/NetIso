{
 "cells": [
  {
   "cell_type": "code",
   "execution_count": null,
   "id": "6eccd4c9",
   "metadata": {
    "scrolled": true
   },
   "outputs": [],
   "source": [
    "#library(xlsx)\n",
    "library(ggplot2)\n",
    "library(rtracklayer)\n",
    "library(dplyr)\n",
    "library(tidyr)\n",
    "library(data.table)\n",
    "library(matrixStats)\n",
    "library(igraph)\n",
    "library(purrr)\n",
    "library(stringr)\n",
    "library(VennDiagram)\n",
    "library(TIN)\n",
    "psize = function(x=4,y=5) { options(repr.plot.width=x, repr.plot.height=y) }"
   ]
  },
  {
   "cell_type": "markdown",
   "id": "40ccc346",
   "metadata": {},
   "source": [
    "### Functions"
   ]
  },
  {
   "cell_type": "code",
   "execution_count": null,
   "id": "8dc9922f-3e14-47d0-9193-985561a0f8ac",
   "metadata": {},
   "outputs": [],
   "source": [
    "# Function to remove all characters after '-'\n",
    "remove_after_dash <- function(x) {\n",
    "  sub(\"-.*$\", \"\", x)\n",
    "}"
   ]
  },
  {
   "cell_type": "code",
   "execution_count": null,
   "id": "67ac2b69",
   "metadata": {},
   "outputs": [],
   "source": [
    "get_intersection_with_known_TFTarget <- function (df) {   \n",
    "    # intersect with TFLink\n",
    "    intersection.set = df %>% \n",
    "      left_join(tf.gene.links, by = c(\"node1\" = \"Name.TF\", \"node2\" = \"Name.Target\"))\n",
    "    # select non NAs\n",
    "    intersection.set= intersection.set[complete.cases(intersection.set),]\n",
    "    return(intersection.set)\n",
    "    \n",
    "}"
   ]
  },
  {
   "cell_type": "code",
   "execution_count": null,
   "id": "3bda30bf",
   "metadata": {},
   "outputs": [],
   "source": [
    "get_intersection_with_known_SF <- function (intersection_set, df) {\n",
    "    # intersect with splicing factots\n",
    "    nodes.unq = unique(c(df$node1, df$node2))\n",
    "    intersection.set = intersect(nodes.unq, intersection_set)\n",
    "\n",
    "    return(intersection.set)\n",
    "}"
   ]
  },
  {
   "cell_type": "code",
   "execution_count": null,
   "id": "d573bd2d",
   "metadata": {},
   "outputs": [],
   "source": [
    "normalize <- function(x) (x- min(x))/(max(x) - min(x))"
   ]
  },
  {
   "cell_type": "code",
   "execution_count": null,
   "id": "d46c9838",
   "metadata": {},
   "outputs": [],
   "source": [
    "process_aracne_net <- function(dt) {\n",
    "    \n",
    "    # melt columns and remove 0 confidence values (no edges)\n",
    "    aracne.net.df = as.data.frame(dt)\n",
    "    aracne.net.long = aracne.net.df %>% melt( )\n",
    "    aracne.net.long$variable = as.character(aracne.net.long$variable)\n",
    "    #aracne.net.long$value = normalize(aracne.net.long$value)\n",
    "    aracne.net.long = aracne.net.long[aracne.net.long$value != 0 , ]\n",
    "    # order by Confidence value deceasing\n",
    "    aracne.net.long = aracne.net.long[order(-(aracne.net.long$value)),]\n",
    "    # rename columns\n",
    "    aracne.net.long = aracne.net.long %>% \n",
    "          dplyr::rename(node1 = V1) %>% dplyr::rename(node2 = variable)\n",
    "    return(aracne.net.long)\n",
    "}"
   ]
  },
  {
   "cell_type": "code",
   "execution_count": null,
   "id": "598cf6ba",
   "metadata": {},
   "outputs": [],
   "source": [
    "get_network_with_ids <- function(df) {\n",
    "    net.withIds = df %>% left_join(genes.trxs.ids.names.map, by = c(\"node1\" = \"name\"))\n",
    "    net.withIds = net.withIds %>% left_join(genes.trxs.ids.names.map, by = c(\"node2\" = \"name\"))\n",
    "    # select columns from the join and rename\n",
    "    net.withIds = net.withIds %>% select(id.x, id.y, value) %>% \n",
    "          dplyr::rename(node1 = id.x) %>% dplyr::rename(node2 = id.y)\n",
    "    return(net.withIds)\n",
    "}"
   ]
  },
  {
   "cell_type": "code",
   "execution_count": null,
   "id": "f0125959",
   "metadata": {},
   "outputs": [],
   "source": [
    "get_network_with_names <- function(df) {\n",
    "    net.withNames = df %>% left_join(genes.trxs.ids.names.map, by = c(\"node1\" = \"id\"))\n",
    "    net.withNames = net.withNames %>% left_join(genes.trxs.ids.names.map, by = c(\"node2\" = \"id\"))\n",
    "    # select columns from the join and rename\n",
    "    net.withNames = net.withNames %>% select(name.x, name.y, value, edgeType) %>% \n",
    "          dplyr::rename(node1 = name.x) %>% dplyr::rename(node2 = name.y)\n",
    "    return(net.withNames)\n",
    "}"
   ]
  },
  {
   "cell_type": "code",
   "execution_count": null,
   "id": "8baca061",
   "metadata": {},
   "outputs": [],
   "source": [
    "remove_double_edges <- function(df) {\n",
    "    # remove double edges\n",
    "    net.single.edges = df[!duplicated(apply(df,1,function(x) paste(sort(x),collapse=''))),]  \n",
    "                                            \n",
    "    return(net.single.edges)\n",
    "}"
   ]
  },
  {
   "cell_type": "code",
   "execution_count": null,
   "id": "3229cbed",
   "metadata": {},
   "outputs": [],
   "source": [
    "annotate_edges <- function (df) {\n",
    "\n",
    "    annotated.net = df %>% \n",
    "    mutate(\n",
    "        edgeType = ifelse(grepl(\"ENSG\", node1) & grepl(\"ENSG\", node2), \"TE-TE\", ifelse(grepl(\"ENST\", node1) & grepl(\"ENST\", node2), \"IR-IR\", ifelse(grepl(\"ENSG\", node1) & grepl(\"ENST\", node2), \"TE-IR\", \"IR-TE\")))\n",
    "    )\n",
    "    return(annotated.net)\n",
    "}\n",
    "\n"
   ]
  },
  {
   "cell_type": "code",
   "execution_count": null,
   "id": "140b0131",
   "metadata": {},
   "outputs": [],
   "source": [
    "filter_edges <- function(df, trx.genes) {\n",
    "    \n",
    "    # filter edges that belong to features of the same gene (IR-IR or TE-IR or IR-TE)\n",
    "    IR.IR.sub.df = df[df$edgeType == \"IR-IR\", ]\n",
    "    df1.res1 = left_join(IR.IR.sub.df, trx.genes, by = c(\"node1\" = \"transcript_id\"))\n",
    "    df1.res2 = left_join(df1.res1, trx.genes, by = c(\"node2\" = \"transcript_id\"))\n",
    "    df1 = df1.res2[df1.res2$gene_id.x != df1.res2$gene_id.y, ]\n",
    "    df1$gene_id.x = NULL\n",
    "    df1$gene_id.y = NULL\n",
    "    \n",
    "    TE.IR.sub.df = df[df$edgeType == \"TE-IR\", ]\n",
    "    df2.res1 = left_join(TE.IR.sub.df, trx.genes, by = c(\"node2\" = \"transcript_id\"))\n",
    "    df2 = df2.res1[df2.res1$node1 != df2.res1$gene_id, ]\n",
    "    df2$gene_id = NULL\n",
    "    \n",
    "    IR.TE.sub.df = df[df$edgeType == \"IR-TE\", ]\n",
    "    df3.res1 = left_join(IR.TE.sub.df, trx.genes, by = c(\"node1\" = \"transcript_id\"))\n",
    "    df3 = df3.res1[df3.res1$node2 != df3.res1$gene_id, ]\n",
    "    df3$gene_id = NULL\n",
    "    \n",
    "    TE.TE.sub.df = df[df$edgeType == \"TE-TE\", ]\n",
    "    \n",
    "    return(rbind(df1, df2, df3, TE.TE.sub.df))\n",
    "}"
   ]
  },
  {
   "cell_type": "code",
   "execution_count": null,
   "id": "98ca16a5",
   "metadata": {},
   "outputs": [],
   "source": [
    "get_igraph_obj <- function(df){\n",
    "  # takes in data table of results from kimono\n",
    "  # return igraph object\n",
    "  actors<-unique(c(df$node1,df$node2))\n",
    "  relations <- data.frame(from=df$node1,\n",
    "                        to=df$node2,\n",
    "                        value=df$value) \n",
    "  # network\n",
    "  g <- graph_from_data_frame(relations, directed=FALSE, vertices=actors)\n",
    "  return(g)\n",
    "}"
   ]
  },
  {
   "cell_type": "code",
   "execution_count": null,
   "id": "6b9241ac",
   "metadata": {},
   "outputs": [],
   "source": [
    "get_betweenness <- function(graph_obj){\n",
    "  # takes igraph object\n",
    "  # returns betweenness df\n",
    "  x <- betweenness(graph_obj, directed=T, weights=NA)\n",
    "\n",
    "  y <- as.data.frame(t(t(sort(x, decreasing = T)))) %>%\n",
    "    dplyr::rename(betweenness=V1) %>% setDT(., keep.rownames=T) %>% \n",
    "    dplyr::rename(node=rn)\n",
    "  return(y)\n",
    "}"
   ]
  },
  {
   "cell_type": "code",
   "execution_count": null,
   "id": "2f6cfc01",
   "metadata": {},
   "outputs": [],
   "source": [
    "get_degree <- function(graph_obj){\n",
    "    x = degree(graph_obj, v = V(graph_obj), loops=FALSE)\n",
    "    y <- as.data.frame(t(t(sort(x, decreasing = T)))) %>%\n",
    "        dplyr::rename(degree=V1) %>% setDT(., keep.rownames=T) %>% \n",
    "        dplyr::rename(node=rn)\n",
    "    return(y)  \n",
    "}"
   ]
  },
  {
   "cell_type": "markdown",
   "id": "8b6e46e3",
   "metadata": {},
   "source": [
    "### Parse all knowm splicing factors from collected resources"
   ]
  },
  {
   "cell_type": "code",
   "execution_count": null,
   "id": "2956d00d",
   "metadata": {
    "scrolled": true
   },
   "outputs": [],
   "source": [
    "#library(readxl)\n",
    "# Splicing factor from SpliceAid: 67 unique splicing factors\n",
    "sf.targets.links = fread(\"/grehawi/splice-reg-prj/data/splicing-factors.txt\", sep=\"\\t\")\n",
    "#This gene set is a comprehensive collection of 277 unique genes involved in pre-mRNA splicing events \n",
    "#(Sveen et al., Genome Medicine, 2011, 3:32).\n",
    "data(splicingFactors)\n",
    "splicingFactors$GeneSymbol = as.character(splicingFactors$GeneSymbol)\n",
    "\n",
    "# 406 splicing factors from Seiler et al 2018: https://pubmed.ncbi.nlm.nih.gov/29617667/\n",
    "SF.Seiler = fread(\"/grehawi/splice-reg-prj/data/SF-Seileretal2018.csv\")\n",
    "head(SF.Seiler)\n",
    "length(unique(SF.Seiler$GeneSymbol))\n",
    "\n",
    "#another resource of SF Anna et al : https://www.biorxiv.org/content/10.1101/2020.05.20.107375v1.full\n",
    "Anna.SF = c(\"SRSF1\", \"SRSF2\", \"SRSF3\", \"SRSF5\", \"SRSF7\", \"HNRNPA2B1\", \"HNRNPL\", \"HNRNPLL\", \"RBFOX2\", \"RBFOX3\", \"FUS\", \"SNRNP70\", \"TRA2A\",\n",
    "  \"TRA2B\", \"TIA1\", \"PTBP1\", \"PTBP2\", \"RBM10\", \"RBM5\")\n",
    "\n",
    "SF.Seiler.df = as.data.frame(SF.Seiler)\n",
    "SF.alone.seiler = unique(SF.Seiler.df$GeneSymbol)\n",
    "length(SF.alone.seiler)\n",
    "\n",
    "all.SF = unique(c(sf.targets.links$Gene, splicingFactors$GeneSymbol, SF.alone.seiler, Anna.SF))\n",
    "length(all.SF)"
   ]
  },
  {
   "cell_type": "markdown",
   "id": "604770e3",
   "metadata": {},
   "source": [
    "### Parse known TF-target connections from TFLink"
   ]
  },
  {
   "cell_type": "code",
   "execution_count": null,
   "id": "7f99011b",
   "metadata": {},
   "outputs": [],
   "source": [
    "tf.gene.links = fread(\"/grehawi/splice-reg-prj/data/TFLink_Homo_sapiens_interactions_All_simpleFormat_v1.0.tsv\", sep=\"\\t\")\n",
    "head(tf.gene.links)\n",
    "dim(tf.gene.links)\n",
    "dim(tf.gene.links[complete.cases(tf.gene.links),])\n",
    "length(unique(tf.gene.links$Name.Target))\n",
    "length(unique(tf.gene.links$Name.TF))"
   ]
  },
  {
   "cell_type": "markdown",
   "id": "c129be44",
   "metadata": {},
   "source": [
    "### Read required files"
   ]
  },
  {
   "cell_type": "code",
   "execution_count": null,
   "id": "0b278689",
   "metadata": {},
   "outputs": [],
   "source": [
    "# read transcripts-genes mapping table\n",
    "trx.genes = read.table(\"/grehawi/splice-reg-prj/data/transcriptsID-geneID.txt\")\n",
    "head(trx.genes)"
   ]
  },
  {
   "cell_type": "code",
   "execution_count": null,
   "id": "5df86956",
   "metadata": {},
   "outputs": [],
   "source": [
    "genes.ids.names = read.table(\"/grehawi/splice-reg-prj/new-data/ARACNE/gene_names_ids_table.txt\")\n",
    "head(genes.ids.names)\n",
    "dim(genes.ids.names)"
   ]
  },
  {
   "cell_type": "code",
   "execution_count": null,
   "id": "2a25e615",
   "metadata": {},
   "outputs": [],
   "source": [
    "tx.ids.names = read.table(\"/grehawi/splice-reg-prj/new-data/ARACNE/trxs_names_ids_table.txt\")\n",
    "head(tx.ids.names)\n",
    "dim(tx.ids.names)"
   ]
  },
  {
   "cell_type": "code",
   "execution_count": null,
   "id": "19d3e6b3",
   "metadata": {},
   "outputs": [],
   "source": [
    "genes.trxs.ids.names.map = read.table(\"/grehawi/splice-reg-prj/new-data/ARACNE/genes_trxs_ids_names_map.txt\")\n",
    "head(genes.trxs.ids.names.map)\n",
    "dim(genes.trxs.ids.names.map)"
   ]
  },
  {
   "cell_type": "markdown",
   "id": "9dc6719f",
   "metadata": {},
   "source": [
    "## 1. Read and process networks"
   ]
  },
  {
   "cell_type": "code",
   "execution_count": null,
   "id": "9b49a846",
   "metadata": {
    "scrolled": true
   },
   "outputs": [],
   "source": [
    "# Read and preprocess the networks (read as data table)\n",
    "aracne.net.controls <- fread(file=\"/grehawi/splice-reg-prj/new-data/ARACNE/aracne_output/aracne-net-controls.txt\")\n",
    "aracne.net.cases.all <- fread(file=\"/grehawi/splice-reg-prj/new-data/ARACNE/aracne_output/aracne-net-cases.txt\")\n"
   ]
  },
  {
   "cell_type": "code",
   "execution_count": null,
   "id": "66d08577",
   "metadata": {},
   "outputs": [],
   "source": [
    "head(aracne.net.controls)"
   ]
  },
  {
   "cell_type": "code",
   "execution_count": null,
   "id": "7819e09e",
   "metadata": {
    "scrolled": true
   },
   "outputs": [],
   "source": [
    "aracne.net.long.controls = process_aracne_net(aracne.net.controls)\n",
    "aracne.net.long.cases.all = process_aracne_net(aracne.net.cases.all)"
   ]
  },
  {
   "cell_type": "code",
   "execution_count": null,
   "id": "0a687015",
   "metadata": {},
   "outputs": [],
   "source": [
    "dim(aracne.net.long.controls)\n",
    "dim(aracne.net.long.cases.all)"
   ]
  },
  {
   "cell_type": "code",
   "execution_count": null,
   "id": "ad38f2d4",
   "metadata": {},
   "outputs": [],
   "source": [
    "#Reduce(setdiff,list(aracne.net.controls$V1,genes.trxs.ids.names.map$name))\n",
    "\n",
    "any(is.na(aracne.net.long.controls))\n",
    "any(is.na(aracne.net.long.cases.all))"
   ]
  },
  {
   "cell_type": "code",
   "execution_count": null,
   "id": "1a52a773",
   "metadata": {},
   "outputs": [],
   "source": [
    "any(is.null(aracne.net.long.controls))\n",
    "any(is.null(aracne.net.long.cases.all))"
   ]
  },
  {
   "cell_type": "code",
   "execution_count": null,
   "id": "c328dd97",
   "metadata": {},
   "outputs": [],
   "source": [
    "head(aracne.net.long.cases.all)"
   ]
  },
  {
   "cell_type": "code",
   "execution_count": null,
   "id": "b1addf4e",
   "metadata": {},
   "outputs": [],
   "source": [
    "summary(aracne.net.long.controls$value)\n",
    "summary(aracne.net.long.cases.all$value)"
   ]
  },
  {
   "cell_type": "code",
   "execution_count": null,
   "id": "ba84b804",
   "metadata": {},
   "outputs": [],
   "source": [
    "options(repr.plot.width=8, repr.plot.height=6)\n",
    "# Controls network Confidence values\n",
    "pdf(\"/grehawi/splice-reg-prj/Figures/Hist_MI_Controls.pdf\")\n",
    "h <- hist(aracne.net.long.controls$value, plot = FALSE)\n",
    "plot(h, xlab = \"Mutual Information Values\", ylab = \"Frequency\",\n",
    "     main = \"Histogram of The Mutual Information Values In The Controls Network\", col = \"pink\")\n",
    "dev.off() "
   ]
  },
  {
   "cell_type": "code",
   "execution_count": null,
   "id": "8e4b4fe2",
   "metadata": {},
   "outputs": [],
   "source": [
    "options(repr.plot.width=8, repr.plot.height=6)\n",
    "pdf(\"/grehawi/splice-reg-prj/Figures/Hist_MI_Cases.pdf\")\n",
    "# Cases network Confidence values\n",
    "h <- hist(aracne.net.long.cases.all$value, plot = FALSE)\n",
    "plot(h, xlab = \"Mutual Information Values\", ylab = \"Frequency\",\n",
    "     main = \"Histogram of The Mutual Information Values In The Cases Network\", col = \"pink\")\n",
    "dev.off() "
   ]
  },
  {
   "cell_type": "code",
   "execution_count": null,
   "id": "f0727854",
   "metadata": {},
   "outputs": [],
   "source": [
    "# get the network with single edge format\n",
    "aracne.net.long.controls.single.edges = remove_double_edges(aracne.net.long.controls)\n",
    "aracne.net.long.cases.all.single.edges = remove_double_edges(aracne.net.long.cases.all)"
   ]
  },
  {
   "cell_type": "code",
   "execution_count": null,
   "id": "843f45f9",
   "metadata": {},
   "outputs": [],
   "source": [
    "head(aracne.net.long.cases.all.single.edges)"
   ]
  },
  {
   "cell_type": "code",
   "execution_count": null,
   "id": "0594cb57",
   "metadata": {},
   "outputs": [],
   "source": [
    "# total number of edges in the networks (before filtering)\n",
    "dim(aracne.net.long.controls.single.edges)\n",
    "dim(aracne.net.long.cases.all.single.edges)"
   ]
  },
  {
   "cell_type": "code",
   "execution_count": null,
   "id": "efafcc16",
   "metadata": {},
   "outputs": [],
   "source": [
    "#Total number of nodes in the network (before filtering)\n",
    "length(unique(c(aracne.net.long.controls.single.edges$node1, aracne.net.long.controls.single.edges$node2)))\n",
    "length(unique(c(aracne.net.long.cases.all.single.edges$node1, aracne.net.long.cases.all.single.edges$node2)))\n"
   ]
  },
  {
   "cell_type": "markdown",
   "id": "46b6db84",
   "metadata": {},
   "source": [
    "## 1.1 Network annotation and filtering"
   ]
  },
  {
   "cell_type": "code",
   "execution_count": null,
   "id": "4907f962",
   "metadata": {},
   "outputs": [],
   "source": [
    "controls.withIds = get_network_with_ids(aracne.net.long.controls.single.edges)\n",
    "cases.all.withIds = get_network_with_ids(aracne.net.long.cases.all.single.edges)\n",
    "dim(controls.withIds)\n",
    "dim(cases.all.withIds)\n",
    "head(cases.all.withIds)"
   ]
  },
  {
   "cell_type": "code",
   "execution_count": null,
   "id": "484f66ce",
   "metadata": {},
   "outputs": [],
   "source": [
    "# annotate the edges of the network\n",
    "\n",
    "annotated.controls = annotate_edges(controls.withIds)\n",
    "annotated.cases = annotate_edges(cases.all.withIds)\n",
    "\n",
    "\n",
    "# remove edges connecting features of the same gene (TE-IR or IR-IR)\n",
    "\n",
    "annotated.filtered.controls = filter_edges(annotated.controls, trx.genes)\n",
    "annotated.filtered.cases = filter_edges(annotated.cases, trx.genes)"
   ]
  },
  {
   "cell_type": "code",
   "execution_count": null,
   "id": "801a653b",
   "metadata": {},
   "outputs": [],
   "source": [
    "#Total number of nodes in the network after filtering\n",
    "\n",
    "length(unique(c(annotated.filtered.controls$node1, annotated.filtered.controls$node2)))\n",
    "length(unique(c(annotated.filtered.cases$node1, annotated.filtered.cases$node2)))"
   ]
  },
  {
   "cell_type": "code",
   "execution_count": null,
   "id": "771fbf65",
   "metadata": {},
   "outputs": [],
   "source": [
    "head(annotated.filtered.controls)"
   ]
  },
  {
   "cell_type": "code",
   "execution_count": null,
   "id": "982af53a",
   "metadata": {},
   "outputs": [],
   "source": [
    "dim(annotated.filtered.controls)\n",
    "dim(annotated.filtered.cases)"
   ]
  },
  {
   "cell_type": "code",
   "execution_count": null,
   "id": "52320684",
   "metadata": {},
   "outputs": [],
   "source": [
    "table(annotated.filtered.controls$edgeType)\n",
    "table(annotated.filtered.cases$edgeType)"
   ]
  },
  {
   "cell_type": "code",
   "execution_count": null,
   "id": "e6b80dd0",
   "metadata": {},
   "outputs": [],
   "source": [
    "annotated.filtered.cases.withNames.singleE = get_network_with_names(annotated.filtered.cases)\n",
    "annotated.filtered.controls.withNames.singleE = get_network_with_names(annotated.filtered.controls)\n"
   ]
  },
  {
   "cell_type": "code",
   "execution_count": null,
   "id": "4f6338f2-153e-4436-9966-d2dc69cec306",
   "metadata": {},
   "outputs": [],
   "source": [
    "write.table(annotated.filtered.cases.withNames.singleE, '/grehawi/splice-reg-prj/new-data/ARACNE/filtered_cases_withNames_singleEdges.txt')\n",
    "write.table(annotated.filtered.controls.withNames.singleE, '/grehawi/splice-reg-prj/new-data/ARACNE/filtered_controls_withNames_singleEdges.txt')\n"
   ]
  },
  {
   "cell_type": "code",
   "execution_count": null,
   "id": "525c0d90",
   "metadata": {},
   "outputs": [],
   "source": [
    "# edge MI histogram per edge-type after filtering\n",
    "#pdf(\"/grehawi/splice-reg-prj/Figures/Edgelevel_Hist_MI_Controls.pdf\")\n",
    "\n",
    "controls.annotated.filtered.single.edges.TETE = annotated.filtered.controls.withNames.singleE[annotated.filtered.controls.withNames.singleE$edgeType == 'TE-TE',]\n",
    "controls.annotated.filtered.single.edges.TEIR = annotated.filtered.controls.withNames.singleE[annotated.filtered.controls.withNames.singleE$edgeType == 'IR-TE',]\n",
    "controls.annotated.filtered.single.edges.IRIR = annotated.filtered.controls.withNames.singleE[annotated.filtered.controls.withNames.singleE$edgeType == 'IR-IR',]\n",
    "\n",
    "col1 = rgb(0,0,1,1/4)\n",
    "\n",
    "# Create a blank plot\n",
    "hist(controls.annotated.filtered.single.edges.TETE$value,\n",
    "     xlab = \"Mutual Information Values\",\n",
    "     col = \"skyblue\",\n",
    "     border = \"black\",\n",
    "     cex.axis = 1.2,\n",
    "     cex.lab = 1.5)\n",
    "\n",
    "\n",
    "# Add another histogram\n",
    "hist(controls.annotated.filtered.single.edges.IRIR$value, add = TRUE, col = col1, border = \"black\")\n",
    "\n",
    "# Add another histogram on top\n",
    "hist(controls.annotated.filtered.single.edges.TEIR$value, add = TRUE, col = \"salmon\", border = \"black\")\n",
    "\n",
    "# Create a legend\n",
    "legend(\"topright\", legend = c(\"TE-TE\", \"TE-IR\", \"IR-IR\"),\n",
    "      fill = c(\"skyblue\", \"salmon\" ,col1))\n",
    "\n",
    "#dev.off()"
   ]
  },
  {
   "cell_type": "code",
   "execution_count": null,
   "id": "bdcc7377",
   "metadata": {},
   "outputs": [],
   "source": [
    "summary(controls.annotated.filtered.single.edges.TETE$value)"
   ]
  },
  {
   "cell_type": "code",
   "execution_count": null,
   "id": "668700b9",
   "metadata": {},
   "outputs": [],
   "source": [
    "summary(controls.annotated.filtered.single.edges.TEIR$value)"
   ]
  },
  {
   "cell_type": "code",
   "execution_count": null,
   "id": "e13fe72e",
   "metadata": {},
   "outputs": [],
   "source": [
    "summary(controls.annotated.filtered.single.edges.IRIR$value)"
   ]
  },
  {
   "cell_type": "code",
   "execution_count": null,
   "id": "ed6907a7",
   "metadata": {},
   "outputs": [],
   "source": [
    "# edge MI histogram per edge-type after filtering\n",
    "#pdf(\"/grehawi/splice-reg-prj/Figures/Edgelevel_Hist_MI_Cases.pdf\")\n",
    "cases.annotated.filtered.single.edges.TETE = annotated.filtered.cases.withNames.singleE[annotated.filtered.cases.withNames.singleE$edgeType == 'TE-TE',]\n",
    "cases.annotated.filtered.single.edges.TEIR = annotated.filtered.cases.withNames.singleE[annotated.filtered.cases.withNames.singleE$edgeType == 'IR-TE',]\n",
    "cases.annotated.filtered.single.edges.IRIR = annotated.filtered.cases.withNames.singleE[annotated.filtered.cases.withNames.singleE$edgeType == 'IR-IR',]\n",
    "\n",
    "col1 = rgb(0,0,1,1/4)\n",
    "# Create a blank plot\n",
    "hist(cases.annotated.filtered.single.edges.TETE$value,\n",
    "     xlab = \"Mutual Information Values\",\n",
    "     col = \"skyblue\",\n",
    "     border = \"black\",\n",
    "     cex.axis = 1.2,\n",
    "     cex.lab = 1.5)\n",
    "\n",
    "# Add another histogram\n",
    "hist(cases.annotated.filtered.single.edges.IRIR$value, add = TRUE, col = col1, border = \"black\")\n",
    "\n",
    "# Add another histogram on top\n",
    "hist(cases.annotated.filtered.single.edges.TEIR$value, add = TRUE, col = \"salmon\", border = \"black\")\n",
    "\n",
    "# Create a legend\n",
    "legend(\"topright\", legend = c(\"TE-TE\", \"TE-IR\", \"IR-IR\"),\n",
    "      fill = c(\"skyblue\", \"salmon\" ,col1))\n",
    "#dev.off()"
   ]
  },
  {
   "cell_type": "code",
   "execution_count": null,
   "id": "ba455214",
   "metadata": {},
   "outputs": [],
   "source": [
    "summary(cases.annotated.filtered.single.edges.TETE$value)"
   ]
  },
  {
   "cell_type": "code",
   "execution_count": null,
   "id": "d73d7e0b",
   "metadata": {},
   "outputs": [],
   "source": [
    "summary(cases.annotated.filtered.single.edges.TEIR$value)"
   ]
  },
  {
   "cell_type": "code",
   "execution_count": null,
   "id": "cf171752",
   "metadata": {},
   "outputs": [],
   "source": [
    "summary(cases.annotated.filtered.single.edges.IRIR$value)"
   ]
  },
  {
   "cell_type": "markdown",
   "id": "f1568b47",
   "metadata": {},
   "source": [
    "## 1.2 Hub nodes analysis (before threshold filtering to compare with previous analysis)"
   ]
  },
  {
   "cell_type": "code",
   "execution_count": null,
   "id": "d244d39a",
   "metadata": {},
   "outputs": [],
   "source": [
    "g.controls_before_thr = get_igraph_obj(annotated.filtered.controls.withNames.singleE)\n",
    "g.controls.degrees.before.thr = get_degree(g.controls_before_thr)\n",
    "\n",
    "g.cases_before_thr = get_igraph_obj(annotated.filtered.cases.withNames.singleE)\n",
    "g.cases.degrees.before.thr = get_degree(g.cases_before_thr)"
   ]
  },
  {
   "cell_type": "code",
   "execution_count": null,
   "id": "f4a1811b",
   "metadata": {},
   "outputs": [],
   "source": [
    "head(g.controls.degrees.before.thr)"
   ]
  },
  {
   "cell_type": "code",
   "execution_count": null,
   "id": "3b310a16",
   "metadata": {},
   "outputs": [],
   "source": [
    "summary(g.controls.degrees.before.thr$degree)\n",
    "summary(g.cases.degrees.before.thr$degree)"
   ]
  },
  {
   "cell_type": "markdown",
   "id": "394840d2",
   "metadata": {},
   "source": [
    "## 1.3 Put a MI threshold on the edges basd on their edge-type"
   ]
  },
  {
   "cell_type": "code",
   "execution_count": null,
   "id": "21b4f190",
   "metadata": {},
   "outputs": [],
   "source": [
    "# thresholds are determined based on median from the above distribution summery \n",
    "# We take same threshold for the controls network as in the cases network\n",
    "# in order to bring the total number of edges as well as the MI distribution per edge-type \n",
    "# in both networks closer to each other \n",
    "\n",
    "cases.annotated.filtered.single.edges.TETE = cases.annotated.filtered.single.edges.TETE[cases.annotated.filtered.single.edges.TETE$value >= 0.24, ] \n",
    "cases.annotated.filtered.single.edges.TEIR = cases.annotated.filtered.single.edges.TEIR[cases.annotated.filtered.single.edges.TEIR$value >= 0.14, ] \n",
    "cases.annotated.filtered.single.edges.IRIR = cases.annotated.filtered.single.edges.IRIR[cases.annotated.filtered.single.edges.IRIR$value >= 0.38, ]\n",
    "\n",
    "cases.annotated.filtered.single.edges.thr = rbind(cases.annotated.filtered.single.edges.TETE,\n",
    "                                              cases.annotated.filtered.single.edges.TEIR,\n",
    "                                              cases.annotated.filtered.single.edges.IRIR)\n",
    "\n",
    "controls.annotated.filtered.single.edges.TETE = controls.annotated.filtered.single.edges.TETE[controls.annotated.filtered.single.edges.TETE$value >= 0.24, ] \n",
    "controls.annotated.filtered.single.edges.TEIR = controls.annotated.filtered.single.edges.TEIR[controls.annotated.filtered.single.edges.TEIR$value >= 0.14, ] \n",
    "controls.annotated.filtered.single.edges.IRIR = controls.annotated.filtered.single.edges.IRIR[controls.annotated.filtered.single.edges.IRIR$value >= 0.38, ]\n",
    "\n",
    "controls.annotated.filtered.single.edges.thr = rbind(controls.annotated.filtered.single.edges.TETE,\n",
    "                                              controls.annotated.filtered.single.edges.TEIR,\n",
    "                                              controls.annotated.filtered.single.edges.IRIR)\n",
    "\n"
   ]
  },
  {
   "cell_type": "code",
   "execution_count": null,
   "id": "5ed98381",
   "metadata": {},
   "outputs": [],
   "source": [
    "dim(controls.annotated.filtered.single.edges.thr)\n",
    "dim(cases.annotated.filtered.single.edges.thr)"
   ]
  },
  {
   "cell_type": "code",
   "execution_count": null,
   "id": "76be7d60-9281-4bd6-8304-aed62eedd609",
   "metadata": {},
   "outputs": [],
   "source": [
    "# edge MI histogram per edge-type after filtering and Thresholding\n",
    "#pdf(\"/grehawi/splice-reg-prj/Figures/Edgelevel_Hist_MI_Controls_thresholded.pdf\")\n",
    "\n",
    "controls.annotated.filtered.single.edges.TETE.thr = controls.annotated.filtered.single.edges.thr[controls.annotated.filtered.single.edges.thr$edgeType == 'TE-TE',]\n",
    "controls.annotated.filtered.single.edges.TEIR.thr = controls.annotated.filtered.single.edges.thr[controls.annotated.filtered.single.edges.thr$edgeType == 'IR-TE',]\n",
    "controls.annotated.filtered.single.edges.IRIR.thr = controls.annotated.filtered.single.edges.thr[controls.annotated.filtered.single.edges.thr$edgeType == 'IR-IR',]\n",
    "\n",
    "col1 = rgb(0,0,1,1/4)\n",
    "\n",
    "# Create a blank plot\n",
    "hist(controls.annotated.filtered.single.edges.TETE.thr$value,\n",
    "     xlab = \"Mutual Information Values\",\n",
    "     col = \"skyblue\",\n",
    "     border = \"black\",\n",
    "     cex.axis = 1.2,\n",
    "     cex.lab = 1.5)\n",
    "\n",
    "\n",
    "# Add another histogram\n",
    "hist(controls.annotated.filtered.single.edges.IRIR.thr$value, add = TRUE, col = col1, border = \"black\")\n",
    "\n",
    "# Add another histogram on top\n",
    "hist(controls.annotated.filtered.single.edges.TEIR.thr$value, add = TRUE, col = \"salmon\", border = \"black\")\n",
    "\n",
    "#Create a legend\n",
    "legend(\"topright\", legend = c(\"TE-TE\", \"TE-IR\", \"IR-IR\"),\n",
    "      fill = c(\"skyblue\", \"salmon\" ,col1))\n",
    "\n",
    "#dev.off()"
   ]
  },
  {
   "cell_type": "code",
   "execution_count": null,
   "id": "917c0201-c97b-43ae-9c0f-f0c64bf4a6b6",
   "metadata": {},
   "outputs": [],
   "source": [
    "# edge MI histogram per edge-type after filtering and thresholding\n",
    "#pdf(\"/grehawi/splice-reg-prj/Figures/Edgelevel_Hist_MI_Cases_thresholded.pdf\")\n",
    "cases.annotated.filtered.single.edges.TETE.thr = cases.annotated.filtered.single.edges.thr[cases.annotated.filtered.single.edges.thr$edgeType == 'TE-TE',]\n",
    "cases.annotated.filtered.single.edges.TEIR.thr = cases.annotated.filtered.single.edges.thr[cases.annotated.filtered.single.edges.thr$edgeType == 'IR-TE',]\n",
    "cases.annotated.filtered.single.edges.IRIR.thr = cases.annotated.filtered.single.edges.thr[cases.annotated.filtered.single.edges.thr$edgeType == 'IR-IR',]\n",
    "\n",
    "col1 = rgb(0,0,1,1/4)\n",
    "# Create a blank plot\n",
    "hist(cases.annotated.filtered.single.edges.TETE.thr$value,\n",
    "     xlab = \"Mutual Information Values\",\n",
    "     col = \"skyblue\",\n",
    "     border = \"black\",\n",
    "     cex.axis = 1.2,\n",
    "     cex.lab = 1.5)\n",
    "\n",
    "# Add another histogram\n",
    "hist(cases.annotated.filtered.single.edges.IRIR.thr$value, add = TRUE, col = col1, border = \"black\")\n",
    "\n",
    "# Add another histogram on top\n",
    "hist(cases.annotated.filtered.single.edges.TEIR.thr$value, add = TRUE, col = \"salmon\", border = \"black\")\n",
    "\n",
    "# Create a legend\n",
    "legend(\"topright\", legend = c(\"TE-TE\", \"TE-IR\", \"IR-IR\"),\n",
    "      fill = c(\"skyblue\", \"salmon\" ,col1))\n",
    "#dev.off()"
   ]
  },
  {
   "cell_type": "code",
   "execution_count": null,
   "id": "5e01b723-9f5e-4945-ade5-2ced0a1eb070",
   "metadata": {},
   "outputs": [],
   "source": [
    "summary(cases.annotated.filtered.single.edges.TETE.thr$value)"
   ]
  },
  {
   "cell_type": "code",
   "execution_count": null,
   "id": "36f37370-a539-44a3-84d5-ad91aec04d56",
   "metadata": {},
   "outputs": [],
   "source": [
    "summary(cases.annotated.filtered.single.edges.TEIR.thr$value)"
   ]
  },
  {
   "cell_type": "code",
   "execution_count": null,
   "id": "e8c6bb46-e4d3-4b00-98a2-88978d525ba1",
   "metadata": {},
   "outputs": [],
   "source": [
    "summary(cases.annotated.filtered.single.edges.IRIR.thr$value)"
   ]
  },
  {
   "cell_type": "code",
   "execution_count": null,
   "id": "2a64622f-283c-4608-8e1f-894f96d21259",
   "metadata": {},
   "outputs": [],
   "source": [
    "summary(controls.annotated.filtered.single.edges.TETE.thr$value)"
   ]
  },
  {
   "cell_type": "code",
   "execution_count": null,
   "id": "2aebe91a-080e-4d83-b78c-db57d0786238",
   "metadata": {},
   "outputs": [],
   "source": [
    "summary(controls.annotated.filtered.single.edges.TEIR.thr$value)"
   ]
  },
  {
   "cell_type": "code",
   "execution_count": null,
   "id": "ae43a7b2-32b5-451f-bb50-548d695c0086",
   "metadata": {},
   "outputs": [],
   "source": [
    "summary(controls.annotated.filtered.single.edges.IRIR.thr$value)"
   ]
  },
  {
   "cell_type": "code",
   "execution_count": null,
   "id": "26065c5d",
   "metadata": {},
   "outputs": [],
   "source": [
    "write.table(cases.annotated.filtered.single.edges.thr, '/grehawi/splice-reg-prj/new-data/ARACNE/filtered_thr_cases_withNames_singleEdges.txt')\n",
    "write.table(controls.annotated.filtered.single.edges.thr, '/grehawi/splice-reg-prj/new-data/ARACNE/filtered_thr_controls_withNames_singleEdges.txt')\n"
   ]
  }
 ],
 "metadata": {
  "kernelspec": {
   "display_name": "R [conda env:r_env] *",
   "language": "R",
   "name": "conda-env-r_env-r"
  },
  "language_info": {
   "codemirror_mode": "r",
   "file_extension": ".r",
   "mimetype": "text/x-r-source",
   "name": "R",
   "pygments_lexer": "r",
   "version": "4.4.1"
  }
 },
 "nbformat": 4,
 "nbformat_minor": 5
}
