{
 "cells": [
  {
   "cell_type": "code",
   "execution_count": null,
   "id": "7086208e",
   "metadata": {
    "scrolled": true
   },
   "outputs": [],
   "source": [
    "library(ggplot2)\n",
    "library(rtracklayer)\n",
    "library(dplyr)\n",
    "library(tidyr)\n",
    "library(data.table)\n",
    "library(matrixStats)\n",
    "\n",
    "library(readxl)\n",
    "library(purrr)\n",
    "library(stringr)\n",
    "library(sva)\n",
    "library(DESeq2)\n",
    "library(vsn)\n",
    "library(hexbin)\n",
    "library(FactoMineR)\n",
    "library(factoextra)\n",
    "library(variancePartition)\n",
    "library(pheatmap)\n",
    "library(tximport)"
   ]
  },
  {
   "cell_type": "markdown",
   "id": "6b121a3b",
   "metadata": {},
   "source": [
    "## OPTIMA & BeCOME Samples Data file preprocessing"
   ]
  },
  {
   "cell_type": "code",
   "execution_count": null,
   "id": "d3d6eec9",
   "metadata": {},
   "outputs": [],
   "source": [
    "# information about plate location\n",
    "samples_information <- read.table(\"/grehawi/splice-reg-prj/data/Jonas-batchCorrection-data/01_become_optima_randomization_pheno_052020_emptyPos_jonas.txt\",\n",
    "                                 header = TRUE)\n",
    "# also load the original Excel file as it contains info about the batches in\n",
    "# which the PBMCs were handled\n",
    "sample_information_excel <- read_excel(\"/grehawi/splice-reg-prj/data/Jonas-batchCorrection-data/Ubersicht_RNA_AusPBMC_Mai2020.xlsx\",\n",
    "                                       sheet = \"Randomisierung\")\n",
    "head(samples_information)\n",
    "dim(samples_information)"
   ]
  },
  {
   "cell_type": "markdown",
   "id": "bf8ab6a2",
   "metadata": {},
   "source": [
    "The extraction batch is the same as the plate on which the samples were loaded, I’ve already have this information in the plates variable. Therefore, I only use the preparation batch info. This is the information which samples were handled together to put them onto the plate"
   ]
  },
  {
   "cell_type": "code",
   "execution_count": null,
   "id": "46fd6e68",
   "metadata": {},
   "outputs": [],
   "source": [
    "sample_information_batches <- sample_information_excel %>% \n",
    "  dplyr::select(Proband_Code, `Vorbereitung PBMC Batch`) %>% \n",
    "  dplyr::rename(preparation_pbmc_batch = `Vorbereitung PBMC Batch`,\n",
    "                ID = Proband_Code) %>% \n",
    "  tidyr::fill(preparation_pbmc_batch) %>% \n",
    "  filter(!is.na(ID))\n",
    "\n",
    "samples_information = samples_information %>% \n",
    "  left_join(sample_information_batches, by = \"ID\")"
   ]
  },
  {
   "cell_type": "code",
   "execution_count": null,
   "id": "177e03e8",
   "metadata": {},
   "outputs": [],
   "source": [
    "head(samples_information)\n",
    "dim(samples_information)\n",
    "length(unique(samples_information$ID))"
   ]
  },
  {
   "cell_type": "markdown",
   "id": "1592aaff",
   "metadata": {},
   "source": [
    "### Excluding samples\n",
    "\n",
    "- Some samples have too high CRP (>20mg/L), they get excluded.\n",
    "\n",
    "- Also, as detected in the file test_differential_expression, some samples got mixed up and the sex does not fit. I exclude these samples as well. As these samples (except one) are all on one plate in one column, I also exclude the two other samples in this column as I’m not sure if they have been mixed up as well. I can’t know this, as they are both female."
   ]
  },
  {
   "cell_type": "code",
   "execution_count": null,
   "id": "8ace8e79",
   "metadata": {},
   "outputs": [],
   "source": [
    "# IDs of sample to exclude due to high CRP\n",
    "ids_exclude_crp <- readRDS(\"/grehawi/splice-reg-prj/data/Jonas-batchCorrection-data/01_QC_hsCRP_high_CRP_excluded_ids.rds\")\n",
    "\n",
    "# IDs of samples to exclude due to mix-up\n",
    "ids_exclude_mixup <- readRDS(\"/grehawi/splice-reg-prj/data/Jonas-batchCorrection-data/sex_mismatch_id.rds\")\n",
    "# the other two samples in the same column of the other samples are\n",
    "# \"PTP0328\" and \"FOR0064\"\n",
    "# I've decided to remove the complete column where the mismatch happened\n",
    "# FOR0055 is contained 3 times because it was sequenced several times with\n",
    "# different RNA amount\n",
    "ids_exclude_mixup$ID <- c(unique(ids_exclude_mixup$ID), \"PTP0328\", \"FOR0064\")\n",
    "\n",
    "id_match <- readRDS(\"/grehawi/splice-reg-prj/data/Jonas-batchCorrection-data/matched_ids.Rds\")\n",
    "\n",
    "ids_exclude_crp <- ids_exclude_crp %>% \n",
    "  left_join(id_match, by = \"ID\")\n",
    "\n",
    "ids_exclude_mixup <- ids_exclude_mixup %>% \n",
    "  left_join(id_match, by = \"ID\")\n",
    "ids_exclude <- bind_rows(ids_exclude_crp, ids_exclude_mixup)"
   ]
  },
  {
   "cell_type": "code",
   "execution_count": null,
   "id": "be9e78de",
   "metadata": {
    "scrolled": true
   },
   "outputs": [],
   "source": [
    "id_match[id_match$ID == 'FOE0054', ]"
   ]
  },
  {
   "cell_type": "code",
   "execution_count": null,
   "id": "09dcb625",
   "metadata": {},
   "outputs": [],
   "source": [
    "samples_information = samples_information %>%\n",
    "                    left_join(id_match %>% select(ID, combined_id, library_rna_amount), by = \"ID\")\n",
    "head(samples_information)\n",
    "dim(samples_information)"
   ]
  },
  {
   "cell_type": "code",
   "execution_count": null,
   "id": "6a3e36f7",
   "metadata": {},
   "outputs": [],
   "source": [
    "samples_information_filtered = samples_information[!samples_information$combined_id %in% c(ids_exclude_crp$combined_id,\n",
    "                                                  ids_exclude_mixup$combined_id), ]\n",
    "dim(samples_information_filtered)"
   ]
  },
  {
   "cell_type": "code",
   "execution_count": null,
   "id": "219b725f",
   "metadata": {},
   "outputs": [],
   "source": [
    "length(unique(samples_information_filtered$ID))"
   ]
  },
  {
   "cell_type": "markdown",
   "id": "c7ec22b8-c277-450b-be75-8d145978ace1",
   "metadata": {},
   "source": [
    "### ADD GC content and RIN information to the samples file"
   ]
  },
  {
   "cell_type": "code",
   "execution_count": null,
   "id": "f1eae18b",
   "metadata": {},
   "outputs": [],
   "source": [
    "gc_content <- readRDS(\"/grehawi/splice-reg-prj/data/Jonas-batchCorrection-data/gc_content.Rds\")\n",
    "rin <- readRDS(\"/grehawi/splice-reg-prj/data/Jonas-batchCorrection-data/rin.rds\")\n",
    "rin <- rin %>% \n",
    "  select(ID, RIN) %>% \n",
    "  filter(!is.na(ID), !is.na(RIN)) %>% distinct(ID, .keep_all = TRUE)"
   ]
  },
  {
   "cell_type": "code",
   "execution_count": null,
   "id": "f71b2f45",
   "metadata": {},
   "outputs": [],
   "source": [
    "# add GC content to sample info\n",
    "samples_information_filtered <- samples_information_filtered %>% \n",
    "  left_join(gc_content, by = c(\"combined_id\" = \"sample_id\"))\n",
    "dim(samples_information_filtered)\n",
    "length(unique(samples_information_filtered$ID))\n",
    "\n",
    "# add RIN\n",
    "samples_information_filtered <- samples_information_filtered %>% \n",
    "  left_join(rin, by = \"ID\")\n",
    "head(samples_information_filtered)\n",
    "dim(samples_information_filtered)\n",
    "length(unique(samples_information_filtered$ID))"
   ]
  },
  {
   "cell_type": "code",
   "execution_count": null,
   "id": "ff4e60ad",
   "metadata": {},
   "outputs": [],
   "source": [
    "length(unique(samples_information_filtered$combined_id))"
   ]
  },
  {
   "cell_type": "code",
   "execution_count": null,
   "id": "c9e1025b",
   "metadata": {},
   "outputs": [],
   "source": [
    "length(unique(samples_information_filtered$ID))"
   ]
  },
  {
   "cell_type": "markdown",
   "id": "a414bb03",
   "metadata": {},
   "source": [
    "### Case/Controls Split"
   ]
  },
  {
   "cell_type": "code",
   "execution_count": null,
   "id": "4feb68be",
   "metadata": {},
   "outputs": [],
   "source": [
    "# strict controls and cases and life-time diag as split by Janine\n",
    "janine.diag.split = read.table(\"become_optima_lt_diag.txt\", header=TRUE)\n",
    "janine.diag.split = janine.diag.split %>% drop_na(ltany_di)\n",
    "head(janine.diag.split)\n",
    "dim(janine.diag.split)"
   ]
  },
  {
   "cell_type": "code",
   "execution_count": null,
   "id": "b7fa5b13",
   "metadata": {},
   "outputs": [],
   "source": [
    "# Number of controls\n",
    "dim(janine.diag.split[janine.diag.split$ltany_di == 0, ])"
   ]
  },
  {
   "cell_type": "code",
   "execution_count": null,
   "id": "7bc18d30",
   "metadata": {},
   "outputs": [],
   "source": [
    "# Number of cases\n",
    "dim(janine.diag.split[janine.diag.split$ltany_di == 2, ])"
   ]
  },
  {
   "cell_type": "code",
   "execution_count": null,
   "id": "b35d8eb5",
   "metadata": {},
   "outputs": [],
   "source": [
    "# Number of life time diag\n",
    "dim(janine.diag.split[janine.diag.split$ltany_di == 1, ])"
   ]
  },
  {
   "cell_type": "code",
   "execution_count": null,
   "id": "3a3bb661",
   "metadata": {},
   "outputs": [],
   "source": [
    "# make the splitting into 0== controls and 1==rest (only for diff analysis and batch correction)\n",
    "janine.diag.split$ltany_di[janine.diag.split$ltany_di == 2] <- 1"
   ]
  },
  {
   "cell_type": "code",
   "execution_count": null,
   "id": "4168b2cf",
   "metadata": {},
   "outputs": [],
   "source": [
    "# Join the diag table with the pheno table to create the final pheno table\n",
    "janine.diag.split.sub= janine.diag.split[, colnames(janine.diag.split) %in% c(\"ID\", \"ltany_di\")]\n",
    "dim(janine.diag.split.sub)\n",
    "samples_information_filtered = janine.diag.split.sub %>% left_join(samples_information_filtered, by=\"ID\")\n",
    "# select non NAs\n",
    "samples_information_filtered= samples_information_filtered[complete.cases(samples_information_filtered),]\n",
    "dim(samples_information_filtered)"
   ]
  },
  {
   "cell_type": "markdown",
   "id": "f781ae5c",
   "metadata": {},
   "source": [
    "### Cutadapt pairs info"
   ]
  },
  {
   "cell_type": "code",
   "execution_count": null,
   "id": "17f11736",
   "metadata": {},
   "outputs": [],
   "source": [
    "# cutadapt pairs passing the QC\n",
    "cutadapt_pairs <- read.table(\"/grehawi/splice-reg-prj/data/Jonas-batchCorrection-data/mqc_cutadapt_filtered_reads_plot_1.txt\",\n",
    "                             header = TRUE, sep = \"\\t\")\n",
    "head(cutadapt_pairs)"
   ]
  },
  {
   "cell_type": "code",
   "execution_count": null,
   "id": "0eba1e0e",
   "metadata": {},
   "outputs": [],
   "source": [
    "dim(cutadapt_pairs)"
   ]
  },
  {
   "cell_type": "code",
   "execution_count": null,
   "id": "befc1aee",
   "metadata": {},
   "outputs": [],
   "source": [
    "cutadapt_pairs_edited <- cutadapt_pairs %>% \n",
    "  mutate(sample_short = str_extract(Sample, \".+(?=_L00)\")) %>% \n",
    "  group_by(sample_short) %>% \n",
    "  summarise(total_pairs = sum(Pairs.passing.filters) )\n",
    "samples_information_filtered = samples_information_filtered %>%\n",
    "            left_join(cutadapt_pairs_edited , by = c(\"combined_id\" = \"sample_short\"))\n",
    "head(samples_information_filtered)\n",
    "dim(samples_information_filtered)"
   ]
  },
  {
   "cell_type": "markdown",
   "id": "d9d903e5-41b3-4787-9ab2-af7fbcef33af",
   "metadata": {},
   "source": [
    "### BMI info"
   ]
  },
  {
   "cell_type": "code",
   "execution_count": null,
   "id": "bffeb57c",
   "metadata": {},
   "outputs": [],
   "source": [
    "bmi <- readRDS(\"/grehawi/splice-reg-prj/data/Jonas-batchCorrection-data/bmi_observed_imputed_new.rds\")\n",
    "head(bmi)\n",
    "length(unique(bmi$ID))"
   ]
  },
  {
   "cell_type": "code",
   "execution_count": null,
   "id": "015052f3",
   "metadata": {},
   "outputs": [],
   "source": [
    "#add BMI\n",
    "samples_information_filtered_final <- samples_information_filtered %>% \n",
    "  left_join(bmi, by = \"ID\")\n",
    "head(samples_information_filtered_final)\n",
    "dim(samples_information_filtered_final)"
   ]
  },
  {
   "cell_type": "code",
   "execution_count": null,
   "id": "482e5f8e",
   "metadata": {},
   "outputs": [],
   "source": [
    "write.table(samples_information_filtered_final, \"/grehawi/splice-reg-prj/data/samples_pheno.csv\")"
   ]
  },
  {
   "cell_type": "code",
   "execution_count": null,
   "id": "70b82885",
   "metadata": {},
   "outputs": [],
   "source": [
    "length(unique(samples_information_filtered_final$ID))"
   ]
  },
  {
   "cell_type": "code",
   "execution_count": null,
   "id": "04ac94bf-3e37-4a75-af53-14b9483fb85d",
   "metadata": {},
   "outputs": [],
   "source": [
    "dim(samples_information_filtered_final[samples_information_filtered_final$ltany_di == 0,])"
   ]
  },
  {
   "cell_type": "code",
   "execution_count": null,
   "id": "c3e5abda-681c-4501-8688-29a60b2bebd6",
   "metadata": {},
   "outputs": [],
   "source": [
    "#cases including lifetime diagnosis\n",
    "dim(samples_information_filtered_final[samples_information_filtered_final$ltany_di == 1,])"
   ]
  },
  {
   "cell_type": "markdown",
   "id": "f98afd63",
   "metadata": {},
   "source": [
    "## New Data (IST samples): samples file processing"
   ]
  },
  {
   "cell_type": "code",
   "execution_count": null,
   "id": "10b69a3a",
   "metadata": {
    "scrolled": true
   },
   "outputs": [],
   "source": [
    "samples_information_newData = read.table(\"/grehawi/splice-reg-prj/new-data/RNA-seq/newData-pheno.csv\", sep=\" \",header = TRUE)\n",
    "head(samples_information_newData)"
   ]
  },
  {
   "cell_type": "code",
   "execution_count": null,
   "id": "fbcd98f6",
   "metadata": {},
   "outputs": [],
   "source": [
    "unique(samples_information_newData$Status)"
   ]
  },
  {
   "cell_type": "markdown",
   "id": "815af3cd",
   "metadata": {},
   "source": [
    "### Add Info to IST samples file :GC content and cutadapt (total_pairs)"
   ]
  },
  {
   "cell_type": "code",
   "execution_count": null,
   "id": "302960e0",
   "metadata": {},
   "outputs": [],
   "source": [
    "gc_content_newData <- readRDS(\"/grehawi/splice-reg-prj/new-data/RNA-seq/gc_content.Rds\")\n",
    "head(gc_content_newData)\n",
    "# add GC content to sample info\n",
    "samples_information_newData <- samples_information_newData %>% \n",
    "  left_join(gc_content_newData, by = c(\"Sample_Name\"))\n",
    "dim(samples_information_newData)\n",
    "length(unique(samples_information_newData$Sample_ID))"
   ]
  },
  {
   "cell_type": "code",
   "execution_count": null,
   "id": "3eb66f07",
   "metadata": {},
   "outputs": [],
   "source": [
    "# cutadapt pairs passing the QC\n",
    "cutadapt_pairs_newData <- read.table(\"/spliceReg-prj-Ghalia/MultiQC-newData/multiqc_data/mqc_cutadapt_filtered_reads_plot_1.txt\",\n",
    "                             header = TRUE, sep = \"\\t\")\n",
    "head(cutadapt_pairs_newData)\n",
    "dim(cutadapt_pairs_newData)"
   ]
  },
  {
   "cell_type": "code",
   "execution_count": null,
   "id": "10e26cbc",
   "metadata": {
    "scrolled": true
   },
   "outputs": [],
   "source": [
    "cutadapt_pairs_edited <- cutadapt_pairs_newData %>% \n",
    "  mutate(Sample_Name_Full = str_extract(Sample, \".+(?=_L00)\")) %>% \n",
    "  mutate(Sample_Name = str_extract(Sample, \".+(?=_S)\")) %>%\n",
    "  group_by(Sample_Name, Sample_Name_Full) %>% \n",
    "  summarise(total_pairs = sum(Pairs.passing.filters) )\n",
    "head(cutadapt_pairs_edited)\n",
    "samples_information_newData = samples_information_newData %>%\n",
    "            left_join(cutadapt_pairs_edited , by = c(\"Sample_Name\"))\n",
    "head(samples_information_newData)\n",
    "dim(samples_information_newData)"
   ]
  },
  {
   "cell_type": "markdown",
   "id": "d6731922",
   "metadata": {},
   "source": [
    "### Add BMI information to the samples sheet for new data"
   ]
  },
  {
   "cell_type": "code",
   "execution_count": null,
   "id": "490adf2e",
   "metadata": {},
   "outputs": [],
   "source": [
    "# in Column extra info the word 'cave' means that the values are not really accurate, in total there were 2 cave\n",
    "# 'IST0007' and 'IST0014'\n",
    "# proband IST0041 missing weight, I removed this proband when reading the file becasue it does not exist in our samples\n",
    "# --> impuate the values for the missing+inaccurate samples later\n",
    "bmi_newData <- read.table(\"/grehawi/splice-reg-prj/new-data/RNA-seq/BMI_Return_2_complete.txt\",\n",
    "                             header = TRUE, sep = \"\\t\", na.strings = \"NA\")\n",
    "bmi_newData[bmi_newData == ''] <- NA\n",
    "bmi_newData = bmi_newData %>% mutate(BMI = Weight/Height**2)\n",
    "head(bmi_newData)\n",
    "dim(bmi_newData)"
   ]
  },
  {
   "cell_type": "code",
   "execution_count": null,
   "id": "5313b95a",
   "metadata": {},
   "outputs": [],
   "source": [
    "bmi_newData = bmi_newData[bmi_newData$Probanden_Nr %in% samples_information_newData$Probanden_Nr, colnames(bmi_newData) %in% c('Probanden_Nr', 'BMI')]\n",
    "dim(bmi_newData)"
   ]
  },
  {
   "cell_type": "code",
   "execution_count": null,
   "id": "3642a7ac",
   "metadata": {},
   "outputs": [],
   "source": [
    "merged_df <- merge(samples_information_newData, bmi_newData, by = \"Probanden_Nr\", all.x = TRUE, all.y = TRUE)\n",
    "samples_information_newData$BMI <- ifelse(!is.na(merged_df$BMI.x), merged_df$BMI.x, merged_df$BMI.y)"
   ]
  },
  {
   "cell_type": "code",
   "execution_count": null,
   "id": "1c685c47",
   "metadata": {},
   "outputs": [],
   "source": [
    "bmi_na_values <- samples_information_newData[is.na(samples_information_newData$BMI),]\n",
    "bmi_na_values"
   ]
  },
  {
   "cell_type": "code",
   "execution_count": null,
   "id": "31aa9f6a",
   "metadata": {
    "scrolled": true
   },
   "outputs": [],
   "source": [
    "#Impute values for 3 probands in total IST0007, IST0014 and IST0029\n",
    "#first create a subset of the dataframe containing only the controls from which we do the imputation\n",
    "subdf = samples_information_newData[samples_information_newData$Status == 'control',]\n",
    "samples_information_newData$BMI[is.na(samples_information_newData$BMI)] <- mean(subdf$BMI, na.rm = TRUE)\n",
    "samples_information_newData$BMI[samples_information_newData$Probanden_Nr == 'IST0007'] <- mean(subdf$BMI, na.rm = TRUE)\n",
    "samples_information_newData$BMI[samples_information_newData$Probanden_Nr == 'IST0014'] <- mean(subdf$BMI, na.rm = TRUE)"
   ]
  },
  {
   "cell_type": "code",
   "execution_count": null,
   "id": "9aef20ec",
   "metadata": {},
   "outputs": [],
   "source": [
    "write.table(samples_information_newData, \"/grehawi/splice-reg-prj/new-data/RNA-seq/newData-pheno-extended.csv\")"
   ]
  },
  {
   "cell_type": "code",
   "execution_count": null,
   "id": "a9be882a",
   "metadata": {
    "scrolled": true
   },
   "outputs": [],
   "source": [
    "# samples with very low mapped reads: 23L002733,  23L002687,  23L002675,  23L002659\n",
    "# These samples are all treated with Dex and are later removed anyway from our samples\n",
    "# samples with failed gc content: 23L002666, 23L002680, 23L002722, 23L002725\n",
    "samples_faildGC_lowMapped = samples_information_newData[samples_information_newData$Sample_Name %in% c('23L002733',\n",
    "                                '23L002687', '23L002675', '23L002659', '23L002666', '23L002680', '23L002722', '23L002725'), ]\n",
    "samples_faildGC_lowMapped"
   ]
  },
  {
   "cell_type": "code",
   "execution_count": null,
   "id": "6114a999",
   "metadata": {},
   "outputs": [],
   "source": [
    "write.table(samples_faildGC_lowMapped, \"/grehawi/splice-reg-prj/new-data/RNA-seq/samples_pheno_newData_faildGC_lowMapped.csv\")"
   ]
  },
  {
   "cell_type": "markdown",
   "id": "9f312d2c",
   "metadata": {},
   "source": [
    "## Read RSEM gene estimated count using tximport pkg"
   ]
  },
  {
   "cell_type": "markdown",
   "id": "43b0e823",
   "metadata": {},
   "source": [
    "## First read transcript files"
   ]
  },
  {
   "cell_type": "code",
   "execution_count": null,
   "id": "8965e36a",
   "metadata": {
    "scrolled": true
   },
   "outputs": [],
   "source": [
    "dir = \"/spliceReg-prj-Ghalia/RSEM-ouput/RSEM-count\"\n",
    "transcript_files <- file.path(dir, paste0(samples_information_filtered_final$combined_id, \".isoforms.results\"))\n",
    "names(transcript_files) <- samples_information_filtered_final$combined_id\n",
    "txi.rsem.transcripts <- tximport(transcript_files, type = \"rsem\", txIn = TRUE, txOut = TRUE)\n",
    "head(txi.rsem.transcripts$counts)\n",
    "#head(files)"
   ]
  },
  {
   "cell_type": "code",
   "execution_count": null,
   "id": "c1216df8",
   "metadata": {
    "scrolled": true
   },
   "outputs": [],
   "source": [
    "# Abundance is the TPM proivided\n",
    "# Counts are the estimated counts from the tool (in this case fractional)\n",
    "head(txi.rsem.transcripts)"
   ]
  },
  {
   "cell_type": "code",
   "execution_count": null,
   "id": "2d429e2d",
   "metadata": {},
   "outputs": [],
   "source": [
    "dim(txi.rsem.transcripts$counts)"
   ]
  },
  {
   "cell_type": "code",
   "execution_count": null,
   "id": "ed708c21",
   "metadata": {
    "scrolled": true
   },
   "outputs": [],
   "source": [
    "tmp <- fread(transcript_files[1])\n",
    "head(tmp)\n",
    "tx2gene <- tmp[, c(\"transcript_id\", \"gene_id\")]\n",
    "head(tx2gene)"
   ]
  },
  {
   "cell_type": "code",
   "execution_count": null,
   "id": "9261da70",
   "metadata": {
    "scrolled": true
   },
   "outputs": [],
   "source": [
    "# new data\n",
    "newData_dir = \"/spliceReg-prj-Ghalia/RSEM-output-newData/RSEM-count\"\n",
    "transcript_files_newData <- file.path(newData_dir, paste0(samples_information_newData$Sample_Name_Full, \".isoforms.results\"))\n",
    "names(transcript_files_newData) <- samples_information_newData$Sample_Name_Full\n",
    "txi.rsem.transcripts.newData <- tximport(transcript_files_newData, type = \"rsem\", txIn = TRUE, txOut = TRUE)\n",
    "# head(txi.rsem.transcripts.newData$counts)"
   ]
  },
  {
   "cell_type": "code",
   "execution_count": null,
   "id": "7b670b89",
   "metadata": {},
   "outputs": [],
   "source": [
    "dim(txi.rsem.transcripts.newData$counts)"
   ]
  },
  {
   "cell_type": "code",
   "execution_count": null,
   "id": "779e0ae2",
   "metadata": {
    "scrolled": true
   },
   "outputs": [],
   "source": [
    "tmp <- fread(transcript_files_newData[1])\n",
    "head(tmp)\n",
    "tx2gene_newData <- tmp[, c(\"transcript_id\", \"gene_id\")]\n",
    "head(tx2gene_newData)\n",
    "dim(tx2gene_newData)"
   ]
  },
  {
   "cell_type": "code",
   "execution_count": null,
   "id": "527a8ff1",
   "metadata": {},
   "outputs": [],
   "source": [
    "write.table(tx2gene, \"/grehawi/splice-reg-prj/data/transcriptsID-geneID.txt\")"
   ]
  },
  {
   "cell_type": "code",
   "execution_count": null,
   "id": "1f7dea55",
   "metadata": {
    "scrolled": true
   },
   "outputs": [],
   "source": [
    "gene.files <- file.path(dir, paste0(samples_information_filtered_final$combined_id, \".genes.results\"))\n",
    "names(gene.files) <- samples_information_filtered_final$combined_id\n",
    "txi.rsem.gene <- tximport(gene.files, type = \"rsem\", txIn = FALSE, txOut = FALSE, tx2gene=tx2gene)\n",
    "head(txi.rsem.gene$counts)\n",
    "dim(txi.rsem.gene$counts)"
   ]
  },
  {
   "cell_type": "code",
   "execution_count": null,
   "id": "a72da147",
   "metadata": {
    "scrolled": true
   },
   "outputs": [],
   "source": [
    "# new Data\n",
    "gene.files.newData <- file.path(newData_dir, paste0(samples_information_newData$Sample_Name_Full, \".genes.results\"))\n",
    "names(gene.files.newData) <- samples_information_newData$Sample_Name_Full\n",
    "txi.rsem.gene.newData <- tximport(gene.files.newData, type = \"rsem\", txIn = FALSE, txOut = FALSE, tx2gene=tx2gene_newData)\n",
    "head(txi.rsem.gene.newData$counts)\n",
    "dim(txi.rsem.gene.newData$counts)"
   ]
  },
  {
   "cell_type": "code",
   "execution_count": null,
   "id": "399814a2",
   "metadata": {
    "scrolled": true
   },
   "outputs": [],
   "source": [
    "gene.f <- fread(gene.files[1])\n",
    "head(gene.f)\n",
    "gene.lengths = gene.f[, c(\"gene_id\", \"effective_length\")]\n",
    "head(gene.lengths)"
   ]
  },
  {
   "cell_type": "code",
   "execution_count": null,
   "id": "7cb3e144",
   "metadata": {},
   "outputs": [],
   "source": [
    "gene.f.newData <- fread(gene.files.newData[1])\n",
    "head(gene.f.newData)\n",
    "gene.lengths.newData = gene.f.newData[, c(\"gene_id\", \"effective_length\")]\n",
    "head(gene.lengths.newData)"
   ]
  },
  {
   "cell_type": "code",
   "execution_count": null,
   "id": "f4156e59",
   "metadata": {},
   "outputs": [],
   "source": [
    "write.table(gene.lengths, \"/grehawi/splice-reg-prj/data/gene-lenghts.txt\")"
   ]
  },
  {
   "cell_type": "code",
   "execution_count": null,
   "id": "d612c53b",
   "metadata": {},
   "outputs": [],
   "source": [
    "# are the count tables of old and new data identical in terms of gene names -> thus I can concatenate the columns \n",
    "c1 = c(rownames(txi.rsem.gene$counts))\n",
    "c2 = c(rownames(txi.rsem.gene.newData$counts))\n",
    "identical(c1,c2)\n",
    "\n",
    "c3 = c(rownames(txi.rsem.transcripts$counts))\n",
    "c4 = c(rownames(txi.rsem.transcripts.newData$counts))\n",
    "identical(c3,c4)"
   ]
  },
  {
   "cell_type": "markdown",
   "id": "6ebcee22",
   "metadata": {},
   "source": [
    "## Filter out zero-length genes/trx and also those with 0 expression across all samples "
   ]
  },
  {
   "cell_type": "code",
   "execution_count": null,
   "id": "3699d68f",
   "metadata": {},
   "outputs": [],
   "source": [
    "#filter out zero length genes\n",
    "zero_length_and_unexpressed = (apply(txi.rsem.gene$abundance, 1, max) == 0) &\n",
    "                              (apply(txi.rsem.gene$length, 1, min) == 0)\n",
    "\n",
    "txi.rsem.gene$length = txi.rsem.gene$length[!zero_length_and_unexpressed,]\n",
    "txi.rsem.gene$abundance = txi.rsem.gene$abundance[!zero_length_and_unexpressed,]\n",
    "txi.rsem.gene$counts = txi.rsem.gene$counts[!zero_length_and_unexpressed,]\n",
    "dim(txi.rsem.gene$counts)\n",
    "dim(txi.rsem.gene$length)\n",
    "dim(txi.rsem.gene$abundance)"
   ]
  },
  {
   "cell_type": "code",
   "execution_count": null,
   "id": "16ae1425",
   "metadata": {},
   "outputs": [],
   "source": [
    "#filter out zero length genes for new data\n",
    "zero_length_and_unexpressed = (apply(txi.rsem.gene.newData$abundance, 1, max) == 0) &\n",
    "                              (apply(txi.rsem.gene.newData$length, 1, min) == 0)\n",
    "\n",
    "txi.rsem.gene.newData$length = txi.rsem.gene.newData$length[!zero_length_and_unexpressed,]\n",
    "txi.rsem.gene.newData$abundance = txi.rsem.gene.newData$abundance[!zero_length_and_unexpressed,]\n",
    "txi.rsem.gene.newData$counts = txi.rsem.gene.newData$counts[!zero_length_and_unexpressed,]\n",
    "dim(txi.rsem.gene.newData$counts)\n",
    "dim(txi.rsem.gene.newData$length)\n",
    "dim(txi.rsem.gene.newData$abundance)"
   ]
  },
  {
   "cell_type": "code",
   "execution_count": null,
   "id": "2b40fb99",
   "metadata": {},
   "outputs": [],
   "source": [
    "intersect_genes = intersect(rownames(txi.rsem.gene.newData$counts), rownames(txi.rsem.gene$counts))"
   ]
  },
  {
   "cell_type": "code",
   "execution_count": null,
   "id": "081ab998",
   "metadata": {},
   "outputs": [],
   "source": [
    "#match the genes with the old data\n",
    "txi.rsem.gene.newData$counts = txi.rsem.gene.newData$counts[rownames(txi.rsem.gene.newData$counts) %in% intersect_genes,]"
   ]
  },
  {
   "cell_type": "code",
   "execution_count": null,
   "id": "982515b0",
   "metadata": {},
   "outputs": [],
   "source": [
    "#match the genes with the old data\n",
    "txi.rsem.gene$counts = txi.rsem.gene$counts[rownames(txi.rsem.gene$counts) %in% intersect_genes,]"
   ]
  },
  {
   "cell_type": "code",
   "execution_count": null,
   "id": "243691c5",
   "metadata": {},
   "outputs": [],
   "source": [
    "dim(txi.rsem.gene.newData$counts)"
   ]
  },
  {
   "cell_type": "code",
   "execution_count": null,
   "id": "982ead2b",
   "metadata": {},
   "outputs": [],
   "source": [
    "dim(txi.rsem.gene$counts)"
   ]
  },
  {
   "cell_type": "code",
   "execution_count": null,
   "id": "9ff1d1b4",
   "metadata": {},
   "outputs": [],
   "source": [
    "#filter out zero length transcripts\n",
    "zero_length_and_unexpressed = (apply(txi.rsem.transcripts$abundance, 1, max) == 0) &\n",
    "                              (apply(txi.rsem.transcripts$length, 1, min) == 0)\n",
    "\n",
    "txi.rsem.transcripts$length = txi.rsem.transcripts$length[!zero_length_and_unexpressed,]\n",
    "txi.rsem.transcripts$abundance = txi.rsem.transcripts$abundance[!zero_length_and_unexpressed,]\n",
    "txi.rsem.transcripts$counts = txi.rsem.transcripts$counts[!zero_length_and_unexpressed,]\n",
    "dim(txi.rsem.transcripts$counts)\n",
    "dim(txi.rsem.transcripts$length)\n",
    "dim(txi.rsem.transcripts$abundance)"
   ]
  },
  {
   "cell_type": "code",
   "execution_count": null,
   "id": "4ef2f0e6",
   "metadata": {},
   "outputs": [],
   "source": [
    "#filter out zero length transcripts for new data\n",
    "zero_length_and_unexpressed = (apply(txi.rsem.transcripts.newData$abundance, 1, max) == 0) &\n",
    "                              (apply(txi.rsem.transcripts.newData$length, 1, min) == 0)\n",
    "\n",
    "txi.rsem.transcripts.newData$length = txi.rsem.transcripts.newData$length[!zero_length_and_unexpressed,]\n",
    "txi.rsem.transcripts.newData$abundance = txi.rsem.transcripts.newData$abundance[!zero_length_and_unexpressed,]\n",
    "txi.rsem.transcripts.newData$counts = txi.rsem.transcripts.newData$counts[!zero_length_and_unexpressed,]\n",
    "dim(txi.rsem.transcripts.newData$counts)\n",
    "dim(txi.rsem.transcripts.newData$length)\n",
    "dim(txi.rsem.transcripts.newData$abundance)"
   ]
  },
  {
   "cell_type": "code",
   "execution_count": null,
   "id": "eef69879",
   "metadata": {},
   "outputs": [],
   "source": [
    "# save the counts of genes and txs for the new data\n",
    "write.table(txi.rsem.gene.newData$counts, '/grehawi/splice-reg-prj/new-data/RNA-seq/gene_counts_newData.matrix')\n",
    "write.table(txi.rsem.transcripts.newData$counts, '/grehawi/splice-reg-prj/new-data/RNA-seq/trx_counts_newData.matrix')"
   ]
  },
  {
   "cell_type": "code",
   "execution_count": null,
   "id": "232c154d",
   "metadata": {},
   "outputs": [],
   "source": [
    "# Concatenate the two tables on columns\n",
    "final.txi.rsem.transcripts = cbind(txi.rsem.transcripts$counts, txi.rsem.transcripts.newData$counts)\n",
    "final.txi.rsem.genes = cbind(txi.rsem.gene$counts, txi.rsem.gene.newData$counts)"
   ]
  },
  {
   "cell_type": "code",
   "execution_count": null,
   "id": "8093db4f",
   "metadata": {},
   "outputs": [],
   "source": [
    "head(final.txi.rsem.transcripts)"
   ]
  },
  {
   "cell_type": "code",
   "execution_count": null,
   "id": "360d9c4d",
   "metadata": {},
   "outputs": [],
   "source": [
    "head(final.txi.rsem.genes)"
   ]
  },
  {
   "cell_type": "markdown",
   "id": "c1ee78ca",
   "metadata": {},
   "source": [
    "## Check for Dex effect on gene expression in the new data"
   ]
  },
  {
   "cell_type": "code",
   "execution_count": null,
   "id": "dc23a876",
   "metadata": {},
   "outputs": [],
   "source": [
    "options(repr.plot.width=12, repr.plot.height=8)\n",
    "pca_gene.count <- PCA(\n",
    "  X = t(txi.rsem.gene.newData$counts),\n",
    "  ncp = 10,\n",
    "  graph = FALSE)\n",
    "\n",
    "fviz_pca_ind(pca_gene.count, \n",
    "             geom = \"text\", labelsize= 2,\n",
    "            habillage = as.factor(samples_information_newData$Dex))"
   ]
  },
  {
   "cell_type": "markdown",
   "id": "1cd9ec45",
   "metadata": {},
   "source": [
    "## Filter genes/transcripts to keep thoses with at least 10 reads in at least 95% of samples"
   ]
  },
  {
   "cell_type": "code",
   "execution_count": null,
   "id": "95de8f78",
   "metadata": {},
   "outputs": [],
   "source": [
    "# 95% of (343 +96 =439) = 417\n",
    "genes_toKeep = apply( X = final.txi.rsem.genes, MARGIN = 1, FUN = function( row, count_thrsh, min_samples){\n",
    "  sum( row >= count_thrsh ) >= min_samples\n",
    "}, count_thrsh = 10, min_samples = 417 )\n",
    "\n",
    "final.txi.rsem.genes = final.txi.rsem.genes[ genes_toKeep, ]\n",
    "dim(final.txi.rsem.genes)"
   ]
  },
  {
   "cell_type": "code",
   "execution_count": null,
   "id": "c81e1ef3",
   "metadata": {},
   "outputs": [],
   "source": [
    "transcripts_toKeep = apply( X = final.txi.rsem.transcripts, MARGIN = 1, FUN = function( row, count_thrsh, min_samples){\n",
    "  sum( row >= count_thrsh ) >= min_samples\n",
    "}, count_thrsh = 10, min_samples = 417 )\n",
    "\n",
    "final.txi.rsem.transcripts = final.txi.rsem.transcripts[transcripts_toKeep, ]\n",
    "dim(final.txi.rsem.transcripts)"
   ]
  },
  {
   "cell_type": "code",
   "execution_count": null,
   "id": "42c9a1bc",
   "metadata": {},
   "outputs": [],
   "source": [
    "write.table(final.txi.rsem.genes, '/grehawi/splice-reg-prj/new-data/RNA-seq/gene_counts_combined.matrix')"
   ]
  },
  {
   "cell_type": "code",
   "execution_count": null,
   "id": "eee30502",
   "metadata": {},
   "outputs": [],
   "source": [
    "write.table(final.txi.rsem.transcripts, '/grehawi/splice-reg-prj/new-data/RNA-seq/trx_counts_combined.matrix')"
   ]
  },
  {
   "cell_type": "code",
   "execution_count": null,
   "id": "e90ddd3b",
   "metadata": {},
   "outputs": [],
   "source": [
    "final.txi.rsem.genes = read.table('/grehawi/splice-reg-prj/new-data/RNA-seq/gene_counts_combined.matrix')"
   ]
  },
  {
   "cell_type": "code",
   "execution_count": null,
   "id": "16a96b37",
   "metadata": {},
   "outputs": [],
   "source": [
    "final.txi.rsem.transcripts = read.table('/grehawi/splice-reg-prj/new-data/RNA-seq/trx_counts_combined.matrix')"
   ]
  },
  {
   "cell_type": "code",
   "execution_count": null,
   "id": "99f5f39f",
   "metadata": {},
   "outputs": [],
   "source": [
    "head(final.txi.rsem.genes)"
   ]
  },
  {
   "cell_type": "markdown",
   "id": "63103d87",
   "metadata": {},
   "source": [
    "## Check for Dex effect on gene expression in the new data after filtering step"
   ]
  },
  {
   "cell_type": "code",
   "execution_count": null,
   "id": "c32918d8",
   "metadata": {},
   "outputs": [],
   "source": [
    "options(repr.plot.width=12, repr.plot.height=8)\n",
    "pca_gene.count <- PCA(\n",
    "  X = t(final.txi.rsem.genes[, 344:dim(final.txi.rsem.genes)[2]]),\n",
    "  ncp = 10,\n",
    "  graph = FALSE)\n",
    "\n",
    "fviz_pca_ind(pca_gene.count, \n",
    "             geom = \"text\", labelsize= 2,\n",
    "            habillage = as.factor(samples_information_newData$Dex))"
   ]
  },
  {
   "cell_type": "code",
   "execution_count": null,
   "id": "9eca1bd1",
   "metadata": {},
   "outputs": [],
   "source": [
    "# We can see a clear Dex effect hence we merge the two datasets without including DEX samples (use baseline only)\n",
    "# first add the letter 'x' to sample names becasue its been added directly to column names of the count matrices\n",
    "# by 'write.table'\n",
    "samples_information_newData$Sample_Name_Full = paste0(\"X\", samples_information_newData$Sample_Name_Full)\n",
    "\n",
    "# Now filter out Dex samples from the pheno file \n",
    "samples_information_newData_noDex = samples_information_newData[!samples_information_newData$Dex == 1, ]\n",
    "\n",
    "# Remove some unnecessary columns from the new pheno file to make it more readable \n",
    "samples_information_newData_noDex = samples_information_newData_noDex[, !colnames(samples_information_newData_noDex)\n",
    "                                                                      %in% c('Library.Protocol', 'Mergefastq', 'Read.length', 'Organism',\n",
    "                                                                             'Sample_Project', 'Sample_ID', 'sampleId', 'Genotyped')]\n"
   ]
  },
  {
   "cell_type": "code",
   "execution_count": null,
   "id": "f316b450",
   "metadata": {},
   "outputs": [],
   "source": [
    "#Common important columns that should be retained and merged for the two tables are:\n",
    "# Age, Sex, BMI, well, row, column, plate, ltany_di (control-case- status) this is equals to Status in the new pheno file\n",
    "# mean_gc_content, RIN, total_pairs\n",
    "# We can also merge ID=Probenbezeichung and Sample_Name_Full=combined_id\n",
    "\n",
    "names(samples_information_newData_noDex)[names(samples_information_newData_noDex) == \"Probenbezeichung\"] = \"ID\"\n",
    "names(samples_information_newData_noDex)[names(samples_information_newData_noDex) == \"Sample_Name_Full\"] = \"combined_id\"\n",
    "names(samples_information_newData_noDex)[names(samples_information_newData_noDex) == \"Age\"] = \"age\"\n",
    "names(samples_information_newData_noDex)[names(samples_information_newData_noDex) == \"Sex\"] = \"sex\"\n",
    "names(samples_information_newData_noDex)[names(samples_information_newData_noDex) == \"plate\"] = \"plates\"\n",
    "names(samples_information_newData_noDex)[names(samples_information_newData_noDex) == \"column\"] = \"column_newData\"\n",
    "names(samples_information_newData_noDex)[names(samples_information_newData_noDex) == \"row\"] = \"row_newData\"\n",
    "names(samples_information_newData_noDex)[names(samples_information_newData_noDex) == \"well\"] = \"well_newData\"\n",
    "names(samples_information_newData_noDex)[names(samples_information_newData_noDex) == \"Status\"] = \"ltany_di\"\n",
    "# Binarize the 'ltany_di' column\n",
    "samples_information_newData_noDex$ltany_di <- ifelse(samples_information_newData_noDex$ltany_di == 'case', 1, 0)\n",
    "\n",
    "# set the plate column to 5 to indicate an extra plate for the new sequence run\n",
    "samples_information_newData_noDex$plates = 5\n",
    "head(samples_information_newData_noDex)"
   ]
  },
  {
   "cell_type": "code",
   "execution_count": null,
   "id": "ac921eb1",
   "metadata": {},
   "outputs": [],
   "source": [
    "dim(samples_information_newData_noDex)"
   ]
  },
  {
   "cell_type": "code",
   "execution_count": null,
   "id": "4ca27342",
   "metadata": {
    "scrolled": true
   },
   "outputs": [],
   "source": [
    "samples_information_filtered_final"
   ]
  },
  {
   "cell_type": "code",
   "execution_count": null,
   "id": "a37626e2",
   "metadata": {},
   "outputs": [],
   "source": [
    "write.table(samples_information_newData_noDex, \"/grehawi/splice-reg-prj/new-data/RNA-seq/newData-pheno-extended-noDex.csv\")"
   ]
  },
  {
   "cell_type": "code",
   "execution_count": null,
   "id": "08cc90ba",
   "metadata": {},
   "outputs": [],
   "source": [
    "t = read.table(\"/grehawi/splice-reg-prj/new-data/RNA-seq/newData-pheno-extended-noDex.csv\")\n",
    "\n",
    "dim(t[t$ltany_di == 0,])"
   ]
  },
  {
   "cell_type": "code",
   "execution_count": null,
   "id": "970545ec",
   "metadata": {},
   "outputs": [],
   "source": [
    "# Add a column to the pheno file indicating the sequence-run becasue this is going to be the largest confounder\n",
    "samples_information_newData_noDex$sequence_run = 2\n",
    "samples_information_filtered_final$sequence_run = 1"
   ]
  },
  {
   "cell_type": "code",
   "execution_count": null,
   "id": "be0e4042",
   "metadata": {
    "scrolled": true
   },
   "outputs": [],
   "source": [
    "# Now concatenate the two tables row-wise based on the intersect columns\n",
    "combined_pheno <- bind_rows(samples_information_filtered_final, samples_information_newData_noDex)\n",
    "combined_pheno"
   ]
  },
  {
   "cell_type": "code",
   "execution_count": null,
   "id": "b68493b0",
   "metadata": {},
   "outputs": [],
   "source": [
    "rownames(combined_pheno) = combined_pheno$combined_id\n",
    "head(combined_pheno)"
   ]
  },
  {
   "cell_type": "code",
   "execution_count": null,
   "id": "3023d7cc",
   "metadata": {},
   "outputs": [],
   "source": [
    "write.table(combined_pheno, \"/grehawi/splice-reg-prj/new-data/RNA-seq/combined-pheno.csv\")"
   ]
  },
  {
   "cell_type": "code",
   "execution_count": null,
   "id": "fddbc9dc",
   "metadata": {},
   "outputs": [],
   "source": [
    "combined_pheno = read.table('/grehawi/splice-reg-prj/new-data/RNA-seq/combined-pheno.csv')"
   ]
  },
  {
   "cell_type": "code",
   "execution_count": null,
   "id": "43e39162",
   "metadata": {},
   "outputs": [],
   "source": [
    "# We need to remove the new added cases later in our pipeline so I save them from now\n",
    "cases_newData = samples_information_newData_noDex[samples_information_newData_noDex$ltany_di == 1, colnames(samples_information_newData_noDex) %in% c('combined_id')]"
   ]
  },
  {
   "cell_type": "code",
   "execution_count": null,
   "id": "6e236afc",
   "metadata": {},
   "outputs": [],
   "source": [
    "saveRDS(cases_newData, '/grehawi/splice-reg-prj/new-data/RNA-seq/newData-casesIDs.rds')"
   ]
  },
  {
   "cell_type": "code",
   "execution_count": null,
   "id": "8bbc6321",
   "metadata": {},
   "outputs": [],
   "source": [
    "# filter out dex samples from gene and trx count tables\n",
    "final.txi.rsem.genes = final.txi.rsem.genes[, colnames(final.txi.rsem.genes) %in% combined_pheno$combined_id]\n",
    "final.txi.rsem.transcripts = final.txi.rsem.transcripts[, colnames(final.txi.rsem.transcripts) %in% combined_pheno$combined_id]"
   ]
  },
  {
   "cell_type": "code",
   "execution_count": null,
   "id": "b2bb085d",
   "metadata": {},
   "outputs": [],
   "source": [
    "# save the counts of genes and txs for the merged data with no dex\n",
    "write.table(final.txi.rsem.genes, '/grehawi/splice-reg-prj/new-data/RNA-seq/gene_counts_combined_noDex.matrix')\n",
    "write.table(final.txi.rsem.transcripts, '/grehawi/splice-reg-prj/new-data/RNA-seq/trx_counts_combined_noDex.matrix')"
   ]
  },
  {
   "cell_type": "markdown",
   "id": "cbd89fa7",
   "metadata": {},
   "source": [
    "## Biotype analysis "
   ]
  },
  {
   "cell_type": "code",
   "execution_count": null,
   "id": "5fc33518",
   "metadata": {},
   "outputs": [],
   "source": [
    "gencode.annotation = rtracklayer::import(\"/home/grehawi/splice-reg-prj/data/Homo_sapiens.GRCh38.97.gtf\")"
   ]
  },
  {
   "cell_type": "code",
   "execution_count": null,
   "id": "b7a97036",
   "metadata": {},
   "outputs": [],
   "source": [
    "gencode.annotation.df = as.data.frame(gencode.annotation)\n",
    "head(gencode.annotation.df)"
   ]
  },
  {
   "cell_type": "code",
   "execution_count": null,
   "id": "09a8e4cd",
   "metadata": {},
   "outputs": [],
   "source": [
    "selection = c(\"type\",\"gene_id\", \"gene_name\", \"gene_biotype\", \"start\", \"end\", \"transcript_id\", \"transcript_name\", \"transcript_biotype\")\n",
    "sub.gcode.anno.df = gencode.annotation.df[, colnames(gencode.annotation.df) %in% selection]"
   ]
  },
  {
   "cell_type": "code",
   "execution_count": null,
   "id": "a703ddd6",
   "metadata": {},
   "outputs": [],
   "source": [
    "head(sub.gcode.anno.df)"
   ]
  },
  {
   "cell_type": "code",
   "execution_count": null,
   "id": "78b65bbd",
   "metadata": {},
   "outputs": [],
   "source": [
    "write.table(sub.gcode.anno.df, \"/grehawi/splice-reg-prj/new-data/subsetted_gencode_annotation.txt\")"
   ]
  }
 ],
 "metadata": {
  "kernelspec": {
   "display_name": "R [conda env:r_env] *",
   "language": "R",
   "name": "conda-env-r_env-r"
  },
  "language_info": {
   "codemirror_mode": "r",
   "file_extension": ".r",
   "mimetype": "text/x-r-source",
   "name": "R",
   "pygments_lexer": "r",
   "version": "4.4.1"
  }
 },
 "nbformat": 4,
 "nbformat_minor": 5
}
